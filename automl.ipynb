{
 "cells": [
  {
   "cell_type": "markdown",
   "metadata": {},
   "source": [
    "# Automated ML\n",
    "\n",
    "TODO: Import Dependencies. In the cell below, import all the dependencies that you will need to complete the project."
   ]
  },
  {
   "cell_type": "code",
   "execution_count": 1,
   "metadata": {
    "gather": {
     "logged": 1611751020619
    },
    "jupyter": {
     "outputs_hidden": false,
     "source_hidden": false
    },
    "nteract": {
     "transient": {
      "deleting": false
     }
    }
   },
   "outputs": [
    {
     "name": "stdout",
     "output_type": "stream",
     "text": [
      "SDK version: 1.20.0\n"
     ]
    }
   ],
   "source": [
    "import os\n",
    "import azureml\n",
    "from azureml.core.experiment import Experiment\n",
    "from azureml.core.workspace import Workspace\n",
    "from azureml.train.automl import AutoMLConfig\n",
    "from azureml.core.dataset import Dataset\n",
    "\n",
    "from azureml.core.compute import ComputeTarget, AmlCompute\n",
    "from azureml.core.compute_target import ComputeTargetException\n",
    "\n",
    "from azureml.core.model import InferenceConfig\n",
    "from azureml.core.environment import Environment\n",
    "from azureml.core.webservice import AciWebservice\n",
    "\n",
    "import requests\n",
    "import json\n",
    "\n",
    "# Check core SDK version number\n",
    "print(\"SDK version:\", azureml.core.VERSION)"
   ]
  },
  {
   "cell_type": "code",
   "execution_count": 2,
   "metadata": {
    "gather": {
     "logged": 1611751075151
    },
    "jupyter": {
     "outputs_hidden": false,
     "source_hidden": false
    },
    "nteract": {
     "transient": {
      "deleting": false
     }
    }
   },
   "outputs": [],
   "source": [
    "ws = Workspace.from_config()\n",
    "\n",
    "# Choosing a name for experiment\n",
    "experiment_name = 'AutoML-Experiment'\n",
    "\n",
    "experiment=Experiment(ws, experiment_name)\n",
    "#project_folder = './pipeline-project'\n"
   ]
  },
  {
   "cell_type": "markdown",
   "metadata": {},
   "source": [
    "# Compute Cluster"
   ]
  },
  {
   "cell_type": "code",
   "execution_count": 3,
   "metadata": {
    "gather": {
     "logged": 1611751083580
    }
   },
   "outputs": [
    {
     "name": "stdout",
     "output_type": "stream",
     "text": [
      "Found existing cluster, use it.\n",
      "Succeeded\n",
      "AmlCompute wait for completion finished\n",
      "\n",
      "Minimum number of nodes requested have been provisioned\n"
     ]
    }
   ],
   "source": [
    "cpu_cluster_name = \"cpu-cluster\"\n",
    "\n",
    "# Verifying that cluster does not exist already\n",
    "try:\n",
    "    cpu_cluster = ComputeTarget(workspace=ws, name=cpu_cluster_name)\n",
    "    print('Found existing cluster, use it.')\n",
    "except ComputeTargetException:\n",
    "    compute_config = AmlCompute.provisioning_configuration(vm_size='STANDARD_DS12_V2',\n",
    "                                                          max_nodes=4)\n",
    "    cpu_cluster = ComputeTarget.create(ws, cpu_cluster_name, compute_config)\n",
    "\n",
    "cpu_cluster.wait_for_completion(show_output=True)"
   ]
  },
  {
   "cell_type": "markdown",
   "metadata": {},
   "source": [
    "# Dataset\n",
    "\n",
    "### Overview\n",
    "TODO: In this markdown cell, give an overview of the dataset you are using. Also mention the task you will be performing.\n",
    "\n",
    "**OVERVIEW :-**\n",
    "\n",
    "In this project, I used the \"Heart Failure Prediction\" dataset from Kaggle.The dataset contains 12 clinical features of 299 patients.Here \"DEATH EVENT\" is the target variable, we need to predict the possible death event occured due to heat failure of the patients.With the help of HyperDrive and AutoML will get to know the death rates of the patients.\n",
    "\n",
    "\n",
    "**TASK :-** \n",
    "\n",
    "The task of this project is to predict the \"DEATH_EVENT\" of the patients.This problem belongs to classification category.The target variable death event is in the boolean form, with the help of two models will predict the survival rate of the patients due to heart failure.\n",
    "\n",
    "12 clinical features are :- age, anaemia, creatinine_phosphokinare, diabetes, ejection_fraction, high_blood_pressure, platelets, serum_creatinine, serum_sodium, sex, smoking, time.\n",
    "\n",
    "Target variable :- death_event\n",
    "\n",
    "\n",
    "TODO: Get data. In the cell below, write code to access the data you will be using in this project. Remember that the dataset needs to be external."
   ]
  },
  {
   "cell_type": "code",
   "execution_count": 4,
   "metadata": {
    "gather": {
     "logged": 1611751122602
    }
   },
   "outputs": [
    {
     "name": "stdout",
     "output_type": "stream",
     "text": [
      "The dataset is loaded\n"
     ]
    }
   ],
   "source": [
    "found = False\n",
    "key = \"HeartFailuredata\"\n",
    "description_text = \"To predict the survival of the patients\"\n",
    "\n",
    "if key in ws.datasets.keys(): \n",
    "        found = True\n",
    "        dataset = ws.datasets[key] \n",
    "        print(\"The dataset is loaded\")\n",
    "\n",
    "if not found:\n",
    "        # Creating Dataset and register it into Workspace\n",
    "        example_data = \"https://github.com/Sneha22SP/nd00333-capstone/blob/master/starter_file/heart_failure_clinical_records_dataset.csv\"\n",
    "        dataset = Dataset.Tabular.from_delimited_files(example_data)        \n",
    "        # Registering Dataset in Workspace\n",
    "        dataset = dataset.register(workspace=ws,\n",
    "                                   name=key,\n",
    "                                   description=description_text)"
   ]
  },
  {
   "cell_type": "code",
   "execution_count": 5,
   "metadata": {
    "gather": {
     "logged": 1611751133399
    }
   },
   "outputs": [
    {
     "data": {
      "text/html": [
       "<div>\n",
       "<style scoped>\n",
       "    .dataframe tbody tr th:only-of-type {\n",
       "        vertical-align: middle;\n",
       "    }\n",
       "\n",
       "    .dataframe tbody tr th {\n",
       "        vertical-align: top;\n",
       "    }\n",
       "\n",
       "    .dataframe thead th {\n",
       "        text-align: right;\n",
       "    }\n",
       "</style>\n",
       "<table border=\"1\" class=\"dataframe\">\n",
       "  <thead>\n",
       "    <tr style=\"text-align: right;\">\n",
       "      <th></th>\n",
       "      <th>age</th>\n",
       "      <th>anaemia</th>\n",
       "      <th>creatinine_phosphokinase</th>\n",
       "      <th>diabetes</th>\n",
       "      <th>ejection_fraction</th>\n",
       "      <th>high_blood_pressure</th>\n",
       "      <th>platelets</th>\n",
       "      <th>serum_creatinine</th>\n",
       "      <th>serum_sodium</th>\n",
       "      <th>sex</th>\n",
       "      <th>smoking</th>\n",
       "      <th>time</th>\n",
       "      <th>DEATH_EVENT</th>\n",
       "    </tr>\n",
       "  </thead>\n",
       "  <tbody>\n",
       "    <tr>\n",
       "      <th>0</th>\n",
       "      <td>75.0</td>\n",
       "      <td>0</td>\n",
       "      <td>582</td>\n",
       "      <td>0</td>\n",
       "      <td>20</td>\n",
       "      <td>1</td>\n",
       "      <td>265000.00</td>\n",
       "      <td>1.9</td>\n",
       "      <td>130</td>\n",
       "      <td>1</td>\n",
       "      <td>0</td>\n",
       "      <td>4</td>\n",
       "      <td>1</td>\n",
       "    </tr>\n",
       "    <tr>\n",
       "      <th>1</th>\n",
       "      <td>55.0</td>\n",
       "      <td>0</td>\n",
       "      <td>7861</td>\n",
       "      <td>0</td>\n",
       "      <td>38</td>\n",
       "      <td>0</td>\n",
       "      <td>263358.03</td>\n",
       "      <td>1.1</td>\n",
       "      <td>136</td>\n",
       "      <td>1</td>\n",
       "      <td>0</td>\n",
       "      <td>6</td>\n",
       "      <td>1</td>\n",
       "    </tr>\n",
       "    <tr>\n",
       "      <th>2</th>\n",
       "      <td>65.0</td>\n",
       "      <td>0</td>\n",
       "      <td>146</td>\n",
       "      <td>0</td>\n",
       "      <td>20</td>\n",
       "      <td>0</td>\n",
       "      <td>162000.00</td>\n",
       "      <td>1.3</td>\n",
       "      <td>129</td>\n",
       "      <td>1</td>\n",
       "      <td>1</td>\n",
       "      <td>7</td>\n",
       "      <td>1</td>\n",
       "    </tr>\n",
       "    <tr>\n",
       "      <th>3</th>\n",
       "      <td>50.0</td>\n",
       "      <td>1</td>\n",
       "      <td>111</td>\n",
       "      <td>0</td>\n",
       "      <td>20</td>\n",
       "      <td>0</td>\n",
       "      <td>210000.00</td>\n",
       "      <td>1.9</td>\n",
       "      <td>137</td>\n",
       "      <td>1</td>\n",
       "      <td>0</td>\n",
       "      <td>7</td>\n",
       "      <td>1</td>\n",
       "    </tr>\n",
       "    <tr>\n",
       "      <th>4</th>\n",
       "      <td>65.0</td>\n",
       "      <td>1</td>\n",
       "      <td>160</td>\n",
       "      <td>1</td>\n",
       "      <td>20</td>\n",
       "      <td>0</td>\n",
       "      <td>327000.00</td>\n",
       "      <td>2.7</td>\n",
       "      <td>116</td>\n",
       "      <td>0</td>\n",
       "      <td>0</td>\n",
       "      <td>8</td>\n",
       "      <td>1</td>\n",
       "    </tr>\n",
       "  </tbody>\n",
       "</table>\n",
       "</div>"
      ],
      "text/plain": [
       "    age  anaemia  creatinine_phosphokinase  diabetes  ejection_fraction  \\\n",
       "0  75.0        0                       582         0                 20   \n",
       "1  55.0        0                      7861         0                 38   \n",
       "2  65.0        0                       146         0                 20   \n",
       "3  50.0        1                       111         0                 20   \n",
       "4  65.0        1                       160         1                 20   \n",
       "\n",
       "   high_blood_pressure  platelets  serum_creatinine  serum_sodium  sex  \\\n",
       "0                    1  265000.00               1.9           130    1   \n",
       "1                    0  263358.03               1.1           136    1   \n",
       "2                    0  162000.00               1.3           129    1   \n",
       "3                    0  210000.00               1.9           137    1   \n",
       "4                    0  327000.00               2.7           116    0   \n",
       "\n",
       "   smoking  time  DEATH_EVENT  \n",
       "0        0     4            1  \n",
       "1        0     6            1  \n",
       "2        1     7            1  \n",
       "3        0     7            1  \n",
       "4        0     8            1  "
      ]
     },
     "execution_count": 5,
     "metadata": {},
     "output_type": "execute_result"
    }
   ],
   "source": [
    "dataset.take(5).to_pandas_dataframe()"
   ]
  },
  {
   "cell_type": "code",
   "execution_count": 6,
   "metadata": {
    "gather": {
     "logged": 1611751138296
    }
   },
   "outputs": [
    {
     "data": {
      "text/html": [
       "<div>\n",
       "<style scoped>\n",
       "    .dataframe tbody tr th:only-of-type {\n",
       "        vertical-align: middle;\n",
       "    }\n",
       "\n",
       "    .dataframe tbody tr th {\n",
       "        vertical-align: top;\n",
       "    }\n",
       "\n",
       "    .dataframe thead th {\n",
       "        text-align: right;\n",
       "    }\n",
       "</style>\n",
       "<table border=\"1\" class=\"dataframe\">\n",
       "  <thead>\n",
       "    <tr style=\"text-align: right;\">\n",
       "      <th></th>\n",
       "      <th>age</th>\n",
       "      <th>anaemia</th>\n",
       "      <th>creatinine_phosphokinase</th>\n",
       "      <th>diabetes</th>\n",
       "      <th>ejection_fraction</th>\n",
       "      <th>high_blood_pressure</th>\n",
       "      <th>platelets</th>\n",
       "      <th>serum_creatinine</th>\n",
       "      <th>serum_sodium</th>\n",
       "      <th>sex</th>\n",
       "      <th>smoking</th>\n",
       "      <th>time</th>\n",
       "      <th>DEATH_EVENT</th>\n",
       "    </tr>\n",
       "  </thead>\n",
       "  <tbody>\n",
       "    <tr>\n",
       "      <th>count</th>\n",
       "      <td>299.000000</td>\n",
       "      <td>299.000000</td>\n",
       "      <td>299.000000</td>\n",
       "      <td>299.000000</td>\n",
       "      <td>299.000000</td>\n",
       "      <td>299.000000</td>\n",
       "      <td>299.000000</td>\n",
       "      <td>299.00000</td>\n",
       "      <td>299.000000</td>\n",
       "      <td>299.000000</td>\n",
       "      <td>299.00000</td>\n",
       "      <td>299.000000</td>\n",
       "      <td>299.00000</td>\n",
       "    </tr>\n",
       "    <tr>\n",
       "      <th>mean</th>\n",
       "      <td>60.833893</td>\n",
       "      <td>0.431438</td>\n",
       "      <td>581.839465</td>\n",
       "      <td>0.418060</td>\n",
       "      <td>38.083612</td>\n",
       "      <td>0.351171</td>\n",
       "      <td>263358.029264</td>\n",
       "      <td>1.39388</td>\n",
       "      <td>136.625418</td>\n",
       "      <td>0.648829</td>\n",
       "      <td>0.32107</td>\n",
       "      <td>130.260870</td>\n",
       "      <td>0.32107</td>\n",
       "    </tr>\n",
       "    <tr>\n",
       "      <th>std</th>\n",
       "      <td>11.894809</td>\n",
       "      <td>0.496107</td>\n",
       "      <td>970.287881</td>\n",
       "      <td>0.494067</td>\n",
       "      <td>11.834841</td>\n",
       "      <td>0.478136</td>\n",
       "      <td>97804.236869</td>\n",
       "      <td>1.03451</td>\n",
       "      <td>4.412477</td>\n",
       "      <td>0.478136</td>\n",
       "      <td>0.46767</td>\n",
       "      <td>77.614208</td>\n",
       "      <td>0.46767</td>\n",
       "    </tr>\n",
       "    <tr>\n",
       "      <th>min</th>\n",
       "      <td>40.000000</td>\n",
       "      <td>0.000000</td>\n",
       "      <td>23.000000</td>\n",
       "      <td>0.000000</td>\n",
       "      <td>14.000000</td>\n",
       "      <td>0.000000</td>\n",
       "      <td>25100.000000</td>\n",
       "      <td>0.50000</td>\n",
       "      <td>113.000000</td>\n",
       "      <td>0.000000</td>\n",
       "      <td>0.00000</td>\n",
       "      <td>4.000000</td>\n",
       "      <td>0.00000</td>\n",
       "    </tr>\n",
       "    <tr>\n",
       "      <th>25%</th>\n",
       "      <td>51.000000</td>\n",
       "      <td>0.000000</td>\n",
       "      <td>116.500000</td>\n",
       "      <td>0.000000</td>\n",
       "      <td>30.000000</td>\n",
       "      <td>0.000000</td>\n",
       "      <td>212500.000000</td>\n",
       "      <td>0.90000</td>\n",
       "      <td>134.000000</td>\n",
       "      <td>0.000000</td>\n",
       "      <td>0.00000</td>\n",
       "      <td>73.000000</td>\n",
       "      <td>0.00000</td>\n",
       "    </tr>\n",
       "    <tr>\n",
       "      <th>50%</th>\n",
       "      <td>60.000000</td>\n",
       "      <td>0.000000</td>\n",
       "      <td>250.000000</td>\n",
       "      <td>0.000000</td>\n",
       "      <td>38.000000</td>\n",
       "      <td>0.000000</td>\n",
       "      <td>262000.000000</td>\n",
       "      <td>1.10000</td>\n",
       "      <td>137.000000</td>\n",
       "      <td>1.000000</td>\n",
       "      <td>0.00000</td>\n",
       "      <td>115.000000</td>\n",
       "      <td>0.00000</td>\n",
       "    </tr>\n",
       "    <tr>\n",
       "      <th>75%</th>\n",
       "      <td>70.000000</td>\n",
       "      <td>1.000000</td>\n",
       "      <td>582.000000</td>\n",
       "      <td>1.000000</td>\n",
       "      <td>45.000000</td>\n",
       "      <td>1.000000</td>\n",
       "      <td>303500.000000</td>\n",
       "      <td>1.40000</td>\n",
       "      <td>140.000000</td>\n",
       "      <td>1.000000</td>\n",
       "      <td>1.00000</td>\n",
       "      <td>203.000000</td>\n",
       "      <td>1.00000</td>\n",
       "    </tr>\n",
       "    <tr>\n",
       "      <th>max</th>\n",
       "      <td>95.000000</td>\n",
       "      <td>1.000000</td>\n",
       "      <td>7861.000000</td>\n",
       "      <td>1.000000</td>\n",
       "      <td>80.000000</td>\n",
       "      <td>1.000000</td>\n",
       "      <td>850000.000000</td>\n",
       "      <td>9.40000</td>\n",
       "      <td>148.000000</td>\n",
       "      <td>1.000000</td>\n",
       "      <td>1.00000</td>\n",
       "      <td>285.000000</td>\n",
       "      <td>1.00000</td>\n",
       "    </tr>\n",
       "  </tbody>\n",
       "</table>\n",
       "</div>"
      ],
      "text/plain": [
       "              age     anaemia  creatinine_phosphokinase    diabetes  \\\n",
       "count  299.000000  299.000000                299.000000  299.000000   \n",
       "mean    60.833893    0.431438                581.839465    0.418060   \n",
       "std     11.894809    0.496107                970.287881    0.494067   \n",
       "min     40.000000    0.000000                 23.000000    0.000000   \n",
       "25%     51.000000    0.000000                116.500000    0.000000   \n",
       "50%     60.000000    0.000000                250.000000    0.000000   \n",
       "75%     70.000000    1.000000                582.000000    1.000000   \n",
       "max     95.000000    1.000000               7861.000000    1.000000   \n",
       "\n",
       "       ejection_fraction  high_blood_pressure      platelets  \\\n",
       "count         299.000000           299.000000     299.000000   \n",
       "mean           38.083612             0.351171  263358.029264   \n",
       "std            11.834841             0.478136   97804.236869   \n",
       "min            14.000000             0.000000   25100.000000   \n",
       "25%            30.000000             0.000000  212500.000000   \n",
       "50%            38.000000             0.000000  262000.000000   \n",
       "75%            45.000000             1.000000  303500.000000   \n",
       "max            80.000000             1.000000  850000.000000   \n",
       "\n",
       "       serum_creatinine  serum_sodium         sex    smoking        time  \\\n",
       "count         299.00000    299.000000  299.000000  299.00000  299.000000   \n",
       "mean            1.39388    136.625418    0.648829    0.32107  130.260870   \n",
       "std             1.03451      4.412477    0.478136    0.46767   77.614208   \n",
       "min             0.50000    113.000000    0.000000    0.00000    4.000000   \n",
       "25%             0.90000    134.000000    0.000000    0.00000   73.000000   \n",
       "50%             1.10000    137.000000    1.000000    0.00000  115.000000   \n",
       "75%             1.40000    140.000000    1.000000    1.00000  203.000000   \n",
       "max             9.40000    148.000000    1.000000    1.00000  285.000000   \n",
       "\n",
       "       DEATH_EVENT  \n",
       "count    299.00000  \n",
       "mean       0.32107  \n",
       "std        0.46767  \n",
       "min        0.00000  \n",
       "25%        0.00000  \n",
       "50%        0.00000  \n",
       "75%        1.00000  \n",
       "max        1.00000  "
      ]
     },
     "execution_count": 6,
     "metadata": {},
     "output_type": "execute_result"
    }
   ],
   "source": [
    "df = dataset.to_pandas_dataframe()\n",
    "df.describe()"
   ]
  },
  {
   "cell_type": "code",
   "execution_count": 7,
   "metadata": {
    "gather": {
     "logged": 1611751149085
    }
   },
   "outputs": [
    {
     "data": {
      "text/html": [
       "<div>\n",
       "<style scoped>\n",
       "    .dataframe tbody tr th:only-of-type {\n",
       "        vertical-align: middle;\n",
       "    }\n",
       "\n",
       "    .dataframe tbody tr th {\n",
       "        vertical-align: top;\n",
       "    }\n",
       "\n",
       "    .dataframe thead th {\n",
       "        text-align: right;\n",
       "    }\n",
       "</style>\n",
       "<table border=\"1\" class=\"dataframe\">\n",
       "  <thead>\n",
       "    <tr style=\"text-align: right;\">\n",
       "      <th></th>\n",
       "      <th>age</th>\n",
       "      <th>anaemia</th>\n",
       "      <th>creatinine_phosphokinase</th>\n",
       "      <th>diabetes</th>\n",
       "      <th>ejection_fraction</th>\n",
       "      <th>high_blood_pressure</th>\n",
       "      <th>platelets</th>\n",
       "      <th>serum_creatinine</th>\n",
       "      <th>serum_sodium</th>\n",
       "      <th>sex</th>\n",
       "      <th>smoking</th>\n",
       "      <th>time</th>\n",
       "      <th>DEATH_EVENT</th>\n",
       "    </tr>\n",
       "  </thead>\n",
       "  <tbody>\n",
       "  </tbody>\n",
       "</table>\n",
       "</div>"
      ],
      "text/plain": [
       "Empty DataFrame\n",
       "Columns: [age, anaemia, creatinine_phosphokinase, diabetes, ejection_fraction, high_blood_pressure, platelets, serum_creatinine, serum_sodium, sex, smoking, time, DEATH_EVENT]\n",
       "Index: []"
      ]
     },
     "execution_count": 7,
     "metadata": {},
     "output_type": "execute_result"
    }
   ],
   "source": [
    "df[df.isnull().any(axis=1)]"
   ]
  },
  {
   "cell_type": "code",
   "execution_count": 8,
   "metadata": {
    "gather": {
     "logged": 1611751152729
    }
   },
   "outputs": [
    {
     "data": {
      "text/plain": [
       "0    203\n",
       "1     96\n",
       "Name: DEATH_EVENT, dtype: int64"
      ]
     },
     "execution_count": 8,
     "metadata": {},
     "output_type": "execute_result"
    }
   ],
   "source": [
    "df[\"DEATH_EVENT\"].value_counts()"
   ]
  },
  {
   "cell_type": "markdown",
   "metadata": {},
   "source": [
    "## AutoML Configuration\n",
    "\n",
    "TODO: Explain why you chose the automl settings and cofiguration you used below.\n",
    "\n",
    "automl settings: experiment_timeout_minutes - maximum amount of time the experiment can take. I set 20 minutes to save time. \n",
    "max_concurrent_iterations - maximum number of parallel runs executed on a Automl Compute cluster.As it should be less than or equal to the number of nodes (5) I set when creating the compute cluster, it is set to 5. The primary metric is Under the Curve Weighted, **AUC_weighted**, to deal with class imbalance as The AUC is an estimate of the probability that a classifier will rank a randomly chosen positive instance higher than a randomly chosen negative instance. For this reason, the AUC is widely thought to be a better measure than a classification error rate based upon a single prior probability or KS statistic threshold.\n",
    "\n",
    "AutoMLConfig: This is a binary classification task. Heart Failure \"dataset\" is imported earlier from the registered dataset in Azure Workspace. The target variable which we need to peredict in this experiment is \"DEATH_EVENT\". To save time and resources, the enable_early_stopping parameter is set to True.\n"
   ]
  },
  {
   "cell_type": "code",
   "execution_count": 9,
   "metadata": {
    "gather": {
     "logged": 1611751227386
    },
    "jupyter": {
     "outputs_hidden": false,
     "source_hidden": false
    },
    "nteract": {
     "transient": {
      "deleting": false
     }
    }
   },
   "outputs": [],
   "source": [
    "# TODO: Put your automl settings here\n",
    "automl_settings = {\n",
    "    \"experiment_timeout_minutes\": 20,\n",
    "    \"max_concurrent_iterations\": 5,\n",
    "    \"primary_metric\" : 'AUC_weighted'\n",
    "}\n",
    "\n",
    "# TODO: Put your automl config here\n",
    "automl_config = AutoMLConfig(compute_target=cpu_cluster,\n",
    "                             task = \"classification\",\n",
    "                             training_data=dataset,\n",
    "                             label_column_name=\"DEATH_EVENT\",   \n",
    "                             enable_early_stopping= True,\n",
    "                             featurization= 'auto',\n",
    "                             debug_log = \"automl_errors.log\",\n",
    "                             **automl_settings\n",
    "                            )\n"
   ]
  },
  {
   "cell_type": "code",
   "execution_count": 10,
   "metadata": {
    "gather": {
     "logged": 1611751237386
    },
    "jupyter": {
     "outputs_hidden": false,
     "source_hidden": false
    },
    "nteract": {
     "transient": {
      "deleting": false
     }
    }
   },
   "outputs": [
    {
     "name": "stdout",
     "output_type": "stream",
     "text": [
      "Running on remote.\n"
     ]
    }
   ],
   "source": [
    "# TODO: Submit your experiment\n",
    "automl_run = experiment.submit(automl_config)"
   ]
  },
  {
   "cell_type": "markdown",
   "metadata": {},
   "source": [
    "## Run Details\n",
    "\n",
    "\n",
    "TODO: In the cell below, use the `RunDetails` widget to show the different experiments."
   ]
  },
  {
   "cell_type": "code",
   "execution_count": 11,
   "metadata": {
    "gather": {
     "logged": 1598431121770
    },
    "jupyter": {
     "outputs_hidden": false,
     "source_hidden": false
    },
    "nteract": {
     "transient": {
      "deleting": false
     }
    },
    "scrolled": false
   },
   "outputs": [
    {
     "data": {
      "application/vnd.jupyter.widget-view+json": {
       "model_id": "2b74aedb7e054550b1fe8bc8bc77e698",
       "version_major": 2,
       "version_minor": 0
      },
      "text/plain": [
       "_AutoMLWidget(widget_settings={'childWidgetDisplay': 'popup', 'send_telemetry': False, 'log_level': 'INFO', 's…"
      ]
     },
     "metadata": {},
     "output_type": "display_data"
    },
    {
     "data": {
      "application/aml.mini.widget.v1": "{\"status\": \"Completed\", \"workbench_run_details_uri\": \"https://ml.azure.com/experiments/AutoML-Experiment/runs/AutoML_40e1c0a8-d132-4964-879c-fc7387625e0c?wsid=/subscriptions/61c5c3f0-6dc7-4ed9-a7f3-c704b20e3b30/resourcegroups/aml-quickstarts-138239/workspaces/quick-starts-ws-138239\", \"run_id\": \"AutoML_40e1c0a8-d132-4964-879c-fc7387625e0c\", \"run_properties\": {\"run_id\": \"AutoML_40e1c0a8-d132-4964-879c-fc7387625e0c\", \"created_utc\": \"2021-02-09T08:04:21.077739Z\", \"properties\": {\"num_iterations\": \"1000\", \"training_type\": \"TrainFull\", \"acquisition_function\": \"EI\", \"primary_metric\": \"AUC_weighted\", \"train_split\": \"0\", \"acquisition_parameter\": \"0\", \"num_cross_validation\": null, \"target\": \"cpu-cluster\", \"AMLSettingsJsonString\": \"{\\\"path\\\":null,\\\"name\\\":\\\"AutoML-Experiment\\\",\\\"subscription_id\\\":\\\"61c5c3f0-6dc7-4ed9-a7f3-c704b20e3b30\\\",\\\"resource_group\\\":\\\"aml-quickstarts-138239\\\",\\\"workspace_name\\\":\\\"quick-starts-ws-138239\\\",\\\"region\\\":\\\"southcentralus\\\",\\\"compute_target\\\":\\\"cpu-cluster\\\",\\\"spark_service\\\":null,\\\"azure_service\\\":\\\"remote\\\",\\\"many_models\\\":false,\\\"pipeline_fetch_max_batch_size\\\":1,\\\"iterations\\\":1000,\\\"primary_metric\\\":\\\"AUC_weighted\\\",\\\"task_type\\\":\\\"classification\\\",\\\"data_script\\\":null,\\\"validation_size\\\":0.0,\\\"n_cross_validations\\\":null,\\\"y_min\\\":null,\\\"y_max\\\":null,\\\"num_classes\\\":null,\\\"featurization\\\":\\\"auto\\\",\\\"_ignore_package_version_incompatibilities\\\":false,\\\"is_timeseries\\\":false,\\\"max_cores_per_iteration\\\":1,\\\"max_concurrent_iterations\\\":5,\\\"iteration_timeout_minutes\\\":null,\\\"mem_in_mb\\\":null,\\\"enforce_time_on_windows\\\":false,\\\"experiment_timeout_minutes\\\":20,\\\"experiment_exit_score\\\":null,\\\"whitelist_models\\\":null,\\\"blacklist_algos\\\":[\\\"TensorFlowLinearClassifier\\\",\\\"TensorFlowDNN\\\"],\\\"supported_models\\\":[\\\"LinearSVM\\\",\\\"RandomForest\\\",\\\"KNN\\\",\\\"SVM\\\",\\\"TensorFlowDNN\\\",\\\"AveragedPerceptronClassifier\\\",\\\"BernoulliNaiveBayes\\\",\\\"SGD\\\",\\\"XGBoostClassifier\\\",\\\"ExtremeRandomTrees\\\",\\\"LightGBM\\\",\\\"DecisionTree\\\",\\\"TensorFlowLinearClassifier\\\",\\\"GradientBoosting\\\",\\\"LogisticRegression\\\",\\\"MultinomialNaiveBayes\\\"],\\\"auto_blacklist\\\":true,\\\"blacklist_samples_reached\\\":false,\\\"exclude_nan_labels\\\":true,\\\"verbosity\\\":20,\\\"_debug_log\\\":\\\"azureml_automl.log\\\",\\\"show_warnings\\\":false,\\\"model_explainability\\\":true,\\\"service_url\\\":null,\\\"sdk_url\\\":null,\\\"sdk_packages\\\":null,\\\"enable_onnx_compatible_models\\\":false,\\\"enable_split_onnx_featurizer_estimator_models\\\":false,\\\"vm_type\\\":\\\"STANDARD_DS12_V2\\\",\\\"telemetry_verbosity\\\":20,\\\"send_telemetry\\\":true,\\\"enable_dnn\\\":false,\\\"scenario\\\":\\\"SDK-1.13.0\\\",\\\"environment_label\\\":null,\\\"force_text_dnn\\\":false,\\\"enable_feature_sweeping\\\":true,\\\"enable_early_stopping\\\":true,\\\"early_stopping_n_iters\\\":10,\\\"metrics\\\":null,\\\"enable_ensembling\\\":true,\\\"enable_stack_ensembling\\\":true,\\\"ensemble_iterations\\\":15,\\\"enable_tf\\\":false,\\\"enable_subsampling\\\":null,\\\"subsample_seed\\\":null,\\\"enable_nimbusml\\\":false,\\\"enable_streaming\\\":false,\\\"force_streaming\\\":false,\\\"track_child_runs\\\":true,\\\"allowed_private_models\\\":[],\\\"label_column_name\\\":\\\"DEATH_EVENT\\\",\\\"weight_column_name\\\":null,\\\"cv_split_column_names\\\":null,\\\"enable_local_managed\\\":false,\\\"_local_managed_run_id\\\":null,\\\"cost_mode\\\":1,\\\"lag_length\\\":0,\\\"metric_operation\\\":\\\"maximize\\\",\\\"preprocess\\\":true}\", \"DataPrepJsonString\": \"{\\\\\\\"training_data\\\\\\\": \\\\\\\"{\\\\\\\\\\\\\\\"blocks\\\\\\\\\\\\\\\": [{\\\\\\\\\\\\\\\"id\\\\\\\\\\\\\\\": \\\\\\\\\\\\\\\"17c24fd5-f0c8-44ad-b34f-35a275bb0c97\\\\\\\\\\\\\\\", \\\\\\\\\\\\\\\"type\\\\\\\\\\\\\\\": \\\\\\\\\\\\\\\"Microsoft.DPrep.GetDatastoreFilesBlock\\\\\\\\\\\\\\\", \\\\\\\\\\\\\\\"arguments\\\\\\\\\\\\\\\": {\\\\\\\\\\\\\\\"datastores\\\\\\\\\\\\\\\": [{\\\\\\\\\\\\\\\"datastoreName\\\\\\\\\\\\\\\": \\\\\\\\\\\\\\\"workspaceblobstore\\\\\\\\\\\\\\\", \\\\\\\\\\\\\\\"path\\\\\\\\\\\\\\\": \\\\\\\\\\\\\\\"UI/02-09-2021_071124_UTC/heart_failure_clinical_records_dataset.csv\\\\\\\\\\\\\\\", \\\\\\\\\\\\\\\"resourceGroup\\\\\\\\\\\\\\\": \\\\\\\\\\\\\\\"aml-quickstarts-138239\\\\\\\\\\\\\\\", \\\\\\\\\\\\\\\"subscription\\\\\\\\\\\\\\\": \\\\\\\\\\\\\\\"61c5c3f0-6dc7-4ed9-a7f3-c704b20e3b30\\\\\\\\\\\\\\\", \\\\\\\\\\\\\\\"workspaceName\\\\\\\\\\\\\\\": \\\\\\\\\\\\\\\"quick-starts-ws-138239\\\\\\\\\\\\\\\"}]}, \\\\\\\\\\\\\\\"localData\\\\\\\\\\\\\\\": {}, \\\\\\\\\\\\\\\"isEnabled\\\\\\\\\\\\\\\": true, \\\\\\\\\\\\\\\"name\\\\\\\\\\\\\\\": null, \\\\\\\\\\\\\\\"annotation\\\\\\\\\\\\\\\": null}, {\\\\\\\\\\\\\\\"id\\\\\\\\\\\\\\\": \\\\\\\\\\\\\\\"851af99b-a216-4de6-a577-ad0744c73674\\\\\\\\\\\\\\\", \\\\\\\\\\\\\\\"type\\\\\\\\\\\\\\\": \\\\\\\\\\\\\\\"Microsoft.DPrep.ParseDelimitedBlock\\\\\\\\\\\\\\\", \\\\\\\\\\\\\\\"arguments\\\\\\\\\\\\\\\": {\\\\\\\\\\\\\\\"columnHeadersMode\\\\\\\\\\\\\\\": 1, \\\\\\\\\\\\\\\"fileEncoding\\\\\\\\\\\\\\\": 0, \\\\\\\\\\\\\\\"handleQuotedLineBreaks\\\\\\\\\\\\\\\": false, \\\\\\\\\\\\\\\"preview\\\\\\\\\\\\\\\": false, \\\\\\\\\\\\\\\"separator\\\\\\\\\\\\\\\": \\\\\\\\\\\\\\\",\\\\\\\\\\\\\\\", \\\\\\\\\\\\\\\"skipRows\\\\\\\\\\\\\\\": 0, \\\\\\\\\\\\\\\"skipRowsMode\\\\\\\\\\\\\\\": 0}, \\\\\\\\\\\\\\\"localData\\\\\\\\\\\\\\\": {}, \\\\\\\\\\\\\\\"isEnabled\\\\\\\\\\\\\\\": true, \\\\\\\\\\\\\\\"name\\\\\\\\\\\\\\\": null, \\\\\\\\\\\\\\\"annotation\\\\\\\\\\\\\\\": null}, {\\\\\\\\\\\\\\\"id\\\\\\\\\\\\\\\": \\\\\\\\\\\\\\\"329b661e-b17b-40eb-af61-9f608d3398aa\\\\\\\\\\\\\\\", \\\\\\\\\\\\\\\"type\\\\\\\\\\\\\\\": \\\\\\\\\\\\\\\"Microsoft.DPrep.DropColumnsBlock\\\\\\\\\\\\\\\", \\\\\\\\\\\\\\\"arguments\\\\\\\\\\\\\\\": {\\\\\\\\\\\\\\\"columns\\\\\\\\\\\\\\\": {\\\\\\\\\\\\\\\"type\\\\\\\\\\\\\\\": 0, \\\\\\\\\\\\\\\"details\\\\\\\\\\\\\\\": {\\\\\\\\\\\\\\\"selectedColumns\\\\\\\\\\\\\\\": [\\\\\\\\\\\\\\\"Path\\\\\\\\\\\\\\\"]}}}, \\\\\\\\\\\\\\\"localData\\\\\\\\\\\\\\\": {}, \\\\\\\\\\\\\\\"isEnabled\\\\\\\\\\\\\\\": true, \\\\\\\\\\\\\\\"name\\\\\\\\\\\\\\\": null, \\\\\\\\\\\\\\\"annotation\\\\\\\\\\\\\\\": null}, {\\\\\\\\\\\\\\\"id\\\\\\\\\\\\\\\": \\\\\\\\\\\\\\\"f3c2f666-bffe-400c-9e10-71f00026a9f2\\\\\\\\\\\\\\\", \\\\\\\\\\\\\\\"type\\\\\\\\\\\\\\\": \\\\\\\\\\\\\\\"Microsoft.DPrep.SetColumnTypesBlock\\\\\\\\\\\\\\\", \\\\\\\\\\\\\\\"arguments\\\\\\\\\\\\\\\": {\\\\\\\\\\\\\\\"columnConversion\\\\\\\\\\\\\\\": [{\\\\\\\\\\\\\\\"column\\\\\\\\\\\\\\\": {\\\\\\\\\\\\\\\"type\\\\\\\\\\\\\\\": 2, \\\\\\\\\\\\\\\"details\\\\\\\\\\\\\\\": {\\\\\\\\\\\\\\\"selectedColumn\\\\\\\\\\\\\\\": \\\\\\\\\\\\\\\"Path\\\\\\\\\\\\\\\"}}, \\\\\\\\\\\\\\\"typeProperty\\\\\\\\\\\\\\\": 0}, {\\\\\\\\\\\\\\\"column\\\\\\\\\\\\\\\": {\\\\\\\\\\\\\\\"type\\\\\\\\\\\\\\\": 2, \\\\\\\\\\\\\\\"details\\\\\\\\\\\\\\\": {\\\\\\\\\\\\\\\"selectedColumn\\\\\\\\\\\\\\\": \\\\\\\\\\\\\\\"age\\\\\\\\\\\\\\\"}}, \\\\\\\\\\\\\\\"typeProperty\\\\\\\\\\\\\\\": 3}, {\\\\\\\\\\\\\\\"column\\\\\\\\\\\\\\\": {\\\\\\\\\\\\\\\"type\\\\\\\\\\\\\\\": 2, \\\\\\\\\\\\\\\"details\\\\\\\\\\\\\\\": {\\\\\\\\\\\\\\\"selectedColumn\\\\\\\\\\\\\\\": \\\\\\\\\\\\\\\"anaemia\\\\\\\\\\\\\\\"}}, \\\\\\\\\\\\\\\"typeProperty\\\\\\\\\\\\\\\": 2}, {\\\\\\\\\\\\\\\"column\\\\\\\\\\\\\\\": {\\\\\\\\\\\\\\\"type\\\\\\\\\\\\\\\": 2, \\\\\\\\\\\\\\\"details\\\\\\\\\\\\\\\": {\\\\\\\\\\\\\\\"selectedColumn\\\\\\\\\\\\\\\": \\\\\\\\\\\\\\\"creatinine_phosphokinase\\\\\\\\\\\\\\\"}}, \\\\\\\\\\\\\\\"typeProperty\\\\\\\\\\\\\\\": 2}, {\\\\\\\\\\\\\\\"column\\\\\\\\\\\\\\\": {\\\\\\\\\\\\\\\"type\\\\\\\\\\\\\\\": 2, \\\\\\\\\\\\\\\"details\\\\\\\\\\\\\\\": {\\\\\\\\\\\\\\\"selectedColumn\\\\\\\\\\\\\\\": \\\\\\\\\\\\\\\"diabetes\\\\\\\\\\\\\\\"}}, \\\\\\\\\\\\\\\"typeProperty\\\\\\\\\\\\\\\": 2}, {\\\\\\\\\\\\\\\"column\\\\\\\\\\\\\\\": {\\\\\\\\\\\\\\\"type\\\\\\\\\\\\\\\": 2, \\\\\\\\\\\\\\\"details\\\\\\\\\\\\\\\": {\\\\\\\\\\\\\\\"selectedColumn\\\\\\\\\\\\\\\": \\\\\\\\\\\\\\\"ejection_fraction\\\\\\\\\\\\\\\"}}, \\\\\\\\\\\\\\\"typeProperty\\\\\\\\\\\\\\\": 2}, {\\\\\\\\\\\\\\\"column\\\\\\\\\\\\\\\": {\\\\\\\\\\\\\\\"type\\\\\\\\\\\\\\\": 2, \\\\\\\\\\\\\\\"details\\\\\\\\\\\\\\\": {\\\\\\\\\\\\\\\"selectedColumn\\\\\\\\\\\\\\\": \\\\\\\\\\\\\\\"high_blood_pressure\\\\\\\\\\\\\\\"}}, \\\\\\\\\\\\\\\"typeProperty\\\\\\\\\\\\\\\": 2}, {\\\\\\\\\\\\\\\"column\\\\\\\\\\\\\\\": {\\\\\\\\\\\\\\\"type\\\\\\\\\\\\\\\": 2, \\\\\\\\\\\\\\\"details\\\\\\\\\\\\\\\": {\\\\\\\\\\\\\\\"selectedColumn\\\\\\\\\\\\\\\": \\\\\\\\\\\\\\\"platelets\\\\\\\\\\\\\\\"}}, \\\\\\\\\\\\\\\"typeProperty\\\\\\\\\\\\\\\": 3}, {\\\\\\\\\\\\\\\"column\\\\\\\\\\\\\\\": {\\\\\\\\\\\\\\\"type\\\\\\\\\\\\\\\": 2, \\\\\\\\\\\\\\\"details\\\\\\\\\\\\\\\": {\\\\\\\\\\\\\\\"selectedColumn\\\\\\\\\\\\\\\": \\\\\\\\\\\\\\\"serum_creatinine\\\\\\\\\\\\\\\"}}, \\\\\\\\\\\\\\\"typeProperty\\\\\\\\\\\\\\\": 3}, {\\\\\\\\\\\\\\\"column\\\\\\\\\\\\\\\": {\\\\\\\\\\\\\\\"type\\\\\\\\\\\\\\\": 2, \\\\\\\\\\\\\\\"details\\\\\\\\\\\\\\\": {\\\\\\\\\\\\\\\"selectedColumn\\\\\\\\\\\\\\\": \\\\\\\\\\\\\\\"serum_sodium\\\\\\\\\\\\\\\"}}, \\\\\\\\\\\\\\\"typeProperty\\\\\\\\\\\\\\\": 2}, {\\\\\\\\\\\\\\\"column\\\\\\\\\\\\\\\": {\\\\\\\\\\\\\\\"type\\\\\\\\\\\\\\\": 2, \\\\\\\\\\\\\\\"details\\\\\\\\\\\\\\\": {\\\\\\\\\\\\\\\"selectedColumn\\\\\\\\\\\\\\\": \\\\\\\\\\\\\\\"sex\\\\\\\\\\\\\\\"}}, \\\\\\\\\\\\\\\"typeProperty\\\\\\\\\\\\\\\": 2}, {\\\\\\\\\\\\\\\"column\\\\\\\\\\\\\\\": {\\\\\\\\\\\\\\\"type\\\\\\\\\\\\\\\": 2, \\\\\\\\\\\\\\\"details\\\\\\\\\\\\\\\": {\\\\\\\\\\\\\\\"selectedColumn\\\\\\\\\\\\\\\": \\\\\\\\\\\\\\\"smoking\\\\\\\\\\\\\\\"}}, \\\\\\\\\\\\\\\"typeProperty\\\\\\\\\\\\\\\": 2}, {\\\\\\\\\\\\\\\"column\\\\\\\\\\\\\\\": {\\\\\\\\\\\\\\\"type\\\\\\\\\\\\\\\": 2, \\\\\\\\\\\\\\\"details\\\\\\\\\\\\\\\": {\\\\\\\\\\\\\\\"selectedColumn\\\\\\\\\\\\\\\": \\\\\\\\\\\\\\\"time\\\\\\\\\\\\\\\"}}, \\\\\\\\\\\\\\\"typeProperty\\\\\\\\\\\\\\\": 2}, {\\\\\\\\\\\\\\\"column\\\\\\\\\\\\\\\": {\\\\\\\\\\\\\\\"type\\\\\\\\\\\\\\\": 2, \\\\\\\\\\\\\\\"details\\\\\\\\\\\\\\\": {\\\\\\\\\\\\\\\"selectedColumn\\\\\\\\\\\\\\\": \\\\\\\\\\\\\\\"DEATH_EVENT\\\\\\\\\\\\\\\"}}, \\\\\\\\\\\\\\\"typeProperty\\\\\\\\\\\\\\\": 2}]}, \\\\\\\\\\\\\\\"localData\\\\\\\\\\\\\\\": {}, \\\\\\\\\\\\\\\"isEnabled\\\\\\\\\\\\\\\": true, \\\\\\\\\\\\\\\"name\\\\\\\\\\\\\\\": null, \\\\\\\\\\\\\\\"annotation\\\\\\\\\\\\\\\": null}], \\\\\\\\\\\\\\\"inspectors\\\\\\\\\\\\\\\": [], \\\\\\\\\\\\\\\"meta\\\\\\\\\\\\\\\": {\\\\\\\\\\\\\\\"savedDatasetId\\\\\\\\\\\\\\\": \\\\\\\\\\\\\\\"c961d9f3-ebce-4529-9000-30ac1267918b\\\\\\\\\\\\\\\", \\\\\\\\\\\\\\\"datasetType\\\\\\\\\\\\\\\": \\\\\\\\\\\\\\\"tabular\\\\\\\\\\\\\\\", \\\\\\\\\\\\\\\"subscriptionId\\\\\\\\\\\\\\\": \\\\\\\\\\\\\\\"61c5c3f0-6dc7-4ed9-a7f3-c704b20e3b30\\\\\\\\\\\\\\\", \\\\\\\\\\\\\\\"workspaceId\\\\\\\\\\\\\\\": \\\\\\\\\\\\\\\"b5a98672-d999-42f8-88b1-bacc7eb05c34\\\\\\\\\\\\\\\", \\\\\\\\\\\\\\\"workspaceLocation\\\\\\\\\\\\\\\": \\\\\\\\\\\\\\\"southcentralus\\\\\\\\\\\\\\\"}}\\\\\\\", \\\\\\\"activities\\\\\\\": 0}\", \"EnableSubsampling\": null, \"runTemplate\": \"AutoML\", \"azureml.runsource\": \"automl\", \"display_task_type\": \"classification\", \"dependencies_versions\": \"{\\\"azureml-widgets\\\": \\\"1.20.0\\\", \\\"azureml-train\\\": \\\"1.20.0\\\", \\\"azureml-train-restclients-hyperdrive\\\": \\\"1.20.0\\\", \\\"azureml-train-core\\\": \\\"1.20.0\\\", \\\"azureml-train-automl\\\": \\\"1.20.0\\\", \\\"azureml-train-automl-runtime\\\": \\\"1.20.0\\\", \\\"azureml-train-automl-client\\\": \\\"1.20.0\\\", \\\"azureml-tensorboard\\\": \\\"1.20.0\\\", \\\"azureml-telemetry\\\": \\\"1.20.0\\\", \\\"azureml-sdk\\\": \\\"1.20.0\\\", \\\"azureml-samples\\\": \\\"0+unknown\\\", \\\"azureml-pipeline\\\": \\\"1.20.0\\\", \\\"azureml-pipeline-steps\\\": \\\"1.20.0\\\", \\\"azureml-pipeline-core\\\": \\\"1.20.0\\\", \\\"azureml-opendatasets\\\": \\\"1.20.0\\\", \\\"azureml-model-management-sdk\\\": \\\"1.0.1b6.post1\\\", \\\"azureml-mlflow\\\": \\\"1.20.0.post1\\\", \\\"azureml-interpret\\\": \\\"1.20.0\\\", \\\"azureml-explain-model\\\": \\\"1.20.0\\\", \\\"azureml-defaults\\\": \\\"1.20.0\\\", \\\"azureml-dataset-runtime\\\": \\\"1.20.0\\\", \\\"azureml-dataprep\\\": \\\"2.7.3\\\", \\\"azureml-dataprep-rslex\\\": \\\"1.5.0\\\", \\\"azureml-dataprep-native\\\": \\\"27.0.0\\\", \\\"azureml-datadrift\\\": \\\"1.20.0\\\", \\\"azureml-core\\\": \\\"1.20.0\\\", \\\"azureml-contrib-services\\\": \\\"1.20.0\\\", \\\"azureml-contrib-server\\\": \\\"1.20.0\\\", \\\"azureml-contrib-reinforcementlearning\\\": \\\"1.20.0\\\", \\\"azureml-contrib-pipeline-steps\\\": \\\"1.20.0\\\", \\\"azureml-contrib-notebook\\\": \\\"1.20.0\\\", \\\"azureml-contrib-interpret\\\": \\\"1.20.0\\\", \\\"azureml-contrib-gbdt\\\": \\\"1.20.0\\\", \\\"azureml-contrib-fairness\\\": \\\"1.20.0\\\", \\\"azureml-contrib-dataset\\\": \\\"1.20.0\\\", \\\"azureml-cli-common\\\": \\\"1.20.0\\\", \\\"azureml-automl-runtime\\\": \\\"1.20.0\\\", \\\"azureml-automl-core\\\": \\\"1.20.0\\\", \\\"azureml-accel-models\\\": \\\"1.20.0\\\"}\", \"_aml_system_scenario_identification\": \"Remote.Parent\", \"ClientType\": \"SDK\", \"environment_cpu_name\": \"AzureML-AutoML\", \"environment_cpu_label\": \"prod\", \"environment_gpu_name\": \"AzureML-AutoML-GPU\", \"environment_gpu_label\": \"prod\", \"root_attribution\": \"automl\", \"attribution\": \"AutoML\", \"Orchestrator\": \"AutoML\", \"CancelUri\": \"https://southcentralus.experiments.azureml.net/jasmine/v1.0/subscriptions/61c5c3f0-6dc7-4ed9-a7f3-c704b20e3b30/resourceGroups/aml-quickstarts-138239/providers/Microsoft.MachineLearningServices/workspaces/quick-starts-ws-138239/experimentids/7bd37d39-c2de-4630-98ec-0d9ea2d211ae/cancel/AutoML_40e1c0a8-d132-4964-879c-fc7387625e0c\", \"ClientSdkVersion\": \"1.21.0\", \"snapshotId\": \"00000000-0000-0000-0000-000000000000\", \"SetupRunId\": \"AutoML_40e1c0a8-d132-4964-879c-fc7387625e0c_setup\", \"SetupRunContainerId\": \"dcid.AutoML_40e1c0a8-d132-4964-879c-fc7387625e0c_setup\", \"FeaturizationRunJsonPath\": \"featurizer_container.json\", \"FeaturizationRunId\": \"AutoML_40e1c0a8-d132-4964-879c-fc7387625e0c_featurize\", \"ProblemInfoJsonString\": \"{\\\"dataset_num_categorical\\\": 0, \\\"is_sparse\\\": false, \\\"subsampling\\\": false, \\\"dataset_classes\\\": 2, \\\"dataset_features\\\": 12, \\\"dataset_samples\\\": 299, \\\"single_frequency_class_detected\\\": false}\", \"ModelExplainRunId\": \"AutoML_40e1c0a8-d132-4964-879c-fc7387625e0c_ModelExplain\"}, \"tags\": {\"model_explain_run\": \"best_run\", \"_aml_system_azureml.automlComponent\": \"AutoML\", \"pipeline_id\": \"\", \"score\": \"\", \"predicted_cost\": \"\", \"fit_time\": \"\", \"training_percent\": \"\", \"iteration\": \"\", \"run_preprocessor\": \"\", \"run_algorithm\": \"\", \"dynamic_whitelisting_iterations\": \"<25>;<30>;<35>;<40>;<45>;<50>;<55>;\", \"automl_best_child_run_id\": \"AutoML_40e1c0a8-d132-4964-879c-fc7387625e0c_58\", \"model_explain_best_run_child_id\": \"AutoML_40e1c0a8-d132-4964-879c-fc7387625e0c_58\"}, \"end_time_utc\": \"2021-02-09T08:34:17.680059Z\", \"status\": \"Completed\", \"log_files\": {}, \"log_groups\": [], \"run_duration\": \"0:29:56\"}, \"child_runs\": [{\"run_id\": \"AutoML_40e1c0a8-d132-4964-879c-fc7387625e0c_0\", \"run_number\": 5, \"metric\": null, \"status\": \"Completed\", \"run_type\": \"azureml.scriptrun\", \"training_percent\": \"100\", \"start_time\": \"2021-02-09T08:14:58.774577Z\", \"end_time\": \"2021-02-09T08:15:48.403134Z\", \"created_time\": \"2021-02-09T08:12:41.322235Z\", \"created_time_dt\": \"2021-02-09T08:12:41.322235Z\", \"duration\": \"0:03:07\", \"iteration\": \"0\", \"goal\": \"AUC_weighted_max\", \"run_name\": \"MaxAbsScaler, LightGBM\", \"run_properties\": \"copy=True\", \"primary_metric\": 0.88409554, \"best_metric\": 0.88409554}, {\"run_id\": \"AutoML_40e1c0a8-d132-4964-879c-fc7387625e0c_1\", \"run_number\": 6, \"metric\": null, \"status\": \"Completed\", \"run_type\": \"azureml.scriptrun\", \"training_percent\": \"100\", \"start_time\": \"2021-02-09T08:16:02.576956Z\", \"end_time\": \"2021-02-09T08:18:11.571101Z\", \"created_time\": \"2021-02-09T08:12:41.334972Z\", \"created_time_dt\": \"2021-02-09T08:12:41.334972Z\", \"duration\": \"0:05:30\", \"iteration\": \"1\", \"goal\": \"AUC_weighted_max\", \"run_name\": \"MaxAbsScaler, XGBoostClassifier\", \"run_properties\": \"copy=True\", \"primary_metric\": 0.88473694, \"best_metric\": 0.88473694}, {\"run_id\": \"AutoML_40e1c0a8-d132-4964-879c-fc7387625e0c_3\", \"run_number\": 7, \"metric\": null, \"status\": \"Completed\", \"run_type\": \"azureml.scriptrun\", \"training_percent\": \"100\", \"start_time\": \"2021-02-09T08:15:53.07875Z\", \"end_time\": \"2021-02-09T08:16:52.150285Z\", \"created_time\": \"2021-02-09T08:12:41.3361Z\", \"created_time_dt\": \"2021-02-09T08:12:41.3361Z\", \"duration\": \"0:04:10\", \"iteration\": \"3\", \"goal\": \"AUC_weighted_max\", \"run_name\": \"RobustScaler, ExtremeRandomTrees\", \"run_properties\": \"copy=True, quantile_range=[10, 90], with_centering=False,\\n             with_scaling=False\", \"primary_metric\": 0.87806199, \"best_metric\": 0.89793564}, {\"run_id\": \"AutoML_40e1c0a8-d132-4964-879c-fc7387625e0c_2\", \"run_number\": 8, \"metric\": null, \"status\": \"Completed\", \"run_type\": \"azureml.scriptrun\", \"training_percent\": \"100\", \"start_time\": \"2021-02-09T08:12:53.385018Z\", \"end_time\": \"2021-02-09T08:13:51.168354Z\", \"created_time\": \"2021-02-09T08:12:41.341323Z\", \"created_time_dt\": \"2021-02-09T08:12:41.341323Z\", \"duration\": \"0:01:09\", \"iteration\": \"2\", \"goal\": \"AUC_weighted_max\", \"run_name\": \"MinMaxScaler, RandomForest\", \"run_properties\": \"copy=True, feature_range=(0, 1\", \"primary_metric\": 0.89793564, \"best_metric\": 0.89793564}, {\"run_id\": \"AutoML_40e1c0a8-d132-4964-879c-fc7387625e0c_4\", \"run_number\": 9, \"metric\": null, \"status\": \"Completed\", \"run_type\": \"azureml.scriptrun\", \"training_percent\": \"100\", \"start_time\": \"2021-02-09T08:13:56.521645Z\", \"end_time\": \"2021-02-09T08:14:53.811556Z\", \"created_time\": \"2021-02-09T08:12:41.350284Z\", \"created_time_dt\": \"2021-02-09T08:12:41.350284Z\", \"duration\": \"0:02:12\", \"iteration\": \"4\", \"goal\": \"AUC_weighted_max\", \"run_name\": \"MinMaxScaler, RandomForest\", \"run_properties\": \"copy=True, feature_range=(0, 1\", \"primary_metric\": 0.90828137, \"best_metric\": 0.90828137}, {\"run_id\": \"AutoML_40e1c0a8-d132-4964-879c-fc7387625e0c_5\", \"run_number\": 10, \"metric\": null, \"status\": \"Completed\", \"run_type\": \"azureml.scriptrun\", \"training_percent\": \"100\", \"start_time\": \"2021-02-09T08:16:04.116223Z\", \"end_time\": \"2021-02-09T08:18:12.317094Z\", \"created_time\": \"2021-02-09T08:13:55.851327Z\", \"created_time_dt\": \"2021-02-09T08:13:55.851327Z\", \"duration\": \"0:04:16\", \"iteration\": \"5\", \"goal\": \"AUC_weighted_max\", \"run_name\": \"MinMaxScaler, RandomForest\", \"run_properties\": \"copy=True, feature_range=(0, 1\", \"primary_metric\": 0.90391865, \"best_metric\": 0.90828137}, {\"run_id\": \"AutoML_40e1c0a8-d132-4964-879c-fc7387625e0c_6\", \"run_number\": 11, \"metric\": null, \"status\": \"Completed\", \"run_type\": \"azureml.scriptrun\", \"training_percent\": \"100\", \"start_time\": \"2021-02-09T08:16:03.819646Z\", \"end_time\": \"2021-02-09T08:18:15.715771Z\", \"created_time\": \"2021-02-09T08:14:57.209189Z\", \"created_time_dt\": \"2021-02-09T08:14:57.209189Z\", \"duration\": \"0:03:18\", \"iteration\": \"6\", \"goal\": \"AUC_weighted_max\", \"run_name\": \"StandardScalerWrapper, RandomForest\", \"run_properties\": \"<azureml.automl.runtime.shared.model_wrappers.StandardScalerWrapper object at 0x7f8f9da6db38\", \"primary_metric\": 0.88418799, \"best_metric\": 0.90828137}, {\"run_id\": \"AutoML_40e1c0a8-d132-4964-879c-fc7387625e0c_7\", \"run_number\": 12, \"metric\": null, \"status\": \"Completed\", \"run_type\": \"azureml.scriptrun\", \"training_percent\": \"100\", \"start_time\": \"2021-02-09T08:16:52.031891Z\", \"end_time\": \"2021-02-09T08:17:49.54312Z\", \"created_time\": \"2021-02-09T08:15:51.869279Z\", \"created_time_dt\": \"2021-02-09T08:15:51.869279Z\", \"duration\": \"0:01:57\", \"iteration\": \"7\", \"goal\": \"AUC_weighted_max\", \"run_name\": \"MinMaxScaler, ExtremeRandomTrees\", \"run_properties\": \"copy=True, feature_range=(0, 1\", \"primary_metric\": 0.90115071, \"best_metric\": 0.90828137}, {\"run_id\": \"AutoML_40e1c0a8-d132-4964-879c-fc7387625e0c_8\", \"run_number\": 13, \"metric\": null, \"status\": \"Completed\", \"run_type\": \"azureml.scriptrun\", \"training_percent\": \"100\", \"start_time\": \"2021-02-09T08:17:51.819951Z\", \"end_time\": \"2021-02-09T08:18:45.561953Z\", \"created_time\": \"2021-02-09T08:16:55.63592Z\", \"created_time_dt\": \"2021-02-09T08:16:55.63592Z\", \"duration\": \"0:01:49\", \"iteration\": \"8\", \"goal\": \"AUC_weighted_max\", \"run_name\": \"MinMaxScaler, ExtremeRandomTrees\", \"run_properties\": \"copy=True, feature_range=(0, 1\", \"primary_metric\": 0.86376858, \"best_metric\": 0.90828137}, {\"run_id\": \"AutoML_40e1c0a8-d132-4964-879c-fc7387625e0c_9\", \"run_number\": 14, \"metric\": null, \"status\": \"Completed\", \"run_type\": \"azureml.scriptrun\", \"training_percent\": \"100\", \"start_time\": \"2021-02-09T08:18:12.994623Z\", \"end_time\": \"2021-02-09T08:19:02.16813Z\", \"created_time\": \"2021-02-09T08:17:53.024184Z\", \"created_time_dt\": \"2021-02-09T08:17:53.024184Z\", \"duration\": \"0:01:09\", \"iteration\": \"9\", \"goal\": \"AUC_weighted_max\", \"run_name\": \"SparseNormalizer, KNN\", \"run_properties\": \"<azureml.automl.runtime.shared.model_wrappers.SparseNormalizer object at 0x7fe7b10f1d30\", \"primary_metric\": 0.7496161, \"best_metric\": 0.90828137}, {\"run_id\": \"AutoML_40e1c0a8-d132-4964-879c-fc7387625e0c_10\", \"run_number\": 15, \"metric\": null, \"status\": \"Completed\", \"run_type\": \"azureml.scriptrun\", \"training_percent\": \"100\", \"start_time\": \"2021-02-09T08:18:28.576787Z\", \"end_time\": \"2021-02-09T08:19:17.457754Z\", \"created_time\": \"2021-02-09T08:18:14.79108Z\", \"created_time_dt\": \"2021-02-09T08:18:14.79108Z\", \"duration\": \"0:01:02\", \"iteration\": \"10\", \"goal\": \"AUC_weighted_max\", \"run_name\": \"MinMaxScaler, ExtremeRandomTrees\", \"run_properties\": \"copy=True, feature_range=(0, 1\", \"primary_metric\": 0.88535134, \"best_metric\": 0.90828137}, {\"run_id\": \"AutoML_40e1c0a8-d132-4964-879c-fc7387625e0c_11\", \"run_number\": 16, \"metric\": null, \"status\": \"Completed\", \"run_type\": \"azureml.scriptrun\", \"training_percent\": \"100\", \"start_time\": \"2021-02-09T08:18:32.819921Z\", \"end_time\": \"2021-02-09T08:21:17.671602Z\", \"created_time\": \"2021-02-09T08:18:20.742354Z\", \"created_time_dt\": \"2021-02-09T08:18:20.742354Z\", \"duration\": \"0:02:56\", \"iteration\": \"11\", \"goal\": \"AUC_weighted_max\", \"run_name\": \"RobustScaler, ExtremeRandomTrees\", \"run_properties\": \"copy=True, quantile_range=[10, 90], with_centering=True,\\n             with_scaling=False\", \"primary_metric\": 0.90162901, \"best_metric\": 0.90828137}, {\"run_id\": \"AutoML_40e1c0a8-d132-4964-879c-fc7387625e0c_12\", \"run_number\": 17, \"metric\": null, \"status\": \"Completed\", \"run_type\": \"azureml.scriptrun\", \"training_percent\": \"100\", \"start_time\": \"2021-02-09T08:18:46.802251Z\", \"end_time\": \"2021-02-09T08:19:42.343745Z\", \"created_time\": \"2021-02-09T08:18:20.862783Z\", \"created_time_dt\": \"2021-02-09T08:18:20.862783Z\", \"duration\": \"0:01:21\", \"iteration\": \"12\", \"goal\": \"AUC_weighted_max\", \"run_name\": \"StandardScalerWrapper, RandomForest\", \"run_properties\": \"<azureml.automl.runtime.shared.model_wrappers.StandardScalerWrapper object at 0x7f17794066d8\", \"primary_metric\": 0.90231242, \"best_metric\": 0.90828137}, {\"run_id\": \"AutoML_40e1c0a8-d132-4964-879c-fc7387625e0c_13\", \"run_number\": 18, \"metric\": null, \"status\": \"Completed\", \"run_type\": \"azureml.scriptrun\", \"training_percent\": \"100\", \"start_time\": \"2021-02-09T08:19:07.316672Z\", \"end_time\": \"2021-02-09T08:20:01.994141Z\", \"created_time\": \"2021-02-09T08:18:49.002652Z\", \"created_time_dt\": \"2021-02-09T08:18:49.002652Z\", \"duration\": \"0:01:12\", \"iteration\": \"13\", \"goal\": \"AUC_weighted_max\", \"run_name\": \"StandardScalerWrapper, SGD\", \"run_properties\": \"<azureml.automl.runtime.shared.model_wrappers.StandardScalerWrapper object at 0x7fd3bd286390\", \"primary_metric\": 0.86708096, \"best_metric\": 0.90828137}, {\"run_id\": \"AutoML_40e1c0a8-d132-4964-879c-fc7387625e0c_14\", \"run_number\": 19, \"metric\": null, \"status\": \"Completed\", \"run_type\": \"azureml.scriptrun\", \"training_percent\": \"100\", \"start_time\": \"2021-02-09T08:19:18.875879Z\", \"end_time\": \"2021-02-09T08:20:08.353969Z\", \"created_time\": \"2021-02-09T08:19:05.356116Z\", \"created_time_dt\": \"2021-02-09T08:19:05.356116Z\", \"duration\": \"0:01:02\", \"iteration\": \"14\", \"goal\": \"AUC_weighted_max\", \"run_name\": \"RobustScaler, RandomForest\", \"run_properties\": \"copy=True, quantile_range=[10, 90], with_centering=True,\\n             with_scaling=False\", \"primary_metric\": 0.89095946, \"best_metric\": 0.90828137}, {\"run_id\": \"AutoML_40e1c0a8-d132-4964-879c-fc7387625e0c_15\", \"run_number\": 20, \"metric\": null, \"status\": \"Completed\", \"run_type\": \"azureml.scriptrun\", \"training_percent\": \"100\", \"start_time\": \"2021-02-09T08:19:46.378315Z\", \"end_time\": \"2021-02-09T08:20:37.373943Z\", \"created_time\": \"2021-02-09T08:19:20.731873Z\", \"created_time_dt\": \"2021-02-09T08:19:20.731873Z\", \"duration\": \"0:01:16\", \"iteration\": \"15\", \"goal\": \"AUC_weighted_max\", \"run_name\": \"StandardScalerWrapper, KNN\", \"run_properties\": \"<azureml.automl.runtime.shared.model_wrappers.StandardScalerWrapper object at 0x7f19d9838048\", \"primary_metric\": 0.52030533, \"best_metric\": 0.90828137}, {\"run_id\": \"AutoML_40e1c0a8-d132-4964-879c-fc7387625e0c_16\", \"run_number\": 21, \"metric\": null, \"status\": \"Completed\", \"run_type\": \"azureml.scriptrun\", \"training_percent\": \"100\", \"start_time\": \"2021-02-09T08:20:07.502388Z\", \"end_time\": \"2021-02-09T08:20:54.479838Z\", \"created_time\": \"2021-02-09T08:19:45.661153Z\", \"created_time_dt\": \"2021-02-09T08:19:45.661153Z\", \"duration\": \"0:01:08\", \"iteration\": \"16\", \"goal\": \"AUC_weighted_max\", \"run_name\": \"MinMaxScaler, RandomForest\", \"run_properties\": \"copy=True, feature_range=(0, 1\", \"primary_metric\": 0.87140061, \"best_metric\": 0.90828137}, {\"run_id\": \"AutoML_40e1c0a8-d132-4964-879c-fc7387625e0c_17\", \"run_number\": 22, \"metric\": null, \"status\": \"Completed\", \"run_type\": \"azureml.scriptrun\", \"training_percent\": \"100\", \"start_time\": \"2021-02-09T08:20:15.464886Z\", \"end_time\": \"2021-02-09T08:21:05.17833Z\", \"created_time\": \"2021-02-09T08:20:05.240134Z\", \"created_time_dt\": \"2021-02-09T08:20:05.240134Z\", \"duration\": \"0:00:59\", \"iteration\": \"17\", \"goal\": \"AUC_weighted_max\", \"run_name\": \"MinMaxScaler, ExtremeRandomTrees\", \"run_properties\": \"copy=True, feature_range=(0, 1\", \"primary_metric\": 0.82721279, \"best_metric\": 0.90828137}, {\"run_id\": \"AutoML_40e1c0a8-d132-4964-879c-fc7387625e0c_18\", \"run_number\": 23, \"metric\": null, \"status\": \"Completed\", \"run_type\": \"azureml.scriptrun\", \"training_percent\": \"100\", \"start_time\": \"2021-02-09T08:20:43.598162Z\", \"end_time\": \"2021-02-09T08:21:38.418975Z\", \"created_time\": \"2021-02-09T08:20:12.08361Z\", \"created_time_dt\": \"2021-02-09T08:20:12.08361Z\", \"duration\": \"0:01:26\", \"iteration\": \"18\", \"goal\": \"AUC_weighted_max\", \"run_name\": \"MaxAbsScaler, RandomForest\", \"run_properties\": \"copy=True\", \"primary_metric\": 0.87465968, \"best_metric\": 0.90828137}, {\"run_id\": \"AutoML_40e1c0a8-d132-4964-879c-fc7387625e0c_19\", \"run_number\": 24, \"metric\": null, \"status\": \"Completed\", \"run_type\": \"azureml.scriptrun\", \"training_percent\": \"100\", \"start_time\": \"2021-02-09T08:20:58.444448Z\", \"end_time\": \"2021-02-09T08:21:49.277897Z\", \"created_time\": \"2021-02-09T08:20:40.760933Z\", \"created_time_dt\": \"2021-02-09T08:20:40.760933Z\", \"duration\": \"0:01:08\", \"iteration\": \"19\", \"goal\": \"AUC_weighted_max\", \"run_name\": \"StandardScalerWrapper, XGBoostClassifier\", \"run_properties\": \"<azureml.automl.runtime.shared.model_wrappers.StandardScalerWrapper object at 0x7f712531f0b8\", \"primary_metric\": 0.90890998, \"best_metric\": 0.90890998}, {\"run_id\": \"AutoML_40e1c0a8-d132-4964-879c-fc7387625e0c_20\", \"run_number\": 25, \"metric\": null, \"status\": \"Completed\", \"run_type\": \"azureml.scriptrun\", \"training_percent\": \"100\", \"start_time\": \"2021-02-09T08:21:08.852877Z\", \"end_time\": \"2021-02-09T08:22:03.119785Z\", \"created_time\": \"2021-02-09T08:20:57.695883Z\", \"created_time_dt\": \"2021-02-09T08:20:57.695883Z\", \"duration\": \"0:01:05\", \"iteration\": \"20\", \"goal\": \"AUC_weighted_max\", \"run_name\": \"MaxAbsScaler, RandomForest\", \"run_properties\": \"copy=True\", \"primary_metric\": 0.90725388, \"best_metric\": 0.90890998}, {\"run_id\": \"AutoML_40e1c0a8-d132-4964-879c-fc7387625e0c_21\", \"run_number\": 26, \"metric\": null, \"status\": \"Completed\", \"run_type\": \"azureml.scriptrun\", \"training_percent\": \"100\", \"start_time\": \"2021-02-09T08:21:23.266624Z\", \"end_time\": \"2021-02-09T08:22:15.821407Z\", \"created_time\": \"2021-02-09T08:21:08.801924Z\", \"created_time_dt\": \"2021-02-09T08:21:08.801924Z\", \"duration\": \"0:01:07\", \"iteration\": \"21\", \"goal\": \"AUC_weighted_max\", \"run_name\": \"MaxAbsScaler, ExtremeRandomTrees\", \"run_properties\": \"copy=True\", \"primary_metric\": 0.84787492, \"best_metric\": 0.90890998}, {\"run_id\": \"AutoML_40e1c0a8-d132-4964-879c-fc7387625e0c_22\", \"run_number\": 27, \"metric\": null, \"status\": \"Completed\", \"run_type\": \"azureml.scriptrun\", \"training_percent\": \"100\", \"start_time\": \"2021-02-09T08:21:41.203839Z\", \"end_time\": \"2021-02-09T08:22:41.797193Z\", \"created_time\": \"2021-02-09T08:21:21.177004Z\", \"created_time_dt\": \"2021-02-09T08:21:21.177004Z\", \"duration\": \"0:01:20\", \"iteration\": \"22\", \"goal\": \"AUC_weighted_max\", \"run_name\": \"MaxAbsScaler, ExtremeRandomTrees\", \"run_properties\": \"copy=True\", \"primary_metric\": 0.87770784, \"best_metric\": 0.90890998}, {\"run_id\": \"AutoML_40e1c0a8-d132-4964-879c-fc7387625e0c_23\", \"run_number\": 28, \"metric\": null, \"status\": \"Completed\", \"run_type\": \"azureml.scriptrun\", \"training_percent\": \"100\", \"start_time\": \"2021-02-09T08:21:58.199248Z\", \"end_time\": \"2021-02-09T08:23:01.847348Z\", \"created_time\": \"2021-02-09T08:21:41.636904Z\", \"created_time_dt\": \"2021-02-09T08:21:41.636904Z\", \"duration\": \"0:01:20\", \"iteration\": \"23\", \"goal\": \"AUC_weighted_max\", \"run_name\": \"MinMaxScaler, RandomForest\", \"run_properties\": \"copy=True, feature_range=(0, 1\", \"primary_metric\": 0.90856801, \"best_metric\": 0.90890998}, {\"run_id\": \"AutoML_40e1c0a8-d132-4964-879c-fc7387625e0c_24\", \"run_number\": 29, \"metric\": null, \"status\": \"Completed\", \"run_type\": \"azureml.scriptrun\", \"training_percent\": \"100\", \"start_time\": \"2021-02-09T08:22:08.619429Z\", \"end_time\": \"2021-02-09T08:22:57.701194Z\", \"created_time\": \"2021-02-09T08:21:52.584401Z\", \"created_time_dt\": \"2021-02-09T08:21:52.584401Z\", \"duration\": \"0:01:05\", \"iteration\": \"24\", \"goal\": \"AUC_weighted_max\", \"run_name\": \"MinMaxScaler, ExtremeRandomTrees\", \"run_properties\": \"copy=True, feature_range=(0, 1\", \"primary_metric\": 0.90523684, \"best_metric\": 0.90890998}, {\"run_id\": \"AutoML_40e1c0a8-d132-4964-879c-fc7387625e0c_25\", \"run_number\": 30, \"metric\": null, \"status\": \"Completed\", \"run_type\": \"azureml.scriptrun\", \"training_percent\": \"100\", \"start_time\": \"2021-02-09T08:22:21.260479Z\", \"end_time\": \"2021-02-09T08:23:11.71109Z\", \"created_time\": \"2021-02-09T08:22:06.641374Z\", \"created_time_dt\": \"2021-02-09T08:22:06.641374Z\", \"duration\": \"0:01:05\", \"iteration\": \"25\", \"goal\": \"AUC_weighted_max\", \"run_name\": \"PCA, XGBoostClassifier\", \"run_properties\": \"copy=True, iterated_power='auto', n_components=0.01, random_state=None,\\n    svd_solver='auto', tol=0.0, whiten=False\", \"primary_metric\": 0.48390307, \"best_metric\": 0.90890998}, {\"run_id\": \"AutoML_40e1c0a8-d132-4964-879c-fc7387625e0c_26\", \"run_number\": 31, \"metric\": null, \"status\": \"Completed\", \"run_type\": \"azureml.scriptrun\", \"training_percent\": \"100\", \"start_time\": \"2021-02-09T08:22:44.42674Z\", \"end_time\": \"2021-02-09T08:23:41.76936Z\", \"created_time\": \"2021-02-09T08:22:18.261584Z\", \"created_time_dt\": \"2021-02-09T08:22:18.261584Z\", \"duration\": \"0:01:23\", \"iteration\": \"26\", \"goal\": \"AUC_weighted_max\", \"run_name\": \"StandardScalerWrapper, LightGBM\", \"run_properties\": \"<azureml.automl.runtime.shared.model_wrappers.StandardScalerWrapper object at 0x7f1ec2637a58\", \"primary_metric\": 0.85583877, \"best_metric\": 0.90890998}, {\"run_id\": \"AutoML_40e1c0a8-d132-4964-879c-fc7387625e0c_27\", \"run_number\": 32, \"metric\": null, \"status\": \"Completed\", \"run_type\": \"azureml.scriptrun\", \"training_percent\": \"100\", \"start_time\": \"2021-02-09T08:23:02.489935Z\", \"end_time\": \"2021-02-09T08:24:00.147377Z\", \"created_time\": \"2021-02-09T08:22:44.24897Z\", \"created_time_dt\": \"2021-02-09T08:22:44.24897Z\", \"duration\": \"0:01:15\", \"iteration\": \"27\", \"goal\": \"AUC_weighted_max\", \"run_name\": \"MaxAbsScaler, ExtremeRandomTrees\", \"run_properties\": \"copy=True\", \"primary_metric\": 0.89904639, \"best_metric\": 0.90890998}, {\"run_id\": \"AutoML_40e1c0a8-d132-4964-879c-fc7387625e0c_28\", \"run_number\": 33, \"metric\": null, \"status\": \"Completed\", \"run_type\": \"azureml.scriptrun\", \"training_percent\": \"100\", \"start_time\": \"2021-02-09T08:23:11.574596Z\", \"end_time\": \"2021-02-09T08:24:03.690015Z\", \"created_time\": \"2021-02-09T08:23:00.338728Z\", \"created_time_dt\": \"2021-02-09T08:23:00.338728Z\", \"duration\": \"0:01:03\", \"iteration\": \"28\", \"goal\": \"AUC_weighted_max\", \"run_name\": \"RobustScaler, LightGBM\", \"run_properties\": \"copy=True, quantile_range=[10, 90], with_centering=True,\\n             with_scaling=True\", \"primary_metric\": 0.90121699, \"best_metric\": 0.90890998}, {\"run_id\": \"AutoML_40e1c0a8-d132-4964-879c-fc7387625e0c_29\", \"run_number\": 34, \"metric\": null, \"status\": \"Completed\", \"run_type\": \"azureml.scriptrun\", \"training_percent\": \"100\", \"start_time\": \"2021-02-09T08:23:17.47071Z\", \"end_time\": \"2021-02-09T08:24:16.872282Z\", \"created_time\": \"2021-02-09T08:23:04.664436Z\", \"created_time_dt\": \"2021-02-09T08:23:04.664436Z\", \"duration\": \"0:01:12\", \"iteration\": \"29\", \"goal\": \"AUC_weighted_max\", \"run_name\": \"StandardScalerWrapper, XGBoostClassifier\", \"run_properties\": \"<azureml.automl.runtime.shared.model_wrappers.StandardScalerWrapper object at 0x7f227a1b72b0\", \"primary_metric\": 0.90512321, \"best_metric\": 0.90890998}, {\"run_id\": \"AutoML_40e1c0a8-d132-4964-879c-fc7387625e0c_30\", \"run_number\": 35, \"metric\": null, \"status\": \"Completed\", \"run_type\": \"azureml.scriptrun\", \"training_percent\": \"100\", \"start_time\": \"2021-02-09T08:23:43.491202Z\", \"end_time\": \"2021-02-09T08:24:51.042882Z\", \"created_time\": \"2021-02-09T08:23:14.865244Z\", \"created_time_dt\": \"2021-02-09T08:23:14.865244Z\", \"duration\": \"0:01:36\", \"iteration\": \"30\", \"goal\": \"AUC_weighted_max\", \"run_name\": \"StandardScalerWrapper, XGBoostClassifier\", \"run_properties\": \"<azureml.automl.runtime.shared.model_wrappers.StandardScalerWrapper object at 0x7fe847ddccf8\", \"primary_metric\": 0.91074457, \"best_metric\": 0.91074457}, {\"run_id\": \"AutoML_40e1c0a8-d132-4964-879c-fc7387625e0c_31\", \"run_number\": 36, \"metric\": null, \"status\": \"Completed\", \"run_type\": \"azureml.scriptrun\", \"training_percent\": \"100\", \"start_time\": \"2021-02-09T08:24:02.571255Z\", \"end_time\": \"2021-02-09T08:24:56.16557Z\", \"created_time\": \"2021-02-09T08:23:44.166781Z\", \"created_time_dt\": \"2021-02-09T08:23:44.166781Z\", \"duration\": \"0:01:11\", \"iteration\": \"31\", \"goal\": \"AUC_weighted_max\", \"run_name\": \"StandardScalerWrapper, XGBoostClassifier\", \"run_properties\": \"<azureml.automl.runtime.shared.model_wrappers.StandardScalerWrapper object at 0x7f66dc5aa8d0\", \"primary_metric\": 0.90081859, \"best_metric\": 0.91074457}, {\"run_id\": \"AutoML_40e1c0a8-d132-4964-879c-fc7387625e0c_32\", \"run_number\": 37, \"metric\": null, \"status\": \"Completed\", \"run_type\": \"azureml.scriptrun\", \"training_percent\": \"100\", \"start_time\": \"2021-02-09T08:24:15.048248Z\", \"end_time\": \"2021-02-09T08:25:03.711437Z\", \"created_time\": \"2021-02-09T08:24:02.397683Z\", \"created_time_dt\": \"2021-02-09T08:24:02.397683Z\", \"duration\": \"0:01:01\", \"iteration\": \"32\", \"goal\": \"AUC_weighted_max\", \"run_name\": \"StandardScalerWrapper, XGBoostClassifier\", \"run_properties\": \"<azureml.automl.runtime.shared.model_wrappers.StandardScalerWrapper object at 0x7f9c160eb908\", \"primary_metric\": 0.90267249, \"best_metric\": 0.91074457}, {\"run_id\": \"AutoML_40e1c0a8-d132-4964-879c-fc7387625e0c_33\", \"run_number\": 38, \"metric\": null, \"status\": \"Completed\", \"run_type\": \"azureml.scriptrun\", \"training_percent\": \"100\", \"start_time\": \"2021-02-09T08:24:24.240439Z\", \"end_time\": \"2021-02-09T08:25:15.621622Z\", \"created_time\": \"2021-02-09T08:24:06.695332Z\", \"created_time_dt\": \"2021-02-09T08:24:06.695332Z\", \"duration\": \"0:01:08\", \"iteration\": \"33\", \"goal\": \"AUC_weighted_max\", \"run_name\": \"StandardScalerWrapper, XGBoostClassifier\", \"run_properties\": \"<azureml.automl.runtime.shared.model_wrappers.StandardScalerWrapper object at 0x7fa3f9c29fd0\", \"primary_metric\": 0.90216233, \"best_metric\": 0.91074457}, {\"run_id\": \"AutoML_40e1c0a8-d132-4964-879c-fc7387625e0c_34\", \"run_number\": 39, \"metric\": null, \"status\": \"Completed\", \"run_type\": \"azureml.scriptrun\", \"training_percent\": \"100\", \"start_time\": \"2021-02-09T08:24:54.624824Z\", \"end_time\": \"2021-02-09T08:25:52.894418Z\", \"created_time\": \"2021-02-09T08:24:19.313014Z\", \"created_time_dt\": \"2021-02-09T08:24:19.313014Z\", \"duration\": \"0:01:33\", \"iteration\": \"34\", \"goal\": \"AUC_weighted_max\", \"run_name\": \"StandardScalerWrapper, SVM\", \"run_properties\": \"<azureml.automl.runtime.shared.model_wrappers.StandardScalerWrapper object at 0x7f6f741e4160\", \"primary_metric\": 0.86795982, \"best_metric\": 0.91074457}, {\"run_id\": \"AutoML_40e1c0a8-d132-4964-879c-fc7387625e0c_35\", \"run_number\": 40, \"metric\": null, \"status\": \"Completed\", \"run_type\": \"azureml.scriptrun\", \"training_percent\": \"100\", \"start_time\": \"2021-02-09T08:25:08.922146Z\", \"end_time\": \"2021-02-09T08:25:58.292519Z\", \"created_time\": \"2021-02-09T08:24:54.386905Z\", \"created_time_dt\": \"2021-02-09T08:24:54.386905Z\", \"duration\": \"0:01:03\", \"iteration\": \"35\", \"goal\": \"AUC_weighted_max\", \"run_name\": \"StandardScalerWrapper, XGBoostClassifier\", \"run_properties\": \"<azureml.automl.runtime.shared.model_wrappers.StandardScalerWrapper object at 0x7f7e04027208\", \"primary_metric\": 0.87637156, \"best_metric\": 0.91074457}, {\"run_id\": \"AutoML_40e1c0a8-d132-4964-879c-fc7387625e0c_36\", \"run_number\": 41, \"metric\": null, \"status\": \"Completed\", \"run_type\": \"azureml.scriptrun\", \"training_percent\": \"100\", \"start_time\": \"2021-02-09T08:25:10.426288Z\", \"end_time\": \"2021-02-09T08:26:27.898488Z\", \"created_time\": \"2021-02-09T08:24:58.610064Z\", \"created_time_dt\": \"2021-02-09T08:24:58.610064Z\", \"duration\": \"0:01:29\", \"iteration\": \"36\", \"goal\": \"AUC_weighted_max\", \"run_name\": \"RobustScaler, GradientBoosting\", \"run_properties\": \"copy=True, quantile_range=[10, 90], with_centering=True,\\n             with_scaling=False\", \"primary_metric\": 0.90485187, \"best_metric\": 0.91074457}, {\"run_id\": \"AutoML_40e1c0a8-d132-4964-879c-fc7387625e0c_37\", \"run_number\": 42, \"metric\": null, \"status\": \"Completed\", \"run_type\": \"azureml.scriptrun\", \"training_percent\": \"100\", \"start_time\": \"2021-02-09T08:25:18.962801Z\", \"end_time\": \"2021-02-09T08:26:10.555767Z\", \"created_time\": \"2021-02-09T08:25:06.084787Z\", \"created_time_dt\": \"2021-02-09T08:25:06.084787Z\", \"duration\": \"0:01:04\", \"iteration\": \"37\", \"goal\": \"AUC_weighted_max\", \"run_name\": \"MaxAbsScaler, RandomForest\", \"run_properties\": \"copy=True\", \"primary_metric\": 0.90613801, \"best_metric\": 0.91074457}, {\"run_id\": \"AutoML_40e1c0a8-d132-4964-879c-fc7387625e0c_38\", \"run_number\": 43, \"metric\": null, \"status\": \"Completed\", \"run_type\": \"azureml.scriptrun\", \"training_percent\": \"100\", \"start_time\": \"2021-02-09T08:25:56.074706Z\", \"end_time\": \"2021-02-09T08:26:54.735136Z\", \"created_time\": \"2021-02-09T08:25:17.813885Z\", \"created_time_dt\": \"2021-02-09T08:25:17.813885Z\", \"duration\": \"0:01:36\", \"iteration\": \"38\", \"goal\": \"AUC_weighted_max\", \"run_name\": \"StandardScalerWrapper, RandomForest\", \"run_properties\": \"<azureml.automl.runtime.shared.model_wrappers.StandardScalerWrapper object at 0x7f3739767cc0\", \"primary_metric\": 0.90562151, \"best_metric\": 0.91074457}, {\"run_id\": \"AutoML_40e1c0a8-d132-4964-879c-fc7387625e0c_39\", \"run_number\": 44, \"metric\": null, \"status\": \"Completed\", \"run_type\": \"azureml.scriptrun\", \"training_percent\": \"100\", \"start_time\": \"2021-02-09T08:26:07.598787Z\", \"end_time\": \"2021-02-09T08:26:58.219118Z\", \"created_time\": \"2021-02-09T08:25:55.062011Z\", \"created_time_dt\": \"2021-02-09T08:25:55.062011Z\", \"duration\": \"0:01:03\", \"iteration\": \"39\", \"goal\": \"AUC_weighted_max\", \"run_name\": \"StandardScalerWrapper, RandomForest\", \"run_properties\": \"<azureml.automl.runtime.shared.model_wrappers.StandardScalerWrapper object at 0x7fd1d3d06978\", \"primary_metric\": 0.91194561, \"best_metric\": 0.91194561}, {\"run_id\": \"AutoML_40e1c0a8-d132-4964-879c-fc7387625e0c_40\", \"run_number\": 45, \"metric\": null, \"status\": \"Completed\", \"run_type\": \"azureml.scriptrun\", \"training_percent\": \"100\", \"start_time\": \"2021-02-09T08:26:12.721649Z\", \"end_time\": \"2021-02-09T08:27:04.830143Z\", \"created_time\": \"2021-02-09T08:26:02.370834Z\", \"created_time_dt\": \"2021-02-09T08:26:02.370834Z\", \"duration\": \"0:01:02\", \"iteration\": \"40\", \"goal\": \"AUC_weighted_max\", \"run_name\": \"StandardScalerWrapper, XGBoostClassifier\", \"run_properties\": \"<azureml.automl.runtime.shared.model_wrappers.StandardScalerWrapper object at 0x7fed858852b0\", \"primary_metric\": 0.89778146, \"best_metric\": 0.91194561}, {\"run_id\": \"AutoML_40e1c0a8-d132-4964-879c-fc7387625e0c_41\", \"run_number\": 46, \"metric\": null, \"status\": \"Completed\", \"run_type\": \"azureml.scriptrun\", \"training_percent\": \"100\", \"start_time\": \"2021-02-09T08:26:30.996155Z\", \"end_time\": \"2021-02-09T08:27:23.948556Z\", \"created_time\": \"2021-02-09T08:26:12.981465Z\", \"created_time_dt\": \"2021-02-09T08:26:12.981465Z\", \"duration\": \"0:01:10\", \"iteration\": \"41\", \"goal\": \"AUC_weighted_max\", \"run_name\": \"MaxAbsScaler, LightGBM\", \"run_properties\": \"copy=True\", \"primary_metric\": 0.89441297, \"best_metric\": 0.91194561}, {\"run_id\": \"AutoML_40e1c0a8-d132-4964-879c-fc7387625e0c_42\", \"run_number\": 47, \"metric\": null, \"status\": \"Completed\", \"run_type\": \"azureml.scriptrun\", \"training_percent\": \"100\", \"start_time\": \"2021-02-09T08:26:57.637092Z\", \"end_time\": \"2021-02-09T08:28:02.490607Z\", \"created_time\": \"2021-02-09T08:26:30.251961Z\", \"created_time_dt\": \"2021-02-09T08:26:30.251961Z\", \"duration\": \"0:01:32\", \"iteration\": \"42\", \"goal\": \"AUC_weighted_max\", \"run_name\": \"MinMaxScaler, GradientBoosting\", \"run_properties\": \"copy=True, feature_range=(0, 1\", \"primary_metric\": 0.90960764, \"best_metric\": 0.91194561}, {\"run_id\": \"AutoML_40e1c0a8-d132-4964-879c-fc7387625e0c_43\", \"run_number\": 48, \"metric\": null, \"status\": \"Completed\", \"run_type\": \"azureml.scriptrun\", \"training_percent\": \"100\", \"start_time\": \"2021-02-09T08:27:09.002521Z\", \"end_time\": \"2021-02-09T08:27:59.948995Z\", \"created_time\": \"2021-02-09T08:26:57.114703Z\", \"created_time_dt\": \"2021-02-09T08:26:57.114703Z\", \"duration\": \"0:01:02\", \"iteration\": \"43\", \"goal\": \"AUC_weighted_max\", \"run_name\": \"StandardScalerWrapper, LightGBM\", \"run_properties\": \"<azureml.automl.runtime.shared.model_wrappers.StandardScalerWrapper object at 0x7fbf410b6a58\", \"primary_metric\": 0.88936493, \"best_metric\": 0.91194561}, {\"run_id\": \"AutoML_40e1c0a8-d132-4964-879c-fc7387625e0c_44\", \"run_number\": 49, \"metric\": null, \"status\": \"Completed\", \"run_type\": \"azureml.scriptrun\", \"training_percent\": \"100\", \"start_time\": \"2021-02-09T08:27:13.303534Z\", \"end_time\": \"2021-02-09T08:28:05.873253Z\", \"created_time\": \"2021-02-09T08:27:01.613262Z\", \"created_time_dt\": \"2021-02-09T08:27:01.613262Z\", \"duration\": \"0:01:04\", \"iteration\": \"44\", \"goal\": \"AUC_weighted_max\", \"run_name\": \"StandardScalerWrapper, XGBoostClassifier\", \"run_properties\": \"<azureml.automl.runtime.shared.model_wrappers.StandardScalerWrapper object at 0x7f24fc38c978\", \"primary_metric\": 0.89539227, \"best_metric\": 0.91194561}, {\"run_id\": \"AutoML_40e1c0a8-d132-4964-879c-fc7387625e0c_45\", \"run_number\": 50, \"metric\": null, \"status\": \"Completed\", \"run_type\": \"azureml.scriptrun\", \"training_percent\": \"100\", \"start_time\": \"2021-02-09T08:27:27.693462Z\", \"end_time\": \"2021-02-09T08:28:36.164961Z\", \"created_time\": \"2021-02-09T08:27:07.864126Z\", \"created_time_dt\": \"2021-02-09T08:27:07.864126Z\", \"duration\": \"0:01:28\", \"iteration\": \"45\", \"goal\": \"AUC_weighted_max\", \"run_name\": \"MinMaxScaler, RandomForest\", \"run_properties\": \"copy=True, feature_range=(0, 1\", \"primary_metric\": 0.74030938, \"best_metric\": 0.91194561}, {\"run_id\": \"AutoML_40e1c0a8-d132-4964-879c-fc7387625e0c_46\", \"run_number\": 51, \"metric\": null, \"status\": \"Completed\", \"run_type\": \"azureml.scriptrun\", \"training_percent\": \"100\", \"start_time\": \"2021-02-09T08:28:01.443999Z\", \"end_time\": \"2021-02-09T08:29:01.657655Z\", \"created_time\": \"2021-02-09T08:27:26.121518Z\", \"created_time_dt\": \"2021-02-09T08:27:26.121518Z\", \"duration\": \"0:01:35\", \"iteration\": \"46\", \"goal\": \"AUC_weighted_max\", \"run_name\": \"MaxAbsScaler, ExtremeRandomTrees\", \"run_properties\": \"copy=True\", \"primary_metric\": 0.89519357, \"best_metric\": 0.91194561}, {\"run_id\": \"AutoML_40e1c0a8-d132-4964-879c-fc7387625e0c_47\", \"run_number\": 52, \"metric\": null, \"status\": \"Completed\", \"run_type\": \"azureml.scriptrun\", \"training_percent\": \"100\", \"start_time\": \"2021-02-09T08:28:15.256503Z\", \"end_time\": \"2021-02-09T08:29:21.076797Z\", \"created_time\": \"2021-02-09T08:28:02.391173Z\", \"created_time_dt\": \"2021-02-09T08:28:02.391173Z\", \"duration\": \"0:01:18\", \"iteration\": \"47\", \"goal\": \"AUC_weighted_max\", \"run_name\": \"MinMaxScaler, RandomForest\", \"run_properties\": \"copy=True, feature_range=(0, 1\", \"primary_metric\": 0.90947499, \"best_metric\": 0.91194561}, {\"run_id\": \"AutoML_40e1c0a8-d132-4964-879c-fc7387625e0c_48\", \"run_number\": 53, \"metric\": null, \"status\": \"Completed\", \"run_type\": \"azureml.scriptrun\", \"training_percent\": \"100\", \"start_time\": \"2021-02-09T08:28:19.530288Z\", \"end_time\": \"2021-02-09T08:29:08.563366Z\", \"created_time\": \"2021-02-09T08:28:06.930708Z\", \"created_time_dt\": \"2021-02-09T08:28:06.930708Z\", \"duration\": \"0:01:01\", \"iteration\": \"48\", \"goal\": \"AUC_weighted_max\", \"run_name\": \"MaxAbsScaler, GradientBoosting\", \"run_properties\": \"copy=True\", \"primary_metric\": 0.90283707, \"best_metric\": 0.91194561}, {\"run_id\": \"AutoML_40e1c0a8-d132-4964-879c-fc7387625e0c_49\", \"run_number\": 54, \"metric\": null, \"status\": \"Completed\", \"run_type\": \"azureml.scriptrun\", \"training_percent\": \"100\", \"start_time\": \"2021-02-09T08:28:40.338759Z\", \"end_time\": \"2021-02-09T08:29:37.032319Z\", \"created_time\": \"2021-02-09T08:28:11.903207Z\", \"created_time_dt\": \"2021-02-09T08:28:11.903207Z\", \"duration\": \"0:01:25\", \"iteration\": \"49\", \"goal\": \"AUC_weighted_max\", \"run_name\": \"StandardScalerWrapper, XGBoostClassifier\", \"run_properties\": \"<azureml.automl.runtime.shared.model_wrappers.StandardScalerWrapper object at 0x7fe314da1be0\", \"primary_metric\": 0.90440284, \"best_metric\": 0.91194561}, {\"run_id\": \"AutoML_40e1c0a8-d132-4964-879c-fc7387625e0c_50\", \"run_number\": 55, \"metric\": null, \"status\": \"Completed\", \"run_type\": \"azureml.scriptrun\", \"training_percent\": \"100\", \"start_time\": \"2021-02-09T08:29:05.619893Z\", \"end_time\": \"2021-02-09T08:30:11.340619Z\", \"created_time\": \"2021-02-09T08:28:39.784495Z\", \"created_time_dt\": \"2021-02-09T08:28:39.784495Z\", \"duration\": \"0:01:31\", \"iteration\": \"50\", \"goal\": \"AUC_weighted_max\", \"run_name\": \"RobustScaler, RandomForest\", \"run_properties\": \"copy=True, quantile_range=[10, 90], with_centering=False,\\n             with_scaling=True\", \"primary_metric\": 0.89346933, \"best_metric\": 0.91194561}, {\"run_id\": \"AutoML_40e1c0a8-d132-4964-879c-fc7387625e0c_51\", \"run_number\": 56, \"metric\": null, \"status\": \"Completed\", \"run_type\": \"azureml.scriptrun\", \"training_percent\": \"100\", \"start_time\": \"2021-02-09T08:29:15.426327Z\", \"end_time\": \"2021-02-09T08:30:13.330568Z\", \"created_time\": \"2021-02-09T08:29:03.846516Z\", \"created_time_dt\": \"2021-02-09T08:29:03.846516Z\", \"duration\": \"0:01:09\", \"iteration\": \"51\", \"goal\": \"AUC_weighted_max\", \"run_name\": \"StandardScalerWrapper, LightGBM\", \"run_properties\": \"<azureml.automl.runtime.shared.model_wrappers.StandardScalerWrapper object at 0x7faa45cb4f60\", \"primary_metric\": 0.90693727, \"best_metric\": 0.91194561}, {\"run_id\": \"AutoML_40e1c0a8-d132-4964-879c-fc7387625e0c_52\", \"run_number\": 57, \"metric\": null, \"status\": \"Completed\", \"run_type\": \"azureml.scriptrun\", \"training_percent\": \"100\", \"start_time\": \"2021-02-09T08:29:27.233146Z\", \"end_time\": \"2021-02-09T08:30:18.744737Z\", \"created_time\": \"2021-02-09T08:29:10.951386Z\", \"created_time_dt\": \"2021-02-09T08:29:10.951386Z\", \"duration\": \"0:01:07\", \"iteration\": \"52\", \"goal\": \"AUC_weighted_max\", \"run_name\": \"MaxAbsScaler, LightGBM\", \"run_properties\": \"copy=True\", \"primary_metric\": 0.90435467, \"best_metric\": 0.91194561}, {\"run_id\": \"AutoML_40e1c0a8-d132-4964-879c-fc7387625e0c_53\", \"run_number\": 58, \"metric\": null, \"status\": \"Completed\", \"run_type\": \"azureml.scriptrun\", \"training_percent\": \"100\", \"start_time\": \"2021-02-09T08:29:41.551657Z\", \"end_time\": \"2021-02-09T08:30:31.230861Z\", \"created_time\": \"2021-02-09T08:29:24.007485Z\", \"created_time_dt\": \"2021-02-09T08:29:24.007485Z\", \"duration\": \"0:01:07\", \"iteration\": \"53\", \"goal\": \"AUC_weighted_max\", \"run_name\": \"RobustScaler, LightGBM\", \"run_properties\": \"copy=True, quantile_range=[25, 75], with_centering=False,\\n             with_scaling=True\", \"primary_metric\": 0.9079882, \"best_metric\": 0.91194561}, {\"run_id\": \"AutoML_40e1c0a8-d132-4964-879c-fc7387625e0c_54\", \"run_number\": 59, \"metric\": null, \"status\": \"Canceled\", \"run_type\": \"azureml.scriptrun\", \"training_percent\": \"100\", \"start_time\": \"2021-02-09T08:30:12.95549Z\", \"end_time\": \"2021-02-09T08:30:40.656574Z\", \"created_time\": \"2021-02-09T08:29:40.175539Z\", \"created_time_dt\": \"2021-02-09T08:29:40.175539Z\", \"duration\": \"0:01:00\", \"iteration\": \"54\", \"goal\": null, \"run_name\": \"MinMaxScaler, LightGBM\", \"run_properties\": null}, {\"run_id\": \"AutoML_40e1c0a8-d132-4964-879c-fc7387625e0c_55\", \"run_number\": 60, \"metric\": null, \"status\": \"Canceled\", \"run_type\": \"azureml.scriptrun\", \"training_percent\": \"100\", \"start_time\": \"2021-02-09T08:30:26.62179Z\", \"end_time\": \"2021-02-09T08:30:41.158205Z\", \"created_time\": \"2021-02-09T08:30:14.709975Z\", \"created_time_dt\": \"2021-02-09T08:30:14.709975Z\", \"duration\": \"0:00:26\", \"iteration\": \"55\", \"goal\": null, \"run_name\": \"Canceled\", \"run_properties\": null}, {\"run_id\": \"AutoML_40e1c0a8-d132-4964-879c-fc7387625e0c_56\", \"run_number\": 61, \"metric\": null, \"status\": \"Canceled\", \"run_type\": \"azureml.scriptrun\", \"training_percent\": \"100\", \"start_time\": \"2021-02-09T08:30:29.81778Z\", \"end_time\": \"2021-02-09T08:30:42.442953Z\", \"created_time\": \"2021-02-09T08:30:19.010284Z\", \"created_time_dt\": \"2021-02-09T08:30:19.010284Z\", \"duration\": \"0:00:23\", \"iteration\": \"56\", \"goal\": null, \"run_name\": \"Canceled\", \"run_properties\": null}, {\"run_id\": \"AutoML_40e1c0a8-d132-4964-879c-fc7387625e0c_57\", \"run_number\": 62, \"metric\": null, \"status\": \"Canceled\", \"run_type\": \"azureml.scriptrun\", \"training_percent\": \"100\", \"start_time\": \"2021-02-09T08:30:23.760579Z\", \"end_time\": \"2021-02-09T08:31:02.179177Z\", \"created_time\": \"2021-02-09T08:30:23.760579Z\", \"created_time_dt\": \"2021-02-09T08:30:23.760579Z\", \"duration\": \"0:00:38\", \"iteration\": \"57\", \"goal\": null, \"run_name\": \"Canceled\", \"run_properties\": null}, {\"run_id\": \"AutoML_40e1c0a8-d132-4964-879c-fc7387625e0c_59\", \"run_number\": 63, \"metric\": null, \"status\": \"Completed\", \"run_type\": \"azureml.scriptrun\", \"training_percent\": \"100\", \"start_time\": \"2021-02-09T08:31:17.177032Z\", \"end_time\": \"2021-02-09T08:33:57.69465Z\", \"created_time\": \"2021-02-09T08:31:03.8132Z\", \"created_time_dt\": \"2021-02-09T08:31:03.8132Z\", \"duration\": \"0:02:53\", \"iteration\": \"59\", \"goal\": \"AUC_weighted_max\", \"run_name\": \"StackEnsemble\", \"run_properties\": \"base_learners=[('39',\\n                                        Pipeline(memory=None,\\n                                                 steps=[('standardscalerwrapper',\\n                                                         <azureml.automl.runtime.shared.model_wrappers.StandardScalerWrapper object at 0x7f3dc86b7ba8>\", \"primary_metric\": 0.90937507, \"best_metric\": 0.92023868}, {\"run_id\": \"AutoML_40e1c0a8-d132-4964-879c-fc7387625e0c_58\", \"run_number\": 64, \"metric\": null, \"status\": \"Completed\", \"run_type\": \"azureml.scriptrun\", \"training_percent\": \"100\", \"start_time\": \"2021-02-09T08:31:16.871003Z\", \"end_time\": \"2021-02-09T08:34:01.52066Z\", \"created_time\": \"2021-02-09T08:31:03.826113Z\", \"created_time_dt\": \"2021-02-09T08:31:03.826113Z\", \"duration\": \"0:02:57\", \"iteration\": \"58\", \"goal\": \"AUC_weighted_max\", \"run_name\": \"VotingEnsemble\", \"run_properties\": \"classification_labels=None,\\n                              estimators=[('39',\\n                                           Pipeline(memory=None,\\n                                                    steps=[('standardscalerwrapper',\\n                                                            <azureml.automl.runtime.shared.model_wrappers.StandardScalerWrapper object at 0x7f6c07df5208>\", \"primary_metric\": 0.92023868, \"best_metric\": 0.92023868}], \"children_metrics\": {\"categories\": [0], \"series\": {\"recall_score_weighted\": [{\"categories\": [\"0\", \"1\", \"2\", \"3\", \"4\", \"5\", \"6\", \"7\", \"8\", \"9\", \"10\", \"11\", \"12\", \"13\", \"14\", \"15\", \"16\", \"17\", \"18\", \"19\", \"20\", \"21\", \"22\", \"23\", \"24\", \"25\", \"26\", \"27\", \"28\", \"29\", \"30\", \"31\", \"32\", \"33\", \"34\", \"35\", \"36\", \"37\", \"38\", \"39\", \"40\", \"41\", \"42\", \"43\", \"44\", \"45\", \"46\", \"47\", \"48\", \"49\", \"50\", \"51\", \"52\", \"53\", \"58\", \"59\"], \"mode\": \"markers\", \"name\": \"recall_score_weighted\", \"stepped\": false, \"type\": \"scatter\", \"data\": [0.8359770114942527, 0.8358620689655172, 0.8393103448275863, 0.8027586206896553, 0.8424137931034483, 0.8460919540229884, 0.8221839080459772, 0.8394252873563218, 0.8028735632183908, 0.7659770114942528, 0.7727586206896551, 0.8362068965517242, 0.8089655172413794, 0.8258620689655173, 0.8291954022988506, 0.6389655172413793, 0.7727586206896552, 0.7724137931034483, 0.8122988505747127, 0.8258620689655173, 0.8363218390804598, 0.8157471264367816, 0.8090804597701149, 0.8495402298850575, 0.8291954022988506, 0.6426436781609195, 0.7025287356321839, 0.822528735632184, 0.8293103448275861, 0.8458620689655172, 0.8426436781609196, 0.8425287356321839, 0.8458620689655174, 0.8358620689655172, 0.8059770114942528, 0.8326436781609197, 0.8460919540229886, 0.8089655172413794, 0.8290804597701149, 0.8528735632183908, 0.8426436781609195, 0.8326436781609197, 0.8391954022988506, 0.8091954022988505, 0.8193103448275861, 0.6791954022988507, 0.852873563218391, 0.825632183908046, 0.8495402298850575, 0.8358620689655172, 0.825632183908046, 0.8527586206896552, 0.8493103448275863, 0.8462068965517242, 0.849425287356322, 0.735977011494253]}, {\"categories\": [\"0\", \"1\", \"2\", \"3\", \"4\", \"5\", \"6\", \"7\", \"8\", \"9\", \"10\", \"11\", \"12\", \"13\", \"14\", \"15\", \"16\", \"17\", \"18\", \"19\", \"20\", \"21\", \"22\", \"23\", \"24\", \"25\", \"26\", \"27\", \"28\", \"29\", \"30\", \"31\", \"32\", \"33\", \"34\", \"35\", \"36\", \"37\", \"38\", \"39\", \"40\", \"41\", \"42\", \"43\", \"44\", \"45\", \"46\", \"47\", \"48\", \"49\", \"50\", \"51\", \"52\", \"53\", \"58\", \"59\"], \"mode\": \"lines\", \"name\": \"recall_score_weighted_max\", \"stepped\": true, \"type\": \"scatter\", \"data\": [0.8359770114942527, 0.8359770114942527, 0.8393103448275863, 0.8393103448275863, 0.8424137931034483, 0.8460919540229884, 0.8460919540229884, 0.8460919540229884, 0.8460919540229884, 0.8460919540229884, 0.8460919540229884, 0.8460919540229884, 0.8460919540229884, 0.8460919540229884, 0.8460919540229884, 0.8460919540229884, 0.8460919540229884, 0.8460919540229884, 0.8460919540229884, 0.8460919540229884, 0.8460919540229884, 0.8460919540229884, 0.8460919540229884, 0.8495402298850575, 0.8495402298850575, 0.8495402298850575, 0.8495402298850575, 0.8495402298850575, 0.8495402298850575, 0.8495402298850575, 0.8495402298850575, 0.8495402298850575, 0.8495402298850575, 0.8495402298850575, 0.8495402298850575, 0.8495402298850575, 0.8495402298850575, 0.8495402298850575, 0.8495402298850575, 0.8528735632183908, 0.8528735632183908, 0.8528735632183908, 0.8528735632183908, 0.8528735632183908, 0.8528735632183908, 0.8528735632183908, 0.852873563218391, 0.852873563218391, 0.852873563218391, 0.852873563218391, 0.852873563218391, 0.852873563218391, 0.852873563218391, 0.852873563218391, 0.852873563218391, 0.852873563218391]}], \"precision_score_micro\": [{\"categories\": [\"0\", \"1\", \"2\", \"3\", \"4\", \"5\", \"6\", \"7\", \"8\", \"9\", \"10\", \"11\", \"12\", \"13\", \"14\", \"15\", \"16\", \"17\", \"18\", \"19\", \"20\", \"21\", \"22\", \"23\", \"24\", \"25\", \"26\", \"27\", \"28\", \"29\", \"30\", \"31\", \"32\", \"33\", \"34\", \"35\", \"36\", \"37\", \"38\", \"39\", \"40\", \"41\", \"42\", \"43\", \"44\", \"45\", \"46\", \"47\", \"48\", \"49\", \"50\", \"51\", \"52\", \"53\", \"58\", \"59\"], \"mode\": \"markers\", \"name\": \"precision_score_micro\", \"stepped\": false, \"type\": \"scatter\", \"data\": [0.8359770114942527, 0.8358620689655172, 0.8393103448275863, 0.8027586206896553, 0.8424137931034483, 0.8460919540229884, 0.8221839080459772, 0.8394252873563218, 0.8028735632183908, 0.7659770114942528, 0.7727586206896551, 0.8362068965517242, 0.8089655172413794, 0.8258620689655173, 0.8291954022988506, 0.6389655172413793, 0.7727586206896552, 0.7724137931034483, 0.8122988505747127, 0.8258620689655173, 0.8363218390804598, 0.8157471264367816, 0.8090804597701149, 0.8495402298850575, 0.8291954022988506, 0.6426436781609195, 0.7025287356321839, 0.822528735632184, 0.8293103448275861, 0.8458620689655172, 0.8426436781609196, 0.8425287356321839, 0.8458620689655174, 0.8358620689655172, 0.8059770114942528, 0.8326436781609197, 0.8460919540229886, 0.8089655172413794, 0.8290804597701149, 0.8528735632183908, 0.8426436781609195, 0.8326436781609197, 0.8391954022988506, 0.8091954022988505, 0.8193103448275861, 0.6791954022988507, 0.852873563218391, 0.825632183908046, 0.8495402298850575, 0.8358620689655172, 0.825632183908046, 0.8527586206896552, 0.8493103448275863, 0.8462068965517242, 0.849425287356322, 0.735977011494253]}, {\"categories\": [\"0\", \"1\", \"2\", \"3\", \"4\", \"5\", \"6\", \"7\", \"8\", \"9\", \"10\", \"11\", \"12\", \"13\", \"14\", \"15\", \"16\", \"17\", \"18\", \"19\", \"20\", \"21\", \"22\", \"23\", \"24\", \"25\", \"26\", \"27\", \"28\", \"29\", \"30\", \"31\", \"32\", \"33\", \"34\", \"35\", \"36\", \"37\", \"38\", \"39\", \"40\", \"41\", \"42\", \"43\", \"44\", \"45\", \"46\", \"47\", \"48\", \"49\", \"50\", \"51\", \"52\", \"53\", \"58\", \"59\"], \"mode\": \"lines\", \"name\": \"precision_score_micro_max\", \"stepped\": true, \"type\": \"scatter\", \"data\": [0.8359770114942527, 0.8359770114942527, 0.8393103448275863, 0.8393103448275863, 0.8424137931034483, 0.8460919540229884, 0.8460919540229884, 0.8460919540229884, 0.8460919540229884, 0.8460919540229884, 0.8460919540229884, 0.8460919540229884, 0.8460919540229884, 0.8460919540229884, 0.8460919540229884, 0.8460919540229884, 0.8460919540229884, 0.8460919540229884, 0.8460919540229884, 0.8460919540229884, 0.8460919540229884, 0.8460919540229884, 0.8460919540229884, 0.8495402298850575, 0.8495402298850575, 0.8495402298850575, 0.8495402298850575, 0.8495402298850575, 0.8495402298850575, 0.8495402298850575, 0.8495402298850575, 0.8495402298850575, 0.8495402298850575, 0.8495402298850575, 0.8495402298850575, 0.8495402298850575, 0.8495402298850575, 0.8495402298850575, 0.8495402298850575, 0.8528735632183908, 0.8528735632183908, 0.8528735632183908, 0.8528735632183908, 0.8528735632183908, 0.8528735632183908, 0.8528735632183908, 0.852873563218391, 0.852873563218391, 0.852873563218391, 0.852873563218391, 0.852873563218391, 0.852873563218391, 0.852873563218391, 0.852873563218391, 0.852873563218391, 0.852873563218391]}], \"average_precision_score_weighted\": [{\"categories\": [\"0\", \"1\", \"2\", \"3\", \"4\", \"5\", \"6\", \"7\", \"8\", \"9\", \"10\", \"11\", \"12\", \"13\", \"14\", \"15\", \"16\", \"17\", \"18\", \"19\", \"20\", \"21\", \"22\", \"23\", \"24\", \"25\", \"26\", \"27\", \"28\", \"29\", \"30\", \"31\", \"32\", \"33\", \"34\", \"35\", \"36\", \"37\", \"38\", \"39\", \"40\", \"41\", \"42\", \"43\", \"44\", \"45\", \"46\", \"47\", \"48\", \"49\", \"50\", \"51\", \"52\", \"53\", \"58\", \"59\"], \"mode\": \"markers\", \"name\": \"average_precision_score_weighted\", \"stepped\": false, \"type\": \"scatter\", \"data\": [0.9061112830231934, 0.907154018724502, 0.9191835166052892, 0.9012006249467344, 0.9246045595115089, 0.9191181851611232, 0.9060984182225384, 0.9169945222647635, 0.8896938029203897, 0.7960613547349917, 0.9062769283609807, 0.919447178499829, 0.9193883642157477, 0.8908249586777235, 0.9081603422647152, 0.6358285919365991, 0.8972338565682744, 0.8599708286552572, 0.8948992283320708, 0.9235801903509394, 0.9242756917469194, 0.8759693689752919, 0.8942273744901591, 0.9264321164459188, 0.9220096776056346, 0.6084130356934421, 0.8858347630289444, 0.9159206802630175, 0.9104481826698162, 0.9197985892726658, 0.9265165044809027, 0.9182422412674297, 0.9201043231904263, 0.9182894980333771, 0.8913723323210583, 0.8750821938905405, 0.924710650679132, 0.9220789651675275, 0.9207041239994144, 0.9287487628768828, 0.9142452657136492, 0.9153955834566929, 0.9242519130338056, 0.9085593451729641, 0.9106600976914538, 0.7403937906993161, 0.9139497097979639, 0.9257401625080721, 0.9172102365665126, 0.9214620848707193, 0.9099087560832831, 0.9237640649615168, 0.9210527969169957, 0.9240450785681368, 0.9332734103249946, 0.9259523186992217]}, {\"categories\": [\"0\", \"1\", \"2\", \"3\", \"4\", \"5\", \"6\", \"7\", \"8\", \"9\", \"10\", \"11\", \"12\", \"13\", \"14\", \"15\", \"16\", \"17\", \"18\", \"19\", \"20\", \"21\", \"22\", \"23\", \"24\", \"25\", \"26\", \"27\", \"28\", \"29\", \"30\", \"31\", \"32\", \"33\", \"34\", \"35\", \"36\", \"37\", \"38\", \"39\", \"40\", \"41\", \"42\", \"43\", \"44\", \"45\", \"46\", \"47\", \"48\", \"49\", \"50\", \"51\", \"52\", \"53\", \"58\", \"59\"], \"mode\": \"lines\", \"name\": \"average_precision_score_weighted_max\", \"stepped\": true, \"type\": \"scatter\", \"data\": [0.9061112830231934, 0.907154018724502, 0.9191835166052892, 0.9191835166052892, 0.9246045595115089, 0.9246045595115089, 0.9246045595115089, 0.9246045595115089, 0.9246045595115089, 0.9246045595115089, 0.9246045595115089, 0.9246045595115089, 0.9246045595115089, 0.9246045595115089, 0.9246045595115089, 0.9246045595115089, 0.9246045595115089, 0.9246045595115089, 0.9246045595115089, 0.9246045595115089, 0.9246045595115089, 0.9246045595115089, 0.9246045595115089, 0.9264321164459188, 0.9264321164459188, 0.9264321164459188, 0.9264321164459188, 0.9264321164459188, 0.9264321164459188, 0.9264321164459188, 0.9265165044809027, 0.9265165044809027, 0.9265165044809027, 0.9265165044809027, 0.9265165044809027, 0.9265165044809027, 0.9265165044809027, 0.9265165044809027, 0.9265165044809027, 0.9287487628768828, 0.9287487628768828, 0.9287487628768828, 0.9287487628768828, 0.9287487628768828, 0.9287487628768828, 0.9287487628768828, 0.9287487628768828, 0.9287487628768828, 0.9287487628768828, 0.9287487628768828, 0.9287487628768828, 0.9287487628768828, 0.9287487628768828, 0.9287487628768828, 0.9332734103249946, 0.9332734103249946]}], \"AUC_micro\": [{\"categories\": [\"0\", \"1\", \"2\", \"3\", \"4\", \"5\", \"6\", \"7\", \"8\", \"9\", \"10\", \"11\", \"12\", \"13\", \"14\", \"15\", \"16\", \"17\", \"18\", \"19\", \"20\", \"21\", \"22\", \"23\", \"24\", \"25\", \"26\", \"27\", \"28\", \"29\", \"30\", \"31\", \"32\", \"33\", \"34\", \"35\", \"36\", \"37\", \"38\", \"39\", \"40\", \"41\", \"42\", \"43\", \"44\", \"45\", \"46\", \"47\", \"48\", \"49\", \"50\", \"51\", \"52\", \"53\", \"58\", \"59\"], \"mode\": \"markers\", \"name\": \"AUC_micro\", \"stepped\": false, \"type\": \"scatter\", \"data\": [0.9035422116527941, 0.9042166732725592, 0.9068735632183909, 0.8802790328973444, 0.9157839873166866, 0.9106435460430703, 0.9076416963931828, 0.9055284713964857, 0.864142555159202, 0.8096416963931828, 0.8687254591095256, 0.9019515127493725, 0.8967177962742767, 0.8839496630994848, 0.8941231338353812, 0.6464215880565465, 0.8670568106751222, 0.8364293830096446, 0.8847645659928656, 0.9104369137270446, 0.9114485400977672, 0.8708990619632713, 0.8878191306645528, 0.9175889813713833, 0.9109924692826002, 0.6638425155238473, 0.8314876469811072, 0.9102322631787555, 0.8922186550402961, 0.9134037521469152, 0.9156981107147575, 0.9082166732725593, 0.912768265292641, 0.908563614744352, 0.8820354075835646, 0.8874447086801427, 0.9156220108336637, 0.8963065134099617, 0.9086884661117717, 0.9204447086801426, 0.9100646056282204, 0.9085694279297133, 0.9198170167789668, 0.8839944510503368, 0.8999223147047166, 0.7777645659928656, 0.9053803672876206, 0.9126163297661514, 0.9151425551592022, 0.9099593077024706, 0.9050491478398731, 0.9176883339939227, 0.9170274805126171, 0.9181093935790725, 0.919132778438367, 0.8709690844233056]}, {\"categories\": [\"0\", \"1\", \"2\", \"3\", \"4\", \"5\", \"6\", \"7\", \"8\", \"9\", \"10\", \"11\", \"12\", \"13\", \"14\", \"15\", \"16\", \"17\", \"18\", \"19\", \"20\", \"21\", \"22\", \"23\", \"24\", \"25\", \"26\", \"27\", \"28\", \"29\", \"30\", \"31\", \"32\", \"33\", \"34\", \"35\", \"36\", \"37\", \"38\", \"39\", \"40\", \"41\", \"42\", \"43\", \"44\", \"45\", \"46\", \"47\", \"48\", \"49\", \"50\", \"51\", \"52\", \"53\", \"58\", \"59\"], \"mode\": \"lines\", \"name\": \"AUC_micro_max\", \"stepped\": true, \"type\": \"scatter\", \"data\": [0.9035422116527941, 0.9042166732725592, 0.9068735632183909, 0.9068735632183909, 0.9157839873166866, 0.9157839873166866, 0.9157839873166866, 0.9157839873166866, 0.9157839873166866, 0.9157839873166866, 0.9157839873166866, 0.9157839873166866, 0.9157839873166866, 0.9157839873166866, 0.9157839873166866, 0.9157839873166866, 0.9157839873166866, 0.9157839873166866, 0.9157839873166866, 0.9157839873166866, 0.9157839873166866, 0.9157839873166866, 0.9157839873166866, 0.9175889813713833, 0.9175889813713833, 0.9175889813713833, 0.9175889813713833, 0.9175889813713833, 0.9175889813713833, 0.9175889813713833, 0.9175889813713833, 0.9175889813713833, 0.9175889813713833, 0.9175889813713833, 0.9175889813713833, 0.9175889813713833, 0.9175889813713833, 0.9175889813713833, 0.9175889813713833, 0.9204447086801426, 0.9204447086801426, 0.9204447086801426, 0.9204447086801426, 0.9204447086801426, 0.9204447086801426, 0.9204447086801426, 0.9204447086801426, 0.9204447086801426, 0.9204447086801426, 0.9204447086801426, 0.9204447086801426, 0.9204447086801426, 0.9204447086801426, 0.9204447086801426, 0.9204447086801426, 0.9204447086801426]}], \"log_loss\": [{\"categories\": [\"0\", \"1\", \"2\", \"3\", \"4\", \"5\", \"6\", \"7\", \"8\", \"9\", \"10\", \"11\", \"12\", \"13\", \"14\", \"15\", \"16\", \"17\", \"18\", \"19\", \"20\", \"21\", \"22\", \"23\", \"24\", \"25\", \"26\", \"27\", \"28\", \"29\", \"30\", \"31\", \"32\", \"33\", \"34\", \"35\", \"36\", \"37\", \"38\", \"39\", \"40\", \"41\", \"42\", \"43\", \"44\", \"45\", \"46\", \"47\", \"48\", \"49\", \"50\", \"51\", \"52\", \"53\", \"58\", \"59\"], \"mode\": \"markers\", \"name\": \"log_loss\", \"stepped\": false, \"type\": \"scatter\", \"data\": [0.4772179826627182, 0.41764279466886123, 0.39090022949398195, 0.45830395023082204, 0.36899332413876523, 0.3875340386978599, 0.3747606928050727, 0.4032946483970591, 0.4801443564559791, 1.2837639362986895, 0.47706962679458104, 0.43095727309819704, 0.43345412947318485, 0.41837227206713584, 0.44746801035170325, 0.7617709563916407, 0.48003786975838525, 0.6388543212158023, 0.5324436993585498, 0.4652367527361444, 0.3770457976539652, 0.5019491978405577, 0.48107799348828834, 0.3866294144173284, 0.3861908310406479, 0.6670262838764704, 0.5528108867980152, 0.41069503397244944, 0.4535041639358635, 0.40251629658220195, 0.3788934737148453, 0.3812103997786803, 0.38977536659168127, 0.4045317253442285, 0.42007783415096867, 0.48296873011964864, 0.3618918794911686, 0.4426167360124702, 0.46620768750121977, 0.3823947301536646, 0.3781174941798575, 0.3867686461054956, 0.3580892179941025, 0.45587939865490446, 0.4953270904039181, 0.6273539791895681, 0.3984844608438441, 0.404739531233225, 0.37809665210960514, 0.4920934378969738, 0.5732959855364422, 0.35630025791434355, 0.37515613334613496, 0.3601344323199459, 0.424864291256536, 0.5563486152063539]}, {\"categories\": [\"0\", \"1\", \"2\", \"3\", \"4\", \"5\", \"6\", \"7\", \"8\", \"9\", \"10\", \"11\", \"12\", \"13\", \"14\", \"15\", \"16\", \"17\", \"18\", \"19\", \"20\", \"21\", \"22\", \"23\", \"24\", \"25\", \"26\", \"27\", \"28\", \"29\", \"30\", \"31\", \"32\", \"33\", \"34\", \"35\", \"36\", \"37\", \"38\", \"39\", \"40\", \"41\", \"42\", \"43\", \"44\", \"45\", \"46\", \"47\", \"48\", \"49\", \"50\", \"51\", \"52\", \"53\", \"58\", \"59\"], \"mode\": \"lines\", \"name\": \"log_loss_min\", \"stepped\": true, \"type\": \"scatter\", \"data\": [0.4772179826627182, 0.41764279466886123, 0.39090022949398195, 0.39090022949398195, 0.36899332413876523, 0.36899332413876523, 0.36899332413876523, 0.36899332413876523, 0.36899332413876523, 0.36899332413876523, 0.36899332413876523, 0.36899332413876523, 0.36899332413876523, 0.36899332413876523, 0.36899332413876523, 0.36899332413876523, 0.36899332413876523, 0.36899332413876523, 0.36899332413876523, 0.36899332413876523, 0.36899332413876523, 0.36899332413876523, 0.36899332413876523, 0.36899332413876523, 0.36899332413876523, 0.36899332413876523, 0.36899332413876523, 0.36899332413876523, 0.36899332413876523, 0.36899332413876523, 0.36899332413876523, 0.36899332413876523, 0.36899332413876523, 0.36899332413876523, 0.36899332413876523, 0.36899332413876523, 0.3618918794911686, 0.3618918794911686, 0.3618918794911686, 0.3618918794911686, 0.3618918794911686, 0.3618918794911686, 0.3580892179941025, 0.3580892179941025, 0.3580892179941025, 0.3580892179941025, 0.3580892179941025, 0.3580892179941025, 0.3580892179941025, 0.3580892179941025, 0.3580892179941025, 0.35630025791434355, 0.35630025791434355, 0.35630025791434355, 0.35630025791434355, 0.35630025791434355]}], \"balanced_accuracy\": [{\"categories\": [\"0\", \"1\", \"2\", \"3\", \"4\", \"5\", \"6\", \"7\", \"8\", \"9\", \"10\", \"11\", \"12\", \"13\", \"14\", \"15\", \"16\", \"17\", \"18\", \"19\", \"20\", \"21\", \"22\", \"23\", \"24\", \"25\", \"26\", \"27\", \"28\", \"29\", \"30\", \"31\", \"32\", \"33\", \"34\", \"35\", \"36\", \"37\", \"38\", \"39\", \"40\", \"41\", \"42\", \"43\", \"44\", \"45\", \"46\", \"47\", \"48\", \"49\", \"50\", \"51\", \"52\", \"53\", \"58\", \"59\"], \"mode\": \"markers\", \"name\": \"balanced_accuracy\", \"stepped\": false, \"type\": \"scatter\", \"data\": [0.8077082895810014, 0.8130249020938379, 0.8133671146740369, 0.7211939450074463, 0.826678802985725, 0.8158765482546947, 0.7742286624829531, 0.7835433631014295, 0.720279379278235, 0.6780357113964093, 0.671325745193022, 0.7757962491043154, 0.8150284241565707, 0.7921148655565131, 0.8220161330533184, 0.5513534193685796, 0.6665695488721803, 0.7475695278215302, 0.8129215661023441, 0.7831479179668539, 0.8098585515996843, 0.7889157524080294, 0.7827315588047854, 0.8121548035933047, 0.8061675883549453, 0.483048350041771, 0.5371031746031745, 0.8050397250537411, 0.7687618828857387, 0.8291951448945156, 0.8175504204351458, 0.8207850980382444, 0.819184322383693, 0.8156042671732031, 0.7727466343724925, 0.7839174612255275, 0.8077026352112165, 0.8216935499981839, 0.831349289726292, 0.8205441481668597, 0.8101049886739247, 0.7965178674618033, 0.8164290374321836, 0.740771411400702, 0.7577071218890441, 0.5, 0.8009787887868551, 0.8160787583253258, 0.8197118657150121, 0.8138635203786805, 0.8096455512133429, 0.8232160997850357, 0.8167061791501151, 0.805065306134242, 0.814181859870361, 0.6059735038353459]}, {\"categories\": [\"0\", \"1\", \"2\", \"3\", \"4\", \"5\", \"6\", \"7\", \"8\", \"9\", \"10\", \"11\", \"12\", \"13\", \"14\", \"15\", \"16\", \"17\", \"18\", \"19\", \"20\", \"21\", \"22\", \"23\", \"24\", \"25\", \"26\", \"27\", \"28\", \"29\", \"30\", \"31\", \"32\", \"33\", \"34\", \"35\", \"36\", \"37\", \"38\", \"39\", \"40\", \"41\", \"42\", \"43\", \"44\", \"45\", \"46\", \"47\", \"48\", \"49\", \"50\", \"51\", \"52\", \"53\", \"58\", \"59\"], \"mode\": \"lines\", \"name\": \"balanced_accuracy_max\", \"stepped\": true, \"type\": \"scatter\", \"data\": [0.8077082895810014, 0.8130249020938379, 0.8133671146740369, 0.8133671146740369, 0.826678802985725, 0.826678802985725, 0.826678802985725, 0.826678802985725, 0.826678802985725, 0.826678802985725, 0.826678802985725, 0.826678802985725, 0.826678802985725, 0.826678802985725, 0.826678802985725, 0.826678802985725, 0.826678802985725, 0.826678802985725, 0.826678802985725, 0.826678802985725, 0.826678802985725, 0.826678802985725, 0.826678802985725, 0.826678802985725, 0.826678802985725, 0.826678802985725, 0.826678802985725, 0.826678802985725, 0.826678802985725, 0.8291951448945156, 0.8291951448945156, 0.8291951448945156, 0.8291951448945156, 0.8291951448945156, 0.8291951448945156, 0.8291951448945156, 0.8291951448945156, 0.8291951448945156, 0.831349289726292, 0.831349289726292, 0.831349289726292, 0.831349289726292, 0.831349289726292, 0.831349289726292, 0.831349289726292, 0.831349289726292, 0.831349289726292, 0.831349289726292, 0.831349289726292, 0.831349289726292, 0.831349289726292, 0.831349289726292, 0.831349289726292, 0.831349289726292, 0.831349289726292, 0.831349289726292]}], \"recall_score_macro\": [{\"categories\": [\"0\", \"1\", \"2\", \"3\", \"4\", \"5\", \"6\", \"7\", \"8\", \"9\", \"10\", \"11\", \"12\", \"13\", \"14\", \"15\", \"16\", \"17\", \"18\", \"19\", \"20\", \"21\", \"22\", \"23\", \"24\", \"25\", \"26\", \"27\", \"28\", \"29\", \"30\", \"31\", \"32\", \"33\", \"34\", \"35\", \"36\", \"37\", \"38\", \"39\", \"40\", \"41\", \"42\", \"43\", \"44\", \"45\", \"46\", \"47\", \"48\", \"49\", \"50\", \"51\", \"52\", \"53\", \"58\", \"59\"], \"mode\": \"markers\", \"name\": \"recall_score_macro\", \"stepped\": false, \"type\": \"scatter\", \"data\": [0.8077082895810014, 0.8130249020938379, 0.8133671146740369, 0.7211939450074463, 0.826678802985725, 0.8158765482546947, 0.7742286624829531, 0.7835433631014295, 0.720279379278235, 0.6780357113964093, 0.671325745193022, 0.7757962491043154, 0.8150284241565707, 0.7921148655565131, 0.8220161330533184, 0.5513534193685796, 0.6665695488721803, 0.7475695278215302, 0.8129215661023441, 0.7831479179668539, 0.8098585515996843, 0.7889157524080294, 0.7827315588047854, 0.8121548035933047, 0.8061675883549453, 0.483048350041771, 0.5371031746031745, 0.8050397250537411, 0.7687618828857387, 0.8291951448945156, 0.8175504204351458, 0.8207850980382444, 0.819184322383693, 0.8156042671732031, 0.7727466343724925, 0.7839174612255275, 0.8077026352112165, 0.8216935499981839, 0.831349289726292, 0.8205441481668597, 0.8101049886739247, 0.7965178674618033, 0.8164290374321836, 0.740771411400702, 0.7577071218890441, 0.5, 0.8009787887868551, 0.8160787583253258, 0.8197118657150121, 0.8138635203786805, 0.8096455512133429, 0.8232160997850357, 0.8167061791501151, 0.805065306134242, 0.814181859870361, 0.6059735038353459]}, {\"categories\": [\"0\", \"1\", \"2\", \"3\", \"4\", \"5\", \"6\", \"7\", \"8\", \"9\", \"10\", \"11\", \"12\", \"13\", \"14\", \"15\", \"16\", \"17\", \"18\", \"19\", \"20\", \"21\", \"22\", \"23\", \"24\", \"25\", \"26\", \"27\", \"28\", \"29\", \"30\", \"31\", \"32\", \"33\", \"34\", \"35\", \"36\", \"37\", \"38\", \"39\", \"40\", \"41\", \"42\", \"43\", \"44\", \"45\", \"46\", \"47\", \"48\", \"49\", \"50\", \"51\", \"52\", \"53\", \"58\", \"59\"], \"mode\": \"lines\", \"name\": \"recall_score_macro_max\", \"stepped\": true, \"type\": \"scatter\", \"data\": [0.8077082895810014, 0.8130249020938379, 0.8133671146740369, 0.8133671146740369, 0.826678802985725, 0.826678802985725, 0.826678802985725, 0.826678802985725, 0.826678802985725, 0.826678802985725, 0.826678802985725, 0.826678802985725, 0.826678802985725, 0.826678802985725, 0.826678802985725, 0.826678802985725, 0.826678802985725, 0.826678802985725, 0.826678802985725, 0.826678802985725, 0.826678802985725, 0.826678802985725, 0.826678802985725, 0.826678802985725, 0.826678802985725, 0.826678802985725, 0.826678802985725, 0.826678802985725, 0.826678802985725, 0.8291951448945156, 0.8291951448945156, 0.8291951448945156, 0.8291951448945156, 0.8291951448945156, 0.8291951448945156, 0.8291951448945156, 0.8291951448945156, 0.8291951448945156, 0.831349289726292, 0.831349289726292, 0.831349289726292, 0.831349289726292, 0.831349289726292, 0.831349289726292, 0.831349289726292, 0.831349289726292, 0.831349289726292, 0.831349289726292, 0.831349289726292, 0.831349289726292, 0.831349289726292, 0.831349289726292, 0.831349289726292, 0.831349289726292, 0.831349289726292, 0.831349289726292]}], \"recall_score_micro\": [{\"categories\": [\"0\", \"1\", \"2\", \"3\", \"4\", \"5\", \"6\", \"7\", \"8\", \"9\", \"10\", \"11\", \"12\", \"13\", \"14\", \"15\", \"16\", \"17\", \"18\", \"19\", \"20\", \"21\", \"22\", \"23\", \"24\", \"25\", \"26\", \"27\", \"28\", \"29\", \"30\", \"31\", \"32\", \"33\", \"34\", \"35\", \"36\", \"37\", \"38\", \"39\", \"40\", \"41\", \"42\", \"43\", \"44\", \"45\", \"46\", \"47\", \"48\", \"49\", \"50\", \"51\", \"52\", \"53\", \"58\", \"59\"], \"mode\": \"markers\", \"name\": \"recall_score_micro\", \"stepped\": false, \"type\": \"scatter\", \"data\": [0.8359770114942527, 0.8358620689655172, 0.8393103448275863, 0.8027586206896553, 0.8424137931034483, 0.8460919540229884, 0.8221839080459772, 0.8394252873563218, 0.8028735632183908, 0.7659770114942528, 0.7727586206896551, 0.8362068965517242, 0.8089655172413794, 0.8258620689655173, 0.8291954022988506, 0.6389655172413793, 0.7727586206896552, 0.7724137931034483, 0.8122988505747127, 0.8258620689655173, 0.8363218390804598, 0.8157471264367816, 0.8090804597701149, 0.8495402298850575, 0.8291954022988506, 0.6426436781609195, 0.7025287356321839, 0.822528735632184, 0.8293103448275861, 0.8458620689655172, 0.8426436781609196, 0.8425287356321839, 0.8458620689655174, 0.8358620689655172, 0.8059770114942528, 0.8326436781609197, 0.8460919540229886, 0.8089655172413794, 0.8290804597701149, 0.8528735632183908, 0.8426436781609195, 0.8326436781609197, 0.8391954022988506, 0.8091954022988505, 0.8193103448275861, 0.6791954022988507, 0.852873563218391, 0.825632183908046, 0.8495402298850575, 0.8358620689655172, 0.825632183908046, 0.8527586206896552, 0.8493103448275863, 0.8462068965517242, 0.849425287356322, 0.735977011494253]}, {\"categories\": [\"0\", \"1\", \"2\", \"3\", \"4\", \"5\", \"6\", \"7\", \"8\", \"9\", \"10\", \"11\", \"12\", \"13\", \"14\", \"15\", \"16\", \"17\", \"18\", \"19\", \"20\", \"21\", \"22\", \"23\", \"24\", \"25\", \"26\", \"27\", \"28\", \"29\", \"30\", \"31\", \"32\", \"33\", \"34\", \"35\", \"36\", \"37\", \"38\", \"39\", \"40\", \"41\", \"42\", \"43\", \"44\", \"45\", \"46\", \"47\", \"48\", \"49\", \"50\", \"51\", \"52\", \"53\", \"58\", \"59\"], \"mode\": \"lines\", \"name\": \"recall_score_micro_max\", \"stepped\": true, \"type\": \"scatter\", \"data\": [0.8359770114942527, 0.8359770114942527, 0.8393103448275863, 0.8393103448275863, 0.8424137931034483, 0.8460919540229884, 0.8460919540229884, 0.8460919540229884, 0.8460919540229884, 0.8460919540229884, 0.8460919540229884, 0.8460919540229884, 0.8460919540229884, 0.8460919540229884, 0.8460919540229884, 0.8460919540229884, 0.8460919540229884, 0.8460919540229884, 0.8460919540229884, 0.8460919540229884, 0.8460919540229884, 0.8460919540229884, 0.8460919540229884, 0.8495402298850575, 0.8495402298850575, 0.8495402298850575, 0.8495402298850575, 0.8495402298850575, 0.8495402298850575, 0.8495402298850575, 0.8495402298850575, 0.8495402298850575, 0.8495402298850575, 0.8495402298850575, 0.8495402298850575, 0.8495402298850575, 0.8495402298850575, 0.8495402298850575, 0.8495402298850575, 0.8528735632183908, 0.8528735632183908, 0.8528735632183908, 0.8528735632183908, 0.8528735632183908, 0.8528735632183908, 0.8528735632183908, 0.852873563218391, 0.852873563218391, 0.852873563218391, 0.852873563218391, 0.852873563218391, 0.852873563218391, 0.852873563218391, 0.852873563218391, 0.852873563218391, 0.852873563218391]}], \"f1_score_micro\": [{\"categories\": [\"0\", \"1\", \"2\", \"3\", \"4\", \"5\", \"6\", \"7\", \"8\", \"9\", \"10\", \"11\", \"12\", \"13\", \"14\", \"15\", \"16\", \"17\", \"18\", \"19\", \"20\", \"21\", \"22\", \"23\", \"24\", \"25\", \"26\", \"27\", \"28\", \"29\", \"30\", \"31\", \"32\", \"33\", \"34\", \"35\", \"36\", \"37\", \"38\", \"39\", \"40\", \"41\", \"42\", \"43\", \"44\", \"45\", \"46\", \"47\", \"48\", \"49\", \"50\", \"51\", \"52\", \"53\", \"58\", \"59\"], \"mode\": \"markers\", \"name\": \"f1_score_micro\", \"stepped\": false, \"type\": \"scatter\", \"data\": [0.8359770114942527, 0.8358620689655172, 0.8393103448275863, 0.8027586206896553, 0.8424137931034483, 0.8460919540229884, 0.8221839080459772, 0.8394252873563218, 0.8028735632183908, 0.7659770114942528, 0.7727586206896551, 0.8362068965517242, 0.8089655172413794, 0.8258620689655173, 0.8291954022988506, 0.6389655172413793, 0.7727586206896552, 0.7724137931034483, 0.8122988505747127, 0.8258620689655173, 0.8363218390804598, 0.8157471264367816, 0.8090804597701149, 0.8495402298850575, 0.8291954022988506, 0.6426436781609195, 0.7025287356321839, 0.822528735632184, 0.8293103448275861, 0.8458620689655172, 0.8426436781609196, 0.842528735632184, 0.8458620689655174, 0.8358620689655172, 0.8059770114942528, 0.8326436781609197, 0.8460919540229886, 0.8089655172413794, 0.8290804597701149, 0.8528735632183908, 0.8426436781609196, 0.8326436781609197, 0.8391954022988507, 0.8091954022988505, 0.8193103448275861, 0.6791954022988507, 0.852873563218391, 0.825632183908046, 0.8495402298850575, 0.8358620689655172, 0.825632183908046, 0.8527586206896552, 0.8493103448275863, 0.8462068965517242, 0.849425287356322, 0.735977011494253]}, {\"categories\": [\"0\", \"1\", \"2\", \"3\", \"4\", \"5\", \"6\", \"7\", \"8\", \"9\", \"10\", \"11\", \"12\", \"13\", \"14\", \"15\", \"16\", \"17\", \"18\", \"19\", \"20\", \"21\", \"22\", \"23\", \"24\", \"25\", \"26\", \"27\", \"28\", \"29\", \"30\", \"31\", \"32\", \"33\", \"34\", \"35\", \"36\", \"37\", \"38\", \"39\", \"40\", \"41\", \"42\", \"43\", \"44\", \"45\", \"46\", \"47\", \"48\", \"49\", \"50\", \"51\", \"52\", \"53\", \"58\", \"59\"], \"mode\": \"lines\", \"name\": \"f1_score_micro_max\", \"stepped\": true, \"type\": \"scatter\", \"data\": [0.8359770114942527, 0.8359770114942527, 0.8393103448275863, 0.8393103448275863, 0.8424137931034483, 0.8460919540229884, 0.8460919540229884, 0.8460919540229884, 0.8460919540229884, 0.8460919540229884, 0.8460919540229884, 0.8460919540229884, 0.8460919540229884, 0.8460919540229884, 0.8460919540229884, 0.8460919540229884, 0.8460919540229884, 0.8460919540229884, 0.8460919540229884, 0.8460919540229884, 0.8460919540229884, 0.8460919540229884, 0.8460919540229884, 0.8495402298850575, 0.8495402298850575, 0.8495402298850575, 0.8495402298850575, 0.8495402298850575, 0.8495402298850575, 0.8495402298850575, 0.8495402298850575, 0.8495402298850575, 0.8495402298850575, 0.8495402298850575, 0.8495402298850575, 0.8495402298850575, 0.8495402298850575, 0.8495402298850575, 0.8495402298850575, 0.8528735632183908, 0.8528735632183908, 0.8528735632183908, 0.8528735632183908, 0.8528735632183908, 0.8528735632183908, 0.8528735632183908, 0.852873563218391, 0.852873563218391, 0.852873563218391, 0.852873563218391, 0.852873563218391, 0.852873563218391, 0.852873563218391, 0.852873563218391, 0.852873563218391, 0.852873563218391]}], \"accuracy\": [{\"categories\": [\"0\", \"1\", \"2\", \"3\", \"4\", \"5\", \"6\", \"7\", \"8\", \"9\", \"10\", \"11\", \"12\", \"13\", \"14\", \"15\", \"16\", \"17\", \"18\", \"19\", \"20\", \"21\", \"22\", \"23\", \"24\", \"25\", \"26\", \"27\", \"28\", \"29\", \"30\", \"31\", \"32\", \"33\", \"34\", \"35\", \"36\", \"37\", \"38\", \"39\", \"40\", \"41\", \"42\", \"43\", \"44\", \"45\", \"46\", \"47\", \"48\", \"49\", \"50\", \"51\", \"52\", \"53\", \"58\", \"59\"], \"mode\": \"markers\", \"name\": \"accuracy\", \"stepped\": false, \"type\": \"scatter\", \"data\": [0.8359770114942527, 0.8358620689655172, 0.8393103448275863, 0.8027586206896553, 0.8424137931034483, 0.8460919540229884, 0.8221839080459772, 0.8394252873563218, 0.8028735632183908, 0.7659770114942528, 0.7727586206896551, 0.8362068965517242, 0.8089655172413794, 0.8258620689655173, 0.8291954022988506, 0.6389655172413793, 0.7727586206896552, 0.7724137931034483, 0.8122988505747127, 0.8258620689655173, 0.8363218390804598, 0.8157471264367816, 0.8090804597701149, 0.8495402298850575, 0.8291954022988506, 0.6426436781609195, 0.7025287356321839, 0.822528735632184, 0.8293103448275861, 0.8458620689655172, 0.8426436781609196, 0.8425287356321839, 0.8458620689655174, 0.8358620689655172, 0.8059770114942528, 0.8326436781609197, 0.8460919540229886, 0.8089655172413794, 0.8290804597701149, 0.8528735632183908, 0.8426436781609195, 0.8326436781609197, 0.8391954022988506, 0.8091954022988505, 0.8193103448275861, 0.6791954022988507, 0.852873563218391, 0.825632183908046, 0.8495402298850575, 0.8358620689655172, 0.825632183908046, 0.8527586206896552, 0.8493103448275863, 0.8462068965517242, 0.849425287356322, 0.735977011494253]}, {\"categories\": [\"0\", \"1\", \"2\", \"3\", \"4\", \"5\", \"6\", \"7\", \"8\", \"9\", \"10\", \"11\", \"12\", \"13\", \"14\", \"15\", \"16\", \"17\", \"18\", \"19\", \"20\", \"21\", \"22\", \"23\", \"24\", \"25\", \"26\", \"27\", \"28\", \"29\", \"30\", \"31\", \"32\", \"33\", \"34\", \"35\", \"36\", \"37\", \"38\", \"39\", \"40\", \"41\", \"42\", \"43\", \"44\", \"45\", \"46\", \"47\", \"48\", \"49\", \"50\", \"51\", \"52\", \"53\", \"58\", \"59\"], \"mode\": \"lines\", \"name\": \"accuracy_max\", \"stepped\": true, \"type\": \"scatter\", \"data\": [0.8359770114942527, 0.8359770114942527, 0.8393103448275863, 0.8393103448275863, 0.8424137931034483, 0.8460919540229884, 0.8460919540229884, 0.8460919540229884, 0.8460919540229884, 0.8460919540229884, 0.8460919540229884, 0.8460919540229884, 0.8460919540229884, 0.8460919540229884, 0.8460919540229884, 0.8460919540229884, 0.8460919540229884, 0.8460919540229884, 0.8460919540229884, 0.8460919540229884, 0.8460919540229884, 0.8460919540229884, 0.8460919540229884, 0.8495402298850575, 0.8495402298850575, 0.8495402298850575, 0.8495402298850575, 0.8495402298850575, 0.8495402298850575, 0.8495402298850575, 0.8495402298850575, 0.8495402298850575, 0.8495402298850575, 0.8495402298850575, 0.8495402298850575, 0.8495402298850575, 0.8495402298850575, 0.8495402298850575, 0.8495402298850575, 0.8528735632183908, 0.8528735632183908, 0.8528735632183908, 0.8528735632183908, 0.8528735632183908, 0.8528735632183908, 0.8528735632183908, 0.852873563218391, 0.852873563218391, 0.852873563218391, 0.852873563218391, 0.852873563218391, 0.852873563218391, 0.852873563218391, 0.852873563218391, 0.852873563218391, 0.852873563218391]}], \"matthews_correlation\": [{\"categories\": [\"0\", \"1\", \"2\", \"3\", \"4\", \"5\", \"6\", \"7\", \"8\", \"9\", \"10\", \"11\", \"12\", \"13\", \"14\", \"15\", \"16\", \"17\", \"18\", \"19\", \"20\", \"21\", \"22\", \"23\", \"24\", \"25\", \"26\", \"27\", \"28\", \"29\", \"30\", \"31\", \"32\", \"33\", \"34\", \"35\", \"36\", \"37\", \"38\", \"39\", \"40\", \"41\", \"42\", \"43\", \"44\", \"45\", \"46\", \"47\", \"48\", \"49\", \"50\", \"51\", \"52\", \"53\", \"58\", \"59\"], \"mode\": \"markers\", \"name\": \"matthews_correlation\", \"stepped\": false, \"type\": \"scatter\", \"data\": [0.6231314496952846, 0.6345538749068885, 0.630179216544927, 0.5319419612903762, 0.6436876440055992, 0.6473657447268517, 0.5761314968702331, 0.6278327127596586, 0.5486844151091047, 0.4352854456898543, 0.4599319748526889, 0.6328210943657802, 0.592232144504507, 0.610980213007554, 0.6430715077526425, 0.10426477830980234, 0.45700695978654676, 0.48437291325664883, 0.594425125294907, 0.591194297640371, 0.635509035014126, 0.575726535449478, 0.5685418801176718, 0.6463555727957914, 0.6171636150740979, -0.03896597943853032, 0.15790440461326574, 0.60176026338481, 0.5978057098886025, 0.6612921399462637, 0.6488610427476054, 0.6466372773600422, 0.6512386927293923, 0.6376393683042006, 0.5636847807242594, 0.605636864368332, 0.6535272030943207, 0.608267310020224, 0.6296286509115128, 0.6620613133899113, 0.6348781108374746, 0.6224378453009556, 0.6379288185749646, 0.5546994932998655, 0.5740210545466582, 0.0, 0.6635332892931654, 0.6129109755969832, 0.6557185983635947, 0.6268489117693183, 0.6032436088023274, 0.6700116905837972, 0.6481620223760249, 0.6436233334789339, 0.6586729324826095, 0.21935801949866293]}, {\"categories\": [\"0\", \"1\", \"2\", \"3\", \"4\", \"5\", \"6\", \"7\", \"8\", \"9\", \"10\", \"11\", \"12\", \"13\", \"14\", \"15\", \"16\", \"17\", \"18\", \"19\", \"20\", \"21\", \"22\", \"23\", \"24\", \"25\", \"26\", \"27\", \"28\", \"29\", \"30\", \"31\", \"32\", \"33\", \"34\", \"35\", \"36\", \"37\", \"38\", \"39\", \"40\", \"41\", \"42\", \"43\", \"44\", \"45\", \"46\", \"47\", \"48\", \"49\", \"50\", \"51\", \"52\", \"53\", \"58\", \"59\"], \"mode\": \"lines\", \"name\": \"matthews_correlation_max\", \"stepped\": true, \"type\": \"scatter\", \"data\": [0.6231314496952846, 0.6345538749068885, 0.6345538749068885, 0.6345538749068885, 0.6436876440055992, 0.6473657447268517, 0.6473657447268517, 0.6473657447268517, 0.6473657447268517, 0.6473657447268517, 0.6473657447268517, 0.6473657447268517, 0.6473657447268517, 0.6473657447268517, 0.6473657447268517, 0.6473657447268517, 0.6473657447268517, 0.6473657447268517, 0.6473657447268517, 0.6473657447268517, 0.6473657447268517, 0.6473657447268517, 0.6473657447268517, 0.6473657447268517, 0.6473657447268517, 0.6473657447268517, 0.6473657447268517, 0.6473657447268517, 0.6473657447268517, 0.6612921399462637, 0.6612921399462637, 0.6612921399462637, 0.6612921399462637, 0.6612921399462637, 0.6612921399462637, 0.6612921399462637, 0.6612921399462637, 0.6612921399462637, 0.6612921399462637, 0.6620613133899113, 0.6620613133899113, 0.6620613133899113, 0.6620613133899113, 0.6620613133899113, 0.6620613133899113, 0.6620613133899113, 0.6635332892931654, 0.6635332892931654, 0.6635332892931654, 0.6635332892931654, 0.6635332892931654, 0.6700116905837972, 0.6700116905837972, 0.6700116905837972, 0.6700116905837972, 0.6700116905837972]}], \"norm_macro_recall\": [{\"categories\": [\"0\", \"1\", \"2\", \"3\", \"4\", \"5\", \"6\", \"7\", \"8\", \"9\", \"10\", \"11\", \"12\", \"13\", \"14\", \"15\", \"16\", \"17\", \"18\", \"19\", \"20\", \"21\", \"22\", \"23\", \"24\", \"25\", \"26\", \"27\", \"28\", \"29\", \"30\", \"31\", \"32\", \"33\", \"34\", \"35\", \"36\", \"37\", \"38\", \"39\", \"40\", \"41\", \"42\", \"43\", \"44\", \"45\", \"46\", \"47\", \"48\", \"49\", \"50\", \"51\", \"52\", \"53\", \"58\", \"59\"], \"mode\": \"markers\", \"name\": \"norm_macro_recall\", \"stepped\": false, \"type\": \"scatter\", \"data\": [0.6154165791620023, 0.626049804187676, 0.6267342293480738, 0.4423878900148922, 0.6533576059714503, 0.6317530965093894, 0.548457324965906, 0.5670867262028589, 0.4405587585564702, 0.3560714227928186, 0.34265149038604414, 0.5515924982086309, 0.6300568483131411, 0.5842297311130263, 0.6440322661066368, 0.1267612930547713, 0.3331390977443608, 0.49513905564306027, 0.6258431322046883, 0.5662958359337078, 0.6197171031993687, 0.5778315048160586, 0.5654631176095707, 0.6243096071866094, 0.6123351767098907, 0.01517857142857142, 0.0742063492063492, 0.6100794501074821, 0.5375237657714773, 0.6583902897890312, 0.6351008408702915, 0.641570196076489, 0.6383686447673862, 0.6312085343464062, 0.5454932687449849, 0.5678349224510552, 0.615405270422433, 0.6433870999963677, 0.662698579452584, 0.6410882963337198, 0.6202099773478491, 0.5930357349236068, 0.6328580748643677, 0.48154282280140404, 0.515414243778088, 0.0, 0.6019575775737103, 0.6321575166506517, 0.6394237314300243, 0.6277270407573612, 0.619291102426686, 0.6464321995700714, 0.63341235830023, 0.6101306122684841, 0.628363719740722, 0.21194700767069188]}, {\"categories\": [\"0\", \"1\", \"2\", \"3\", \"4\", \"5\", \"6\", \"7\", \"8\", \"9\", \"10\", \"11\", \"12\", \"13\", \"14\", \"15\", \"16\", \"17\", \"18\", \"19\", \"20\", \"21\", \"22\", \"23\", \"24\", \"25\", \"26\", \"27\", \"28\", \"29\", \"30\", \"31\", \"32\", \"33\", \"34\", \"35\", \"36\", \"37\", \"38\", \"39\", \"40\", \"41\", \"42\", \"43\", \"44\", \"45\", \"46\", \"47\", \"48\", \"49\", \"50\", \"51\", \"52\", \"53\", \"58\", \"59\"], \"mode\": \"lines\", \"name\": \"norm_macro_recall_max\", \"stepped\": true, \"type\": \"scatter\", \"data\": [0.6154165791620023, 0.626049804187676, 0.6267342293480738, 0.6267342293480738, 0.6533576059714503, 0.6533576059714503, 0.6533576059714503, 0.6533576059714503, 0.6533576059714503, 0.6533576059714503, 0.6533576059714503, 0.6533576059714503, 0.6533576059714503, 0.6533576059714503, 0.6533576059714503, 0.6533576059714503, 0.6533576059714503, 0.6533576059714503, 0.6533576059714503, 0.6533576059714503, 0.6533576059714503, 0.6533576059714503, 0.6533576059714503, 0.6533576059714503, 0.6533576059714503, 0.6533576059714503, 0.6533576059714503, 0.6533576059714503, 0.6533576059714503, 0.6583902897890312, 0.6583902897890312, 0.6583902897890312, 0.6583902897890312, 0.6583902897890312, 0.6583902897890312, 0.6583902897890312, 0.6583902897890312, 0.6583902897890312, 0.662698579452584, 0.662698579452584, 0.662698579452584, 0.662698579452584, 0.662698579452584, 0.662698579452584, 0.662698579452584, 0.662698579452584, 0.662698579452584, 0.662698579452584, 0.662698579452584, 0.662698579452584, 0.662698579452584, 0.662698579452584, 0.662698579452584, 0.662698579452584, 0.662698579452584, 0.662698579452584]}], \"average_precision_score_micro\": [{\"categories\": [\"0\", \"1\", \"2\", \"3\", \"4\", \"5\", \"6\", \"7\", \"8\", \"9\", \"10\", \"11\", \"12\", \"13\", \"14\", \"15\", \"16\", \"17\", \"18\", \"19\", \"20\", \"21\", \"22\", \"23\", \"24\", \"25\", \"26\", \"27\", \"28\", \"29\", \"30\", \"31\", \"32\", \"33\", \"34\", \"35\", \"36\", \"37\", \"38\", \"39\", \"40\", \"41\", \"42\", \"43\", \"44\", \"45\", \"46\", \"47\", \"48\", \"49\", \"50\", \"51\", \"52\", \"53\", \"58\", \"59\"], \"mode\": \"markers\", \"name\": \"average_precision_score_micro\", \"stepped\": false, \"type\": \"scatter\", \"data\": [0.9020054536251629, 0.9033793522124445, 0.911162942103229, 0.8842056487815688, 0.9166765475739567, 0.914576308872574, 0.9094887056553025, 0.9109237652007074, 0.8648226535263305, 0.7964089391804331, 0.8748461018102018, 0.9061628489133031, 0.8971241960412903, 0.8879738699299526, 0.8921992368479221, 0.6466874753087125, 0.8775305468282095, 0.8376801270628451, 0.8853741841702435, 0.9145380507917885, 0.9129193828235513, 0.8641924364245662, 0.8871528832025017, 0.9206666391333032, 0.907099277164944, 0.6577925758411947, 0.847334298201066, 0.9082604610758829, 0.8937346070170612, 0.9160619999335472, 0.9189223288088494, 0.9107272494838071, 0.9163122650327005, 0.9115747390419096, 0.8870083420701524, 0.874419192634296, 0.9192706643713782, 0.9004069668553096, 0.9074420815232871, 0.9237343167710584, 0.912787276749329, 0.9130276006958791, 0.9235467932880608, 0.8913683002035173, 0.9039498585376264, 0.7567828134077542, 0.9077029945047904, 0.914126986662118, 0.9165239769065121, 0.9123110717403458, 0.9039184373774507, 0.9201852745831353, 0.9196641530581706, 0.9213096228579941, 0.92499397979046, 0.8828184247292146]}, {\"categories\": [\"0\", \"1\", \"2\", \"3\", \"4\", \"5\", \"6\", \"7\", \"8\", \"9\", \"10\", \"11\", \"12\", \"13\", \"14\", \"15\", \"16\", \"17\", \"18\", \"19\", \"20\", \"21\", \"22\", \"23\", \"24\", \"25\", \"26\", \"27\", \"28\", \"29\", \"30\", \"31\", \"32\", \"33\", \"34\", \"35\", \"36\", \"37\", \"38\", \"39\", \"40\", \"41\", \"42\", \"43\", \"44\", \"45\", \"46\", \"47\", \"48\", \"49\", \"50\", \"51\", \"52\", \"53\", \"58\", \"59\"], \"mode\": \"lines\", \"name\": \"average_precision_score_micro_max\", \"stepped\": true, \"type\": \"scatter\", \"data\": [0.9020054536251629, 0.9033793522124445, 0.911162942103229, 0.911162942103229, 0.9166765475739567, 0.9166765475739567, 0.9166765475739567, 0.9166765475739567, 0.9166765475739567, 0.9166765475739567, 0.9166765475739567, 0.9166765475739567, 0.9166765475739567, 0.9166765475739567, 0.9166765475739567, 0.9166765475739567, 0.9166765475739567, 0.9166765475739567, 0.9166765475739567, 0.9166765475739567, 0.9166765475739567, 0.9166765475739567, 0.9166765475739567, 0.9206666391333032, 0.9206666391333032, 0.9206666391333032, 0.9206666391333032, 0.9206666391333032, 0.9206666391333032, 0.9206666391333032, 0.9206666391333032, 0.9206666391333032, 0.9206666391333032, 0.9206666391333032, 0.9206666391333032, 0.9206666391333032, 0.9206666391333032, 0.9206666391333032, 0.9206666391333032, 0.9237343167710584, 0.9237343167710584, 0.9237343167710584, 0.9237343167710584, 0.9237343167710584, 0.9237343167710584, 0.9237343167710584, 0.9237343167710584, 0.9237343167710584, 0.9237343167710584, 0.9237343167710584, 0.9237343167710584, 0.9237343167710584, 0.9237343167710584, 0.9237343167710584, 0.92499397979046, 0.92499397979046]}], \"precision_score_weighted\": [{\"categories\": [\"0\", \"1\", \"2\", \"3\", \"4\", \"5\", \"6\", \"7\", \"8\", \"9\", \"10\", \"11\", \"12\", \"13\", \"14\", \"15\", \"16\", \"17\", \"18\", \"19\", \"20\", \"21\", \"22\", \"23\", \"24\", \"25\", \"26\", \"27\", \"28\", \"29\", \"30\", \"31\", \"32\", \"33\", \"34\", \"35\", \"36\", \"37\", \"38\", \"39\", \"40\", \"41\", \"42\", \"43\", \"44\", \"45\", \"46\", \"47\", \"48\", \"49\", \"50\", \"51\", \"52\", \"53\", \"58\", \"59\"], \"mode\": \"markers\", \"name\": \"precision_score_weighted\", \"stepped\": false, \"type\": \"scatter\", \"data\": [0.8443308716969533, 0.8506678986628277, 0.8507479716130391, 0.8283330192046833, 0.8574869900629482, 0.8577019979890057, 0.8327905346059283, 0.8522371162903397, 0.8376162241621262, 0.7837569262377359, 0.8133929492925495, 0.8571499332335165, 0.8408364398803574, 0.8478768217992849, 0.8613892242000819, 0.6261394969463244, 0.8113279169532044, 0.7902169566928084, 0.8404631994420614, 0.8350718081947862, 0.8506253403781514, 0.8247903579999074, 0.8248088470214924, 0.8584804650540165, 0.8441006678474476, 0.5298995200202097, 0.6517995772228828, 0.8412780536897951, 0.8421278292671845, 0.8619331704280995, 0.8568066835272496, 0.856914803316382, 0.8586965607411635, 0.8522936689330993, 0.8261578350292842, 0.8433720164809368, 0.8634555632813269, 0.8494896050989251, 0.8540202064759346, 0.8645250876427568, 0.8531671709239175, 0.8508452898606469, 0.854427941050108, 0.8313194653736883, 0.8327097237816877, 0.47055053507728895, 0.8688430809578997, 0.8445271331576981, 0.8603355185682771, 0.8482883767351534, 0.8443282847924408, 0.8654258625740899, 0.8635619782100292, 0.8600331043920644, 0.8633112103039389, 0.6190603448275863]}, {\"categories\": [\"0\", \"1\", \"2\", \"3\", \"4\", \"5\", \"6\", \"7\", \"8\", \"9\", \"10\", \"11\", \"12\", \"13\", \"14\", \"15\", \"16\", \"17\", \"18\", \"19\", \"20\", \"21\", \"22\", \"23\", \"24\", \"25\", \"26\", \"27\", \"28\", \"29\", \"30\", \"31\", \"32\", \"33\", \"34\", \"35\", \"36\", \"37\", \"38\", \"39\", \"40\", \"41\", \"42\", \"43\", \"44\", \"45\", \"46\", \"47\", \"48\", \"49\", \"50\", \"51\", \"52\", \"53\", \"58\", \"59\"], \"mode\": \"lines\", \"name\": \"precision_score_weighted_max\", \"stepped\": true, \"type\": \"scatter\", \"data\": [0.8443308716969533, 0.8506678986628277, 0.8507479716130391, 0.8507479716130391, 0.8574869900629482, 0.8577019979890057, 0.8577019979890057, 0.8577019979890057, 0.8577019979890057, 0.8577019979890057, 0.8577019979890057, 0.8577019979890057, 0.8577019979890057, 0.8577019979890057, 0.8613892242000819, 0.8613892242000819, 0.8613892242000819, 0.8613892242000819, 0.8613892242000819, 0.8613892242000819, 0.8613892242000819, 0.8613892242000819, 0.8613892242000819, 0.8613892242000819, 0.8613892242000819, 0.8613892242000819, 0.8613892242000819, 0.8613892242000819, 0.8613892242000819, 0.8619331704280995, 0.8619331704280995, 0.8619331704280995, 0.8619331704280995, 0.8619331704280995, 0.8619331704280995, 0.8619331704280995, 0.8634555632813269, 0.8634555632813269, 0.8634555632813269, 0.8645250876427568, 0.8645250876427568, 0.8645250876427568, 0.8645250876427568, 0.8645250876427568, 0.8645250876427568, 0.8645250876427568, 0.8688430809578997, 0.8688430809578997, 0.8688430809578997, 0.8688430809578997, 0.8688430809578997, 0.8688430809578997, 0.8688430809578997, 0.8688430809578997, 0.8688430809578997, 0.8688430809578997]}], \"average_precision_score_macro\": [{\"categories\": [\"0\", \"1\", \"2\", \"3\", \"4\", \"5\", \"6\", \"7\", \"8\", \"9\", \"10\", \"11\", \"12\", \"13\", \"14\", \"15\", \"16\", \"17\", \"18\", \"19\", \"20\", \"21\", \"22\", \"23\", \"24\", \"25\", \"26\", \"27\", \"28\", \"29\", \"30\", \"31\", \"32\", \"33\", \"34\", \"35\", \"36\", \"37\", \"38\", \"39\", \"40\", \"41\", \"42\", \"43\", \"44\", \"45\", \"46\", \"47\", \"48\", \"49\", \"50\", \"51\", \"52\", \"53\", \"58\", \"59\"], \"mode\": \"markers\", \"name\": \"average_precision_score_macro\", \"stepped\": false, \"type\": \"scatter\", \"data\": [0.8807888197525153, 0.8807340475847678, 0.8937960117103154, 0.8737297736230495, 0.9006928049153702, 0.8933449981641853, 0.8766545600957059, 0.8925107992170034, 0.8642576739222985, 0.7610796181270093, 0.8806501626863341, 0.8973156964240181, 0.895085729893202, 0.8554372061251682, 0.882136397875614, 0.5793782772753733, 0.8648105209345844, 0.8249146977402109, 0.8609219934165623, 0.8985389415472792, 0.9060767161372609, 0.8506944360420293, 0.8645517233290967, 0.9042164798316101, 0.897993115669965, 0.5316737012008856, 0.8493907592342117, 0.8915739052300784, 0.8845525197702238, 0.8915480212235863, 0.9050975974652733, 0.8922081998044877, 0.895991360497366, 0.8923414168045403, 0.8565040846491087, 0.8438232355297396, 0.9003106143705333, 0.8990243060862042, 0.8954112894496784, 0.9083360143713373, 0.8857427039276764, 0.8855018279730202, 0.8984896036203285, 0.8781685729335846, 0.8875428566395331, 0.6811740187294769, 0.8891930755769396, 0.9021841063245726, 0.8939887372484646, 0.8971386062150419, 0.8762117225098278, 0.9005597426779138, 0.8942153989018264, 0.8989069367598566, 0.9099599742551107, 0.902170458489247]}, {\"categories\": [\"0\", \"1\", \"2\", \"3\", \"4\", \"5\", \"6\", \"7\", \"8\", \"9\", \"10\", \"11\", \"12\", \"13\", \"14\", \"15\", \"16\", \"17\", \"18\", \"19\", \"20\", \"21\", \"22\", \"23\", \"24\", \"25\", \"26\", \"27\", \"28\", \"29\", \"30\", \"31\", \"32\", \"33\", \"34\", \"35\", \"36\", \"37\", \"38\", \"39\", \"40\", \"41\", \"42\", \"43\", \"44\", \"45\", \"46\", \"47\", \"48\", \"49\", \"50\", \"51\", \"52\", \"53\", \"58\", \"59\"], \"mode\": \"lines\", \"name\": \"average_precision_score_macro_max\", \"stepped\": true, \"type\": \"scatter\", \"data\": [0.8807888197525153, 0.8807888197525153, 0.8937960117103154, 0.8937960117103154, 0.9006928049153702, 0.9006928049153702, 0.9006928049153702, 0.9006928049153702, 0.9006928049153702, 0.9006928049153702, 0.9006928049153702, 0.9006928049153702, 0.9006928049153702, 0.9006928049153702, 0.9006928049153702, 0.9006928049153702, 0.9006928049153702, 0.9006928049153702, 0.9006928049153702, 0.9006928049153702, 0.9060767161372609, 0.9060767161372609, 0.9060767161372609, 0.9060767161372609, 0.9060767161372609, 0.9060767161372609, 0.9060767161372609, 0.9060767161372609, 0.9060767161372609, 0.9060767161372609, 0.9060767161372609, 0.9060767161372609, 0.9060767161372609, 0.9060767161372609, 0.9060767161372609, 0.9060767161372609, 0.9060767161372609, 0.9060767161372609, 0.9060767161372609, 0.9083360143713373, 0.9083360143713373, 0.9083360143713373, 0.9083360143713373, 0.9083360143713373, 0.9083360143713373, 0.9083360143713373, 0.9083360143713373, 0.9083360143713373, 0.9083360143713373, 0.9083360143713373, 0.9083360143713373, 0.9083360143713373, 0.9083360143713373, 0.9083360143713373, 0.9099599742551107, 0.9099599742551107]}], \"f1_score_macro\": [{\"categories\": [\"0\", \"1\", \"2\", \"3\", \"4\", \"5\", \"6\", \"7\", \"8\", \"9\", \"10\", \"11\", \"12\", \"13\", \"14\", \"15\", \"16\", \"17\", \"18\", \"19\", \"20\", \"21\", \"22\", \"23\", \"24\", \"25\", \"26\", \"27\", \"28\", \"29\", \"30\", \"31\", \"32\", \"33\", \"34\", \"35\", \"36\", \"37\", \"38\", \"39\", \"40\", \"41\", \"42\", \"43\", \"44\", \"45\", \"46\", \"47\", \"48\", \"49\", \"50\", \"51\", \"52\", \"53\", \"58\", \"59\"], \"mode\": \"markers\", \"name\": \"f1_score_macro\", \"stepped\": false, \"type\": \"scatter\", \"data\": [0.8043314151248963, 0.8078501228997539, 0.8081838988635486, 0.7297674070237123, 0.8148665494906095, 0.8139189853042648, 0.7789292347036965, 0.79728695307236, 0.7305742907366698, 0.6844538166645457, 0.6739484836628814, 0.7922427912790866, 0.7851887228145975, 0.7903098602646658, 0.8041512415753784, 0.5251633085767229, 0.6708203727309283, 0.7335298839681992, 0.787507617066414, 0.7859560894600321, 0.806761127163876, 0.7806483383000017, 0.7733929243323846, 0.8139355708901999, 0.8002849092563983, 0.41939517757999945, 0.4714787051275791, 0.790800411740553, 0.7800442186857623, 0.8212617791162022, 0.8140354497743438, 0.8142438147248068, 0.8165247719650154, 0.8089277407055926, 0.7675876647814632, 0.7899682917279683, 0.8130796831047927, 0.7877691757947944, 0.8063599854212951, 0.8210253722598443, 0.8082664042190553, 0.7944760963428887, 0.8096040768976545, 0.7489959715090563, 0.7687456836431945, 0.4024893878511494, 0.8137889040208652, 0.7994758369809845, 0.818904600984536, 0.8047743751420995, 0.7946315405505837, 0.8237268694980224, 0.8122726079299565, 0.8085227146791351, 0.8163841247547395, 0.5506739039745793]}, {\"categories\": [\"0\", \"1\", \"2\", \"3\", \"4\", \"5\", \"6\", \"7\", \"8\", \"9\", \"10\", \"11\", \"12\", \"13\", \"14\", \"15\", \"16\", \"17\", \"18\", \"19\", \"20\", \"21\", \"22\", \"23\", \"24\", \"25\", \"26\", \"27\", \"28\", \"29\", \"30\", \"31\", \"32\", \"33\", \"34\", \"35\", \"36\", \"37\", \"38\", \"39\", \"40\", \"41\", \"42\", \"43\", \"44\", \"45\", \"46\", \"47\", \"48\", \"49\", \"50\", \"51\", \"52\", \"53\", \"58\", \"59\"], \"mode\": \"lines\", \"name\": \"f1_score_macro_max\", \"stepped\": true, \"type\": \"scatter\", \"data\": [0.8043314151248963, 0.8078501228997539, 0.8081838988635486, 0.8081838988635486, 0.8148665494906095, 0.8148665494906095, 0.8148665494906095, 0.8148665494906095, 0.8148665494906095, 0.8148665494906095, 0.8148665494906095, 0.8148665494906095, 0.8148665494906095, 0.8148665494906095, 0.8148665494906095, 0.8148665494906095, 0.8148665494906095, 0.8148665494906095, 0.8148665494906095, 0.8148665494906095, 0.8148665494906095, 0.8148665494906095, 0.8148665494906095, 0.8148665494906095, 0.8148665494906095, 0.8148665494906095, 0.8148665494906095, 0.8148665494906095, 0.8148665494906095, 0.8212617791162022, 0.8212617791162022, 0.8212617791162022, 0.8212617791162022, 0.8212617791162022, 0.8212617791162022, 0.8212617791162022, 0.8212617791162022, 0.8212617791162022, 0.8212617791162022, 0.8212617791162022, 0.8212617791162022, 0.8212617791162022, 0.8212617791162022, 0.8212617791162022, 0.8212617791162022, 0.8212617791162022, 0.8212617791162022, 0.8212617791162022, 0.8212617791162022, 0.8212617791162022, 0.8212617791162022, 0.8237268694980224, 0.8237268694980224, 0.8237268694980224, 0.8237268694980224, 0.8237268694980224]}], \"AUC_macro\": [{\"categories\": [\"0\", \"1\", \"2\", \"3\", \"4\", \"5\", \"6\", \"7\", \"8\", \"9\", \"10\", \"11\", \"12\", \"13\", \"14\", \"15\", \"16\", \"17\", \"18\", \"19\", \"20\", \"21\", \"22\", \"23\", \"24\", \"25\", \"26\", \"27\", \"28\", \"29\", \"30\", \"31\", \"32\", \"33\", \"34\", \"35\", \"36\", \"37\", \"38\", \"39\", \"40\", \"41\", \"42\", \"43\", \"44\", \"45\", \"46\", \"47\", \"48\", \"49\", \"50\", \"51\", \"52\", \"53\", \"58\", \"59\"], \"mode\": \"markers\", \"name\": \"AUC_macro\", \"stepped\": false, \"type\": \"scatter\", \"data\": [0.8840955354735103, 0.8847369443591411, 0.8979356417228844, 0.8780619929544988, 0.9082813694314839, 0.9039186531050948, 0.8842111405269872, 0.9011507142637004, 0.8637685776529598, 0.7496161006793443, 0.8853513404999103, 0.9016290062001733, 0.9023124204615623, 0.8670809643784473, 0.8909594623361216, 0.5203053263648802, 0.871400610193688, 0.827212789164391, 0.8746596792816472, 0.9089099837731132, 0.9072390014617131, 0.8478749212458023, 0.8777078428669389, 0.9085680121747055, 0.905236843095882, 0.4839030682217181, 0.8558387721059347, 0.8990463853144061, 0.9012169939836416, 0.9051232097041021, 0.9107445687946261, 0.9008185924847252, 0.9026724909275824, 0.9021623291044916, 0.8679598190964896, 0.8763715557558808, 0.9048518699856801, 0.9061380107878391, 0.9056215074081779, 0.9119456066054464, 0.8977814644208237, 0.8944129652193725, 0.909607640670627, 0.8893649271399843, 0.8953922706139524, 0.7403093809677905, 0.8951935663433949, 0.9094749898461568, 0.9028370662602928, 0.904402837187391, 0.8934693281567995, 0.9069372666955047, 0.9043546664476297, 0.9079881997759, 0.9202386822898264, 0.9093750718749003]}, {\"categories\": [\"0\", \"1\", \"2\", \"3\", \"4\", \"5\", \"6\", \"7\", \"8\", \"9\", \"10\", \"11\", \"12\", \"13\", \"14\", \"15\", \"16\", \"17\", \"18\", \"19\", \"20\", \"21\", \"22\", \"23\", \"24\", \"25\", \"26\", \"27\", \"28\", \"29\", \"30\", \"31\", \"32\", \"33\", \"34\", \"35\", \"36\", \"37\", \"38\", \"39\", \"40\", \"41\", \"42\", \"43\", \"44\", \"45\", \"46\", \"47\", \"48\", \"49\", \"50\", \"51\", \"52\", \"53\", \"58\", \"59\"], \"mode\": \"lines\", \"name\": \"AUC_macro_max\", \"stepped\": true, \"type\": \"scatter\", \"data\": [0.8840955354735103, 0.8847369443591411, 0.8979356417228844, 0.8979356417228844, 0.9082813694314839, 0.9082813694314839, 0.9082813694314839, 0.9082813694314839, 0.9082813694314839, 0.9082813694314839, 0.9082813694314839, 0.9082813694314839, 0.9082813694314839, 0.9082813694314839, 0.9082813694314839, 0.9082813694314839, 0.9082813694314839, 0.9082813694314839, 0.9082813694314839, 0.9089099837731132, 0.9089099837731132, 0.9089099837731132, 0.9089099837731132, 0.9089099837731132, 0.9089099837731132, 0.9089099837731132, 0.9089099837731132, 0.9089099837731132, 0.9089099837731132, 0.9089099837731132, 0.9107445687946261, 0.9107445687946261, 0.9107445687946261, 0.9107445687946261, 0.9107445687946261, 0.9107445687946261, 0.9107445687946261, 0.9107445687946261, 0.9107445687946261, 0.9119456066054464, 0.9119456066054464, 0.9119456066054464, 0.9119456066054464, 0.9119456066054464, 0.9119456066054464, 0.9119456066054464, 0.9119456066054464, 0.9119456066054464, 0.9119456066054464, 0.9119456066054464, 0.9119456066054464, 0.9119456066054464, 0.9119456066054464, 0.9119456066054464, 0.9202386822898264, 0.9202386822898264]}], \"weighted_accuracy\": [{\"categories\": [\"0\", \"1\", \"2\", \"3\", \"4\", \"5\", \"6\", \"7\", \"8\", \"9\", \"10\", \"11\", \"12\", \"13\", \"14\", \"15\", \"16\", \"17\", \"18\", \"19\", \"20\", \"21\", \"22\", \"23\", \"24\", \"25\", \"26\", \"27\", \"28\", \"29\", \"30\", \"31\", \"32\", \"33\", \"34\", \"35\", \"36\", \"37\", \"38\", \"39\", \"40\", \"41\", \"42\", \"43\", \"44\", \"45\", \"46\", \"47\", \"48\", \"49\", \"50\", \"51\", \"52\", \"53\", \"58\", \"59\"], \"mode\": \"markers\", \"name\": \"weighted_accuracy\", \"stepped\": false, \"type\": \"scatter\", \"data\": [0.8541321922200625, 0.8502962163535492, 0.8556796696785447, 0.8569105458707733, 0.851982677424169, 0.8665963787499187, 0.851004619280636, 0.8755439457434562, 0.8578682298010447, 0.8227930918585225, 0.8347926905694738, 0.8761303231821584, 0.8049464589020928, 0.847531425314434, 0.8324071305509124, 0.6980167624045801, 0.8383437953580266, 0.7870170127546229, 0.8109492778756445, 0.8533454461004967, 0.8533139181201786, 0.8320527495457798, 0.8263362643159562, 0.8732904353297168, 0.843644812426789, 0.7430547251695894, 0.8069402200087714, 0.8340673098931983, 0.8698785636398008, 0.8563486293013105, 0.8587178258660705, 0.85627736471018, 0.8622567489422718, 0.8481586978722326, 0.8281385278183151, 0.8643237703933769, 0.8691918391604977, 0.7991706577637957, 0.8264060024472007, 0.8737510131186641, 0.8627825181021869, 0.8543547000342878, 0.853367014719538, 0.8532549522067734, 0.8567159949712352, 0.7931711479234276, 0.8865220980231246, 0.8306966866178038, 0.8688777462711561, 0.8503893943344712, 0.8337836181359769, 0.8715220921866678, 0.8688466649921557, 0.8711136558919115, 0.8726849626230496, 0.8147188885013487]}, {\"categories\": [\"0\", \"1\", \"2\", \"3\", \"4\", \"5\", \"6\", \"7\", \"8\", \"9\", \"10\", \"11\", \"12\", \"13\", \"14\", \"15\", \"16\", \"17\", \"18\", \"19\", \"20\", \"21\", \"22\", \"23\", \"24\", \"25\", \"26\", \"27\", \"28\", \"29\", \"30\", \"31\", \"32\", \"33\", \"34\", \"35\", \"36\", \"37\", \"38\", \"39\", \"40\", \"41\", \"42\", \"43\", \"44\", \"45\", \"46\", \"47\", \"48\", \"49\", \"50\", \"51\", \"52\", \"53\", \"58\", \"59\"], \"mode\": \"lines\", \"name\": \"weighted_accuracy_max\", \"stepped\": true, \"type\": \"scatter\", \"data\": [0.8541321922200625, 0.8541321922200625, 0.8556796696785447, 0.8569105458707733, 0.8569105458707733, 0.8665963787499187, 0.8665963787499187, 0.8755439457434562, 0.8755439457434562, 0.8755439457434562, 0.8755439457434562, 0.8761303231821584, 0.8761303231821584, 0.8761303231821584, 0.8761303231821584, 0.8761303231821584, 0.8761303231821584, 0.8761303231821584, 0.8761303231821584, 0.8761303231821584, 0.8761303231821584, 0.8761303231821584, 0.8761303231821584, 0.8761303231821584, 0.8761303231821584, 0.8761303231821584, 0.8761303231821584, 0.8761303231821584, 0.8761303231821584, 0.8761303231821584, 0.8761303231821584, 0.8761303231821584, 0.8761303231821584, 0.8761303231821584, 0.8761303231821584, 0.8761303231821584, 0.8761303231821584, 0.8761303231821584, 0.8761303231821584, 0.8761303231821584, 0.8761303231821584, 0.8761303231821584, 0.8761303231821584, 0.8761303231821584, 0.8761303231821584, 0.8761303231821584, 0.8865220980231246, 0.8865220980231246, 0.8865220980231246, 0.8865220980231246, 0.8865220980231246, 0.8865220980231246, 0.8865220980231246, 0.8865220980231246, 0.8865220980231246, 0.8865220980231246]}], \"precision_score_macro\": [{\"categories\": [\"0\", \"1\", \"2\", \"3\", \"4\", \"5\", \"6\", \"7\", \"8\", \"9\", \"10\", \"11\", \"12\", \"13\", \"14\", \"15\", \"16\", \"17\", \"18\", \"19\", \"20\", \"21\", \"22\", \"23\", \"24\", \"25\", \"26\", \"27\", \"28\", \"29\", \"30\", \"31\", \"32\", \"33\", \"34\", \"35\", \"36\", \"37\", \"38\", \"39\", \"40\", \"41\", \"42\", \"43\", \"44\", \"45\", \"46\", \"47\", \"48\", \"49\", \"50\", \"51\", \"52\", \"53\", \"58\", \"59\"], \"mode\": \"markers\", \"name\": \"precision_score_macro\", \"stepped\": false, \"type\": \"scatter\", \"data\": [0.8167365852764965, 0.8232986049897815, 0.8177784051697096, 0.8287100299056821, 0.8180681942756245, 0.8337097891302697, 0.8038738027388922, 0.8501287070417505, 0.8501291084117172, 0.7703082497212932, 0.8262445800909071, 0.8667140830184309, 0.7795120516308598, 0.821583062151426, 0.8231653821642381, 0.5543597592139792, 0.8263396418396418, 0.7381838061618314, 0.7833798863675024, 0.8096246520451326, 0.8275243977037455, 0.7880468275274776, 0.7876599016308768, 0.835970992278537, 0.8122244775871442, 0.4353205128205128, 0.5978735632183908, 0.7984500055309551, 0.8342430830039526, 0.8339245068656833, 0.8332940563982764, 0.8272331187567762, 0.8338130994037745, 0.8239183340813776, 0.7938502815834052, 0.8245084227366835, 0.8500570052893718, 0.7887298492271403, 0.799828210649822, 0.8435746152114441, 0.8262468708827404, 0.8311774161635516, 0.8228781395856204, 0.8243337298772081, 0.8242841458058848, 0.33959770114942534, 0.8694090177556996, 0.7978810927204889, 0.8376486481354902, 0.8143602641320034, 0.7945875104427735, 0.8491763263022853, 0.8339355668486101, 0.8421012104473202, 0.8475491429496007, 0.5221320346320345]}, {\"categories\": [\"0\", \"1\", \"2\", \"3\", \"4\", \"5\", \"6\", \"7\", \"8\", \"9\", \"10\", \"11\", \"12\", \"13\", \"14\", \"15\", \"16\", \"17\", \"18\", \"19\", \"20\", \"21\", \"22\", \"23\", \"24\", \"25\", \"26\", \"27\", \"28\", \"29\", \"30\", \"31\", \"32\", \"33\", \"34\", \"35\", \"36\", \"37\", \"38\", \"39\", \"40\", \"41\", \"42\", \"43\", \"44\", \"45\", \"46\", \"47\", \"48\", \"49\", \"50\", \"51\", \"52\", \"53\", \"58\", \"59\"], \"mode\": \"lines\", \"name\": \"precision_score_macro_max\", \"stepped\": true, \"type\": \"scatter\", \"data\": [0.8167365852764965, 0.8232986049897815, 0.8232986049897815, 0.8287100299056821, 0.8287100299056821, 0.8337097891302697, 0.8337097891302697, 0.8501287070417505, 0.8501291084117172, 0.8501291084117172, 0.8501291084117172, 0.8667140830184309, 0.8667140830184309, 0.8667140830184309, 0.8667140830184309, 0.8667140830184309, 0.8667140830184309, 0.8667140830184309, 0.8667140830184309, 0.8667140830184309, 0.8667140830184309, 0.8667140830184309, 0.8667140830184309, 0.8667140830184309, 0.8667140830184309, 0.8667140830184309, 0.8667140830184309, 0.8667140830184309, 0.8667140830184309, 0.8667140830184309, 0.8667140830184309, 0.8667140830184309, 0.8667140830184309, 0.8667140830184309, 0.8667140830184309, 0.8667140830184309, 0.8667140830184309, 0.8667140830184309, 0.8667140830184309, 0.8667140830184309, 0.8667140830184309, 0.8667140830184309, 0.8667140830184309, 0.8667140830184309, 0.8667140830184309, 0.8667140830184309, 0.8694090177556996, 0.8694090177556996, 0.8694090177556996, 0.8694090177556996, 0.8694090177556996, 0.8694090177556996, 0.8694090177556996, 0.8694090177556996, 0.8694090177556996, 0.8694090177556996]}], \"f1_score_weighted\": [{\"categories\": [\"0\", \"1\", \"2\", \"3\", \"4\", \"5\", \"6\", \"7\", \"8\", \"9\", \"10\", \"11\", \"12\", \"13\", \"14\", \"15\", \"16\", \"17\", \"18\", \"19\", \"20\", \"21\", \"22\", \"23\", \"24\", \"25\", \"26\", \"27\", \"28\", \"29\", \"30\", \"31\", \"32\", \"33\", \"34\", \"35\", \"36\", \"37\", \"38\", \"39\", \"40\", \"41\", \"42\", \"43\", \"44\", \"45\", \"46\", \"47\", \"48\", \"49\", \"50\", \"51\", \"52\", \"53\", \"58\", \"59\"], \"mode\": \"markers\", \"name\": \"f1_score_weighted\", \"stepped\": false, \"type\": \"scatter\", \"data\": [0.8333388901455894, 0.8342588560383983, 0.8383449897321782, 0.7819345395094497, 0.8432905868692231, 0.8425683507939375, 0.8185398802429595, 0.8303750139064443, 0.7772806975393876, 0.743922190318357, 0.7395596296549669, 0.8241539891511408, 0.8163939649004517, 0.822298002393698, 0.8286647968871377, 0.6071892452709331, 0.7365837657192136, 0.7738169376024989, 0.8184566225434515, 0.8208423832388133, 0.8326214658199624, 0.8137459410277265, 0.8068763871248079, 0.845048720053947, 0.8285769541825954, 0.553606126510483, 0.6012070505523693, 0.8225311497948455, 0.8176558550810734, 0.8452026258498364, 0.839522833966168, 0.8408055292781123, 0.8437155776141136, 0.8344779396633099, 0.80254975279513, 0.8254905575089693, 0.842111995309625, 0.8149575734038541, 0.8345472010109691, 0.8490878777142967, 0.8389593299497001, 0.8256339555928003, 0.8376161805511438, 0.792580207279017, 0.8096021139626647, 0.5534120288954022, 0.8441577667411266, 0.8287561207481208, 0.8462451342368272, 0.8339433523290098, 0.8287648195860668, 0.8482115030624963, 0.8451775767970544, 0.8405229075778019, 0.8435704960466055, 0.6618915832442164]}, {\"categories\": [\"0\", \"1\", \"2\", \"3\", \"4\", \"5\", \"6\", \"7\", \"8\", \"9\", \"10\", \"11\", \"12\", \"13\", \"14\", \"15\", \"16\", \"17\", \"18\", \"19\", \"20\", \"21\", \"22\", \"23\", \"24\", \"25\", \"26\", \"27\", \"28\", \"29\", \"30\", \"31\", \"32\", \"33\", \"34\", \"35\", \"36\", \"37\", \"38\", \"39\", \"40\", \"41\", \"42\", \"43\", \"44\", \"45\", \"46\", \"47\", \"48\", \"49\", \"50\", \"51\", \"52\", \"53\", \"58\", \"59\"], \"mode\": \"lines\", \"name\": \"f1_score_weighted_max\", \"stepped\": true, \"type\": \"scatter\", \"data\": [0.8333388901455894, 0.8342588560383983, 0.8383449897321782, 0.8383449897321782, 0.8432905868692231, 0.8432905868692231, 0.8432905868692231, 0.8432905868692231, 0.8432905868692231, 0.8432905868692231, 0.8432905868692231, 0.8432905868692231, 0.8432905868692231, 0.8432905868692231, 0.8432905868692231, 0.8432905868692231, 0.8432905868692231, 0.8432905868692231, 0.8432905868692231, 0.8432905868692231, 0.8432905868692231, 0.8432905868692231, 0.8432905868692231, 0.845048720053947, 0.845048720053947, 0.845048720053947, 0.845048720053947, 0.845048720053947, 0.845048720053947, 0.8452026258498364, 0.8452026258498364, 0.8452026258498364, 0.8452026258498364, 0.8452026258498364, 0.8452026258498364, 0.8452026258498364, 0.8452026258498364, 0.8452026258498364, 0.8452026258498364, 0.8490878777142967, 0.8490878777142967, 0.8490878777142967, 0.8490878777142967, 0.8490878777142967, 0.8490878777142967, 0.8490878777142967, 0.8490878777142967, 0.8490878777142967, 0.8490878777142967, 0.8490878777142967, 0.8490878777142967, 0.8490878777142967, 0.8490878777142967, 0.8490878777142967, 0.8490878777142967, 0.8490878777142967]}], \"AUC_weighted\": [{\"categories\": [\"0\", \"1\", \"2\", \"3\", \"4\", \"5\", \"6\", \"7\", \"8\", \"9\", \"10\", \"11\", \"12\", \"13\", \"14\", \"15\", \"16\", \"17\", \"18\", \"19\", \"20\", \"21\", \"22\", \"23\", \"24\", \"25\", \"26\", \"27\", \"28\", \"29\", \"30\", \"31\", \"32\", \"33\", \"34\", \"35\", \"36\", \"37\", \"38\", \"39\", \"40\", \"41\", \"42\", \"43\", \"44\", \"45\", \"46\", \"47\", \"48\", \"49\", \"50\", \"51\", \"52\", \"53\", \"58\", \"59\"], \"mode\": \"markers\", \"name\": \"AUC_weighted\", \"stepped\": false, \"type\": \"scatter\", \"data\": [0.8840955354735103, 0.8847369443591411, 0.8979356417228843, 0.8780619929544988, 0.9082813694314839, 0.9039186531050948, 0.884187992378839, 0.9011507142637004, 0.8637685776529598, 0.7496161006793443, 0.8853513404999103, 0.9016290062001733, 0.9023124204615623, 0.8670809643784473, 0.8909594623361213, 0.5203053263648802, 0.871400610193688, 0.827212789164391, 0.8746596792816472, 0.9089099837731132, 0.907253882414094, 0.8478749212458023, 0.8777078428669391, 0.9085680121747055, 0.905236843095882, 0.4839030682217181, 0.8558387721059347, 0.8990463853144061, 0.9012169939836415, 0.9051232097041023, 0.9107445687946261, 0.9008185924847252, 0.9026724909275824, 0.9021623291044916, 0.8679598190964896, 0.8763715557558808, 0.90485186998568, 0.9061380107878391, 0.9056215074081779, 0.9119456066054467, 0.8977814644208237, 0.8944129652193726, 0.909607640670627, 0.8893649271399843, 0.8953922706139524, 0.7403093809677905, 0.8951935663433949, 0.9094749898461568, 0.9028370662602928, 0.904402837187391, 0.8934693281567995, 0.9069372666955047, 0.9043546664476297, 0.9079881997759, 0.9202386822898265, 0.9093750718749003]}, {\"categories\": [\"0\", \"1\", \"2\", \"3\", \"4\", \"5\", \"6\", \"7\", \"8\", \"9\", \"10\", \"11\", \"12\", \"13\", \"14\", \"15\", \"16\", \"17\", \"18\", \"19\", \"20\", \"21\", \"22\", \"23\", \"24\", \"25\", \"26\", \"27\", \"28\", \"29\", \"30\", \"31\", \"32\", \"33\", \"34\", \"35\", \"36\", \"37\", \"38\", \"39\", \"40\", \"41\", \"42\", \"43\", \"44\", \"45\", \"46\", \"47\", \"48\", \"49\", \"50\", \"51\", \"52\", \"53\", \"58\", \"59\"], \"mode\": \"lines\", \"name\": \"AUC_weighted_max\", \"stepped\": true, \"type\": \"scatter\", \"data\": [0.8840955354735103, 0.8847369443591411, 0.8979356417228843, 0.8979356417228843, 0.9082813694314839, 0.9082813694314839, 0.9082813694314839, 0.9082813694314839, 0.9082813694314839, 0.9082813694314839, 0.9082813694314839, 0.9082813694314839, 0.9082813694314839, 0.9082813694314839, 0.9082813694314839, 0.9082813694314839, 0.9082813694314839, 0.9082813694314839, 0.9082813694314839, 0.9089099837731132, 0.9089099837731132, 0.9089099837731132, 0.9089099837731132, 0.9089099837731132, 0.9089099837731132, 0.9089099837731132, 0.9089099837731132, 0.9089099837731132, 0.9089099837731132, 0.9089099837731132, 0.9107445687946261, 0.9107445687946261, 0.9107445687946261, 0.9107445687946261, 0.9107445687946261, 0.9107445687946261, 0.9107445687946261, 0.9107445687946261, 0.9107445687946261, 0.9119456066054467, 0.9119456066054467, 0.9119456066054467, 0.9119456066054467, 0.9119456066054467, 0.9119456066054467, 0.9119456066054467, 0.9119456066054467, 0.9119456066054467, 0.9119456066054467, 0.9119456066054467, 0.9119456066054467, 0.9119456066054467, 0.9119456066054467, 0.9119456066054467, 0.9202386822898265, 0.9202386822898265]}]}, \"metricName\": null, \"primaryMetricName\": \"AUC_weighted\", \"showLegend\": false}, \"run_metrics\": [{\"name\": \"experiment_status\", \"run_id\": \"AutoML_40e1c0a8-d132-4964-879c-fc7387625e0c\", \"categories\": [0, 1, 2, 3, 4, 5, 6, 7, 8, 9, 10, 11, 12, 13], \"series\": [{\"data\": [\"DatasetEvaluation\", \"FeaturesGeneration\", \"DatasetFeaturization\", \"DatasetFeaturizationCompleted\", \"DatasetCrossValidationSplit\", \"ModelSelection\", \"BestRunExplainModel\", \"ModelExplanationDataSetSetup\", \"PickSurrogateModel\", \"EngineeredFeatureExplanations\", \"EngineeredFeatureExplanations\", \"RawFeaturesExplanations\", \"RawFeaturesExplanations\", \"BestRunExplainModel\"]}]}, {\"name\": \"experiment_status_description\", \"run_id\": \"AutoML_40e1c0a8-d132-4964-879c-fc7387625e0c\", \"categories\": [0, 1, 2, 3, 4, 5, 6, 7, 8, 9, 10, 11, 12, 13], \"series\": [{\"data\": [\"Gathering dataset statistics.\", \"Generating features for the dataset.\", \"Beginning to fit featurizers and featurize the dataset.\", \"Completed fit featurizers and featurizing the dataset.\", \"Generating individually featurized CV splits.\", \"Beginning model selection.\", \"Best run model explanations started\", \"Model explanations data setup completed\", \"Choosing LightGBM as the surrogate model for explanations\", \"Computation of engineered features started\", \"Computation of engineered features completed\", \"Computation of raw features started\", \"Computation of raw features completed\", \"Best run model explanations completed\"]}]}, {\"name\": \"balanced_accuracy\", \"run_id\": \"AutoML_40e1c0a8-d132-4964-879c-fc7387625e0c\", \"categories\": [0], \"series\": [{\"data\": [0.814181859870361]}]}, {\"name\": \"recall_score_weighted\", \"run_id\": \"AutoML_40e1c0a8-d132-4964-879c-fc7387625e0c\", \"categories\": [0], \"series\": [{\"data\": [0.849425287356322]}]}, {\"name\": \"log_loss\", \"run_id\": \"AutoML_40e1c0a8-d132-4964-879c-fc7387625e0c\", \"categories\": [0], \"series\": [{\"data\": [0.424864291256536]}]}, {\"name\": \"matthews_correlation\", \"run_id\": \"AutoML_40e1c0a8-d132-4964-879c-fc7387625e0c\", \"categories\": [0], \"series\": [{\"data\": [0.6586729324826095]}]}, {\"name\": \"weighted_accuracy\", \"run_id\": \"AutoML_40e1c0a8-d132-4964-879c-fc7387625e0c\", \"categories\": [0], \"series\": [{\"data\": [0.8726849626230496]}]}, {\"name\": \"AUC_micro\", \"run_id\": \"AutoML_40e1c0a8-d132-4964-879c-fc7387625e0c\", \"categories\": [0], \"series\": [{\"data\": [0.919132778438367]}]}, {\"name\": \"average_precision_score_weighted\", \"run_id\": \"AutoML_40e1c0a8-d132-4964-879c-fc7387625e0c\", \"categories\": [0], \"series\": [{\"data\": [0.9332734103249946]}]}, {\"name\": \"recall_score_macro\", \"run_id\": \"AutoML_40e1c0a8-d132-4964-879c-fc7387625e0c\", \"categories\": [0], \"series\": [{\"data\": [0.814181859870361]}]}, {\"name\": \"AUC_weighted\", \"run_id\": \"AutoML_40e1c0a8-d132-4964-879c-fc7387625e0c\", \"categories\": [0], \"series\": [{\"data\": [0.9202386822898265]}]}, {\"name\": \"f1_score_micro\", \"run_id\": \"AutoML_40e1c0a8-d132-4964-879c-fc7387625e0c\", \"categories\": [0], \"series\": [{\"data\": [0.849425287356322]}]}, {\"name\": \"f1_score_weighted\", \"run_id\": \"AutoML_40e1c0a8-d132-4964-879c-fc7387625e0c\", \"categories\": [0], \"series\": [{\"data\": [0.8435704960466055]}]}, {\"name\": \"average_precision_score_macro\", \"run_id\": \"AutoML_40e1c0a8-d132-4964-879c-fc7387625e0c\", \"categories\": [0], \"series\": [{\"data\": [0.9099599742551107]}]}, {\"name\": \"norm_macro_recall\", \"run_id\": \"AutoML_40e1c0a8-d132-4964-879c-fc7387625e0c\", \"categories\": [0], \"series\": [{\"data\": [0.628363719740722]}]}, {\"name\": \"f1_score_macro\", \"run_id\": \"AutoML_40e1c0a8-d132-4964-879c-fc7387625e0c\", \"categories\": [0], \"series\": [{\"data\": [0.8163841247547395]}]}, {\"name\": \"precision_score_micro\", \"run_id\": \"AutoML_40e1c0a8-d132-4964-879c-fc7387625e0c\", \"categories\": [0], \"series\": [{\"data\": [0.849425287356322]}]}, {\"name\": \"precision_score_weighted\", \"run_id\": \"AutoML_40e1c0a8-d132-4964-879c-fc7387625e0c\", \"categories\": [0], \"series\": [{\"data\": [0.8633112103039389]}]}, {\"name\": \"recall_score_micro\", \"run_id\": \"AutoML_40e1c0a8-d132-4964-879c-fc7387625e0c\", \"categories\": [0], \"series\": [{\"data\": [0.849425287356322]}]}, {\"name\": \"accuracy\", \"run_id\": \"AutoML_40e1c0a8-d132-4964-879c-fc7387625e0c\", \"categories\": [0], \"series\": [{\"data\": [0.849425287356322]}]}, {\"name\": \"precision_score_macro\", \"run_id\": \"AutoML_40e1c0a8-d132-4964-879c-fc7387625e0c\", \"categories\": [0], \"series\": [{\"data\": [0.8475491429496007]}]}, {\"name\": \"average_precision_score_micro\", \"run_id\": \"AutoML_40e1c0a8-d132-4964-879c-fc7387625e0c\", \"categories\": [0], \"series\": [{\"data\": [0.92499397979046]}]}, {\"name\": \"AUC_macro\", \"run_id\": \"AutoML_40e1c0a8-d132-4964-879c-fc7387625e0c\", \"categories\": [0], \"series\": [{\"data\": [0.9202386822898264]}]}], \"run_logs\": \"\\nRun is completed.\", \"graph\": {}, \"widget_settings\": {\"childWidgetDisplay\": \"popup\", \"send_telemetry\": false, \"log_level\": \"INFO\", \"sdk_version\": \"1.20.0\"}, \"loading\": false}"
     },
     "metadata": {},
     "output_type": "display_data"
    },
    {
     "name": "stdout",
     "output_type": "stream",
     "text": [
      "\n",
      "Current status: FeaturesGeneration. Generating features for the dataset.\n",
      "Current status: DatasetCrossValidationSplit. Generating individually featurized CV splits.\n",
      "Current status: ModelSelection. Beginning model selection.\n",
      "\n",
      "****************************************************************************************************\n",
      "DATA GUARDRAILS: \n",
      "\n",
      "TYPE:         Cross validation\n",
      "STATUS:       DONE\n",
      "DESCRIPTION:  Each iteration of the trained model was validated through cross-validation.\n",
      "              \n",
      "DETAILS:      \n",
      "+---------------------------------+\n",
      "|Number of folds                  |\n",
      "+=================================+\n",
      "|10                               |\n",
      "+---------------------------------+\n",
      "\n",
      "****************************************************************************************************\n",
      "\n",
      "TYPE:         Class balancing detection\n",
      "STATUS:       PASSED\n",
      "DESCRIPTION:  Your inputs were analyzed, and all classes are balanced in your training data.\n",
      "              Learn more about imbalanced data: https://aka.ms/AutomatedMLImbalancedData\n",
      "\n",
      "****************************************************************************************************\n",
      "\n",
      "TYPE:         Missing feature values imputation\n",
      "STATUS:       PASSED\n",
      "DESCRIPTION:  No feature missing values were detected in the training data.\n",
      "              Learn more about missing value imputation: https://aka.ms/AutomatedMLFeaturization\n",
      "\n",
      "****************************************************************************************************\n",
      "\n",
      "TYPE:         High cardinality feature detection\n",
      "STATUS:       PASSED\n",
      "DESCRIPTION:  Your inputs were analyzed, and no high cardinality features were detected.\n",
      "              Learn more about high cardinality feature handling: https://aka.ms/AutomatedMLFeaturization\n",
      "\n",
      "****************************************************************************************************\n",
      "\n",
      "****************************************************************************************************\n",
      "ITERATION: The iteration being evaluated.\n",
      "PIPELINE: A summary description of the pipeline being evaluated.\n",
      "DURATION: Time taken for the current iteration.\n",
      "METRIC: The result of computing score on the fitted pipeline.\n",
      "BEST: The best observed score thus far.\n",
      "****************************************************************************************************\n",
      "\n",
      " ITERATION   PIPELINE                                       DURATION      METRIC      BEST\n",
      "         2   MinMaxScaler RandomForest                      0:00:58       0.8979    0.8979\n",
      "         4   MinMaxScaler RandomForest                      0:00:57       0.9083    0.9083\n",
      "         0   MaxAbsScaler LightGBM                          0:00:50       0.8841    0.9083\n",
      "         3   RobustScaler ExtremeRandomTrees                0:00:59       0.8781    0.9083\n",
      "         7   MinMaxScaler ExtremeRandomTrees                0:00:58       0.9012    0.9083\n",
      "         1   MaxAbsScaler XGBoostClassifier                 0:02:09       0.8847    0.9083\n",
      "         5   MinMaxScaler RandomForest                      0:02:08       0.9039    0.9083\n",
      "         6   StandardScalerWrapper RandomForest             0:02:12       0.8842    0.9083\n",
      "         8   MinMaxScaler ExtremeRandomTrees                0:00:54       0.8638    0.9083\n",
      "         9   SparseNormalizer KNN                           0:00:49       0.7496    0.9083\n",
      "        10   MinMaxScaler ExtremeRandomTrees                0:00:49       0.8854    0.9083\n",
      "        12   StandardScalerWrapper RandomForest             0:00:56       0.9023    0.9083\n",
      "        13   StandardScalerWrapper SGD                      0:00:55       0.8671    0.9083\n",
      "        14   RobustScaler RandomForest                      0:00:49       0.8910    0.9083\n",
      "        15   StandardScalerWrapper KNN                      0:00:51       0.5203    0.9083\n",
      "        16   MinMaxScaler RandomForest                      0:00:47       0.8714    0.9083\n",
      "        17   MinMaxScaler ExtremeRandomTrees                0:00:50       0.8272    0.9083\n",
      "        11   RobustScaler ExtremeRandomTrees                0:02:45       0.9016    0.9083\n",
      "        18   MaxAbsScaler RandomForest                      0:00:55       0.8747    0.9083\n",
      "        19   StandardScalerWrapper XGBoostClassifier        0:00:51       0.9089    0.9089\n",
      "        20   MaxAbsScaler RandomForest                      0:00:54       0.9073    0.9089\n",
      "        21   MaxAbsScaler ExtremeRandomTrees                0:00:53       0.8479    0.9089\n",
      "        22   MaxAbsScaler ExtremeRandomTrees                0:01:01       0.8777    0.9089\n",
      "        23   MinMaxScaler RandomForest                      0:01:04       0.9086    0.9089\n",
      "        24   MinMaxScaler ExtremeRandomTrees                0:00:49       0.9052    0.9089\n",
      "        25   PCA XGBoostClassifier                          0:00:50       0.4839    0.9089\n",
      "        26   StandardScalerWrapper LightGBM                 0:00:57       0.8558    0.9089\n",
      "        27   MaxAbsScaler ExtremeRandomTrees                0:00:58       0.8990    0.9089\n",
      "        28   RobustScaler LightGBM                          0:00:52       0.9012    0.9089\n",
      "        29   StandardScalerWrapper XGBoostClassifier        0:00:59       0.9051    0.9089\n",
      "        30   StandardScalerWrapper XGBoostClassifier        0:01:08       0.9107    0.9107\n",
      "        31   StandardScalerWrapper XGBoostClassifier        0:00:54       0.9008    0.9107\n",
      "        32   StandardScalerWrapper XGBoostClassifier        0:00:49       0.9027    0.9107\n",
      "        33   StandardScalerWrapper XGBoostClassifier        0:00:51       0.9022    0.9107\n",
      "        34   StandardScalerWrapper SVM                      0:00:58       0.8680    0.9107\n",
      "        35   StandardScalerWrapper XGBoostClassifier        0:00:49       0.8764    0.9107\n",
      "        37   MaxAbsScaler RandomForest                      0:00:52       0.9061    0.9107\n",
      "        36   RobustScaler GradientBoosting                  0:01:17       0.9049    0.9107\n",
      "        38   StandardScalerWrapper RandomForest             0:00:59       0.9056    0.9107\n",
      "        39   StandardScalerWrapper RandomForest             0:00:51       0.9119    0.9119\n",
      "        40   StandardScalerWrapper XGBoostClassifier        0:00:52       0.8978    0.9119\n",
      "        41   MaxAbsScaler LightGBM                          0:00:53       0.8944    0.9119\n",
      "        42   MinMaxScaler GradientBoosting                  0:01:05       0.9096    0.9119\n",
      "        43   StandardScalerWrapper LightGBM                 0:00:51       0.8894    0.9119\n",
      "        44   StandardScalerWrapper XGBoostClassifier        0:00:53       0.8954    0.9119\n",
      "        45   MinMaxScaler RandomForest                      0:01:08       0.7403    0.9119\n",
      "        46   MaxAbsScaler ExtremeRandomTrees                0:01:00       0.8952    0.9119\n",
      "        48   MaxAbsScaler GradientBoosting                  0:00:49       0.9028    0.9119\n",
      "        47   MinMaxScaler RandomForest                      0:01:06       0.9095    0.9119\n",
      "        49   StandardScalerWrapper XGBoostClassifier        0:00:57       0.9044    0.9119\n",
      "        50   RobustScaler RandomForest                      0:01:06       0.8935    0.9119\n",
      "        51   StandardScalerWrapper LightGBM                 0:00:58       0.9069    0.9119\n",
      "        52   MaxAbsScaler LightGBM                          0:00:52       0.9044    0.9119\n",
      "        53   RobustScaler LightGBM                          0:00:50       0.9080    0.9119\n",
      "        54   MinMaxScaler LightGBM                          0:00:28          nan    0.9119\n",
      "        55                                                  0:00:15          nan    0.9119\n",
      "        56                                                  0:00:13          nan    0.9119\n",
      "        57                                                  0:00:38          nan    0.9119\n",
      "        58    VotingEnsemble                                0:02:45       0.9202    0.9202\n",
      "        59    StackEnsemble                                 0:02:41       0.9094    0.9202\n"
     ]
    }
   ],
   "source": [
    "from azureml.widgets import RunDetails\n",
    "RunDetails(automl_run).show()\n",
    "automl_run.wait_for_completion(show_output = True)\n",
    "assert(automl_run.get_status() == \"Completed\")"
   ]
  },
  {
   "cell_type": "markdown",
   "metadata": {},
   "source": [
    "## Best Model\n",
    "\n",
    "TODO: In the cell below, get the best model from the automl experiments and display all the properties of the model.\n",
    "\n"
   ]
  },
  {
   "cell_type": "code",
   "execution_count": 12,
   "metadata": {
    "gather": {
     "logged": 1598431425670
    },
    "jupyter": {
     "outputs_hidden": false,
     "source_hidden": false
    },
    "nteract": {
     "transient": {
      "deleting": false
     }
    }
   },
   "outputs": [
    {
     "name": "stderr",
     "output_type": "stream",
     "text": [
      "WARNING:root:The version of the SDK does not match the version the model was trained on.\n",
      "WARNING:root:The consistency in the result may not be guaranteed.\n",
      "WARNING:root:Package:azureml-automl-core, training version:1.21.0, current version:1.20.0\n",
      "Package:azureml-automl-runtime, training version:1.21.0, current version:1.20.0\n",
      "Package:azureml-core, training version:1.21.0.post1, current version:1.20.0\n",
      "Package:azureml-dataprep, training version:2.8.2, current version:2.7.3\n",
      "Package:azureml-dataprep-native, training version:28.0.0, current version:27.0.0\n",
      "Package:azureml-dataprep-rslex, training version:1.6.0, current version:1.5.0\n",
      "Package:azureml-dataset-runtime, training version:1.21.0, current version:1.20.0\n",
      "Package:azureml-defaults, training version:1.21.0, current version:1.20.0\n",
      "Package:azureml-interpret, training version:1.21.0, current version:1.20.0\n",
      "Package:azureml-pipeline-core, training version:1.21.0, current version:1.20.0\n",
      "Package:azureml-telemetry, training version:1.21.0, current version:1.20.0\n",
      "Package:azureml-train-automl-client, training version:1.21.0, current version:1.20.0\n",
      "Package:azureml-train-automl-runtime, training version:1.21.0, current version:1.20.0\n",
      "WARNING:root:Please ensure the version of your local conda dependencies match the version on which your model was trained in order to properly retrieve your model.\n"
     ]
    },
    {
     "name": "stdout",
     "output_type": "stream",
     "text": [
      "Best Run ID:  AutoML_40e1c0a8-d132-4964-879c-fc7387625e0c_58\n",
      "------------------------------\n",
      "AutoML best run AUC_weighted:  {'AUC_weighted': 0.9202386822898265}\n",
      "------------------------------\n",
      "Metrics:  {'AUC_macro': 0.9202386822898264, 'precision_score_micro': 0.849425287356322, 'f1_score_micro': 0.849425287356322, 'average_precision_score_macro': 0.9099599742551107, 'AUC_weighted': 0.9202386822898265, 'average_precision_score_micro': 0.92499397979046, 'average_precision_score_weighted': 0.9332734103249946, 'recall_score_weighted': 0.849425287356322, 'weighted_accuracy': 0.8726849626230496, 'accuracy': 0.849425287356322, 'balanced_accuracy': 0.814181859870361, 'log_loss': 0.424864291256536, 'matthews_correlation': 0.6586729324826095, 'recall_score_macro': 0.814181859870361, 'recall_score_micro': 0.849425287356322, 'precision_score_macro': 0.8475491429496007, 'precision_score_weighted': 0.8633112103039389, 'AUC_micro': 0.919132778438367, 'f1_score_macro': 0.8163841247547395, 'norm_macro_recall': 0.628363719740722, 'f1_score_weighted': 0.8435704960466055, 'accuracy_table': 'aml://artifactId/ExperimentRun/dcid.AutoML_40e1c0a8-d132-4964-879c-fc7387625e0c_58/accuracy_table', 'confusion_matrix': 'aml://artifactId/ExperimentRun/dcid.AutoML_40e1c0a8-d132-4964-879c-fc7387625e0c_58/confusion_matrix'}\n",
      "------------------------------\n",
      "Fitted model and its hyperparameters :  ('prefittedsoftvotingclassifier', PreFittedSoftVotingClassifier(classification_labels=None,\n",
      "                              estimators=[('39',\n",
      "                                           Pipeline(memory=None,\n",
      "                                                    steps=[('standardscalerwrapper',\n",
      "                                                            <azureml.automl.runtime.shared.model_wrappers.StandardScalerWrapper object at 0x7f80d9a61630>),\n",
      "                                                           ('randomforestclassifier',\n",
      "                                                            RandomForestClassifier(bootstrap=True,\n",
      "                                                                                   ccp_alpha=0.0,\n",
      "                                                                                   class_weight=None,\n",
      "                                                                                   criterion='gini',\n",
      "                                                                                   max_depth=None,\n",
      "                                                                                   ma...\n",
      "                                                                                 min_weight_fraction_leaf=0.0,\n",
      "                                                                                 n_estimators=10,\n",
      "                                                                                 n_jobs=1,\n",
      "                                                                                 oob_score=True,\n",
      "                                                                                 random_state=None,\n",
      "                                                                                 verbose=0,\n",
      "                                                                                 warm_start=False))],\n",
      "                                                    verbose=False))],\n",
      "                              flatten_transform=None,\n",
      "                              weights=[0.06666666666666667, 0.06666666666666667,\n",
      "                                       0.06666666666666667, 0.06666666666666667,\n",
      "                                       0.13333333333333333, 0.06666666666666667,\n",
      "                                       0.06666666666666667, 0.13333333333333333,\n",
      "                                       0.06666666666666667, 0.06666666666666667,\n",
      "                                       0.2]))\n"
     ]
    }
   ],
   "source": [
    "# Retrieving and saving the best automl model\n",
    "automl_best_run, fitted_automl_model = automl_run.get_output() \n",
    "\n",
    "run_dict = automl_best_run.get_details()\n",
    "\n",
    "print(\"Best Run ID: \", run_dict[\"runId\"])\n",
    "print(\"---\"*10)\n",
    "print(\"AutoML best run AUC_weighted: \", automl_best_run.get_metrics(name=\"AUC_weighted\"))\n",
    "print(\"---\"*10)\n",
    "print(\"Metrics: \", automl_best_run.get_metrics())\n",
    "print(\"---\"*10)\n",
    "print(\"Fitted model and its hyperparameters : \", fitted_automl_model.steps[-1])\n",
    "\n"
   ]
  },
  {
   "cell_type": "code",
   "execution_count": 13,
   "metadata": {},
   "outputs": [
    {
     "name": "stdout",
     "output_type": "stream",
     "text": [
      "AutoML Run Summary:  [['StackEnsemble', 1, 0.9093750718749003], ['VotingEnsemble', 1, 0.9202386822898265], ['Failed', 3, nan], ['LightGBM', 9, nan], ['RandomForest', 16, 0.9119456066054467], ['XGBoostClassifier', 12, 0.9107445687946261], ['GradientBoosting', 3, 0.909607640670627], ['ExtremeRandomTrees', 11, 0.905236843095882], ['SVM', 1, 0.8679598190964896], ['KNN', 2, 0.7496161006793443], ['SGD', 1, 0.8670809643784473]]\n"
     ]
    }
   ],
   "source": [
    "print(\"AutoML Run Summary: \", automl_run.summary())"
   ]
  },
  {
   "cell_type": "code",
   "execution_count": 14,
   "metadata": {
    "gather": {
     "logged": 1598431426111
    },
    "jupyter": {
     "outputs_hidden": false,
     "source_hidden": false
    },
    "nteract": {
     "transient": {
      "deleting": false
     }
    }
   },
   "outputs": [],
   "source": [
    "#TODO: Save the best model\n",
    "os.makedirs('outputs', exist_ok=True)\n",
    "\n",
    "model = automl_best_run.register_model(model_name = 'automl_best_model', model_path = './outputs/model.pkl')"
   ]
  },
  {
   "cell_type": "code",
   "execution_count": 15,
   "metadata": {},
   "outputs": [
    {
     "name": "stdout",
     "output_type": "stream",
     "text": [
      "Model(workspace=Workspace.create(name='quick-starts-ws-138239', subscription_id='61c5c3f0-6dc7-4ed9-a7f3-c704b20e3b30', resource_group='aml-quickstarts-138239'), name=automl_best_model, id=automl_best_model:1, version=1, tags={}, properties={})\n"
     ]
    }
   ],
   "source": [
    "print(model)#TODO: Save the best model\n",
    "os.makedirs('outputs', exist_ok=True)\n",
    "\n",
    "model = automl_best_run.register_model(model_name = 'automl_best_model', model_path = './outputs/model.pkl')"
   ]
  },
  {
   "cell_type": "markdown",
   "metadata": {},
   "source": [
    "## Model Deployment\n",
    "\n",
    "Remember you have to deploy only one of the two models you trained.. Perform the steps in the rest of this notebook only if you wish to deploy this model.\n",
    "\n",
    "TODO: In the cell below, register the model, create an inference config and deploy the model as a web service."
   ]
  },
  {
   "cell_type": "code",
   "execution_count": 16,
   "metadata": {},
   "outputs": [
    {
     "data": {
      "text/plain": [
       "['accuracy_table',\n",
       " 'automl_driver.py',\n",
       " 'azureml-logs/55_azureml-execution-tvmps_a126919a8c02e57f7e517a99050e5c42661e3e2ab5db63a0984edbabb70d9f3b_d.txt',\n",
       " 'azureml-logs/65_job_prep-tvmps_a126919a8c02e57f7e517a99050e5c42661e3e2ab5db63a0984edbabb70d9f3b_d.txt',\n",
       " 'azureml-logs/70_driver_log.txt',\n",
       " 'azureml-logs/75_job_post-tvmps_a126919a8c02e57f7e517a99050e5c42661e3e2ab5db63a0984edbabb70d9f3b_d.txt',\n",
       " 'azureml-logs/process_info.json',\n",
       " 'azureml-logs/process_status.json',\n",
       " 'confusion_matrix',\n",
       " 'logs/azureml/105_azureml.log',\n",
       " 'logs/azureml/azureml_automl.log',\n",
       " 'logs/azureml/job_prep_azureml.log',\n",
       " 'logs/azureml/job_release_azureml.log',\n",
       " 'outputs/conda_env_v_1_0_0.yml',\n",
       " 'outputs/env_dependencies.json',\n",
       " 'outputs/internal_cross_validated_models.pkl',\n",
       " 'outputs/model.pkl',\n",
       " 'outputs/pipeline_graph.json',\n",
       " 'outputs/scoring_file_v_1_0_0.py']"
      ]
     },
     "execution_count": 16,
     "metadata": {},
     "output_type": "execute_result"
    }
   ],
   "source": [
    "automl_best_run.get_file_names()"
   ]
  },
  {
   "cell_type": "code",
   "execution_count": 17,
   "metadata": {
    "gather": {
     "logged": 1598431435189
    },
    "jupyter": {
     "outputs_hidden": false,
     "source_hidden": false
    },
    "nteract": {
     "transient": {
      "deleting": false
     }
    }
   },
   "outputs": [],
   "source": [
    "# Reference: https://docs.microsoft.com/en-us/azure/machine-learning/how-to-deploy-existing-model\n",
    "\n",
    "\n",
    "# Downloading the scoring file \n",
    "\n",
    "automl_best_run.download_file('outputs/scoring_file_v_1_0_0.py' , 'score.py')\n"
   ]
  },
  {
   "cell_type": "code",
   "execution_count": 18,
   "metadata": {},
   "outputs": [],
   "source": [
    "# Downloading conda environment \n",
    "automl_best_run.download_file('outputs/conda_env_v_1_0_0.yml' , 'env.yml')"
   ]
  },
  {
   "cell_type": "code",
   "execution_count": 19,
   "metadata": {},
   "outputs": [
    {
     "name": "stdout",
     "output_type": "stream",
     "text": [
      "Tips: You can try get_logs(): https://aka.ms/debugimage#dockerlog or local deployment: https://aka.ms/debugimage#debug-locally to debug if deployment takes longer than 10 minutes.\n",
      "Running........................................\n",
      "Succeeded\n",
      "ACI service creation operation finished, operation \"Succeeded\"\n"
     ]
    }
   ],
   "source": [
    "from azureml.core import Model\n",
    "# Creating the environment\n",
    "#env=Environment.from_conda_specification(name='env',file_path = \"env.yml\")\n",
    "env = Environment.get(workspace=ws, name=\"AzureML-AutoML\")\n",
    "# Creating an inference config\n",
    "inference_config = InferenceConfig(entry_script=\"score.py\",\n",
    "                                   environment=env)\n",
    "\n",
    "# Deploying the model as a web service to an Azure Container Instance (ACI)\n",
    "service_name = 'heartfprediction'\n",
    "aci_config = AciWebservice.deploy_configuration(cpu_cores=1, memory_gb=1)\n",
    "\n",
    "webservice = Model.deploy(workspace=ws,\n",
    "                       name=service_name,\n",
    "                       models=[model],\n",
    "                       inference_config=inference_config,\n",
    "                       deployment_config=aci_config)\n",
    "\n",
    "webservice.wait_for_deployment(show_output=True)\n"
   ]
  },
  {
   "cell_type": "code",
   "execution_count": 20,
   "metadata": {},
   "outputs": [
    {
     "name": "stdout",
     "output_type": "stream",
     "text": [
      "Healthy\n"
     ]
    }
   ],
   "source": [
    "print(webservice.state)"
   ]
  },
  {
   "cell_type": "code",
   "execution_count": 21,
   "metadata": {},
   "outputs": [
    {
     "name": "stdout",
     "output_type": "stream",
     "text": [
      "2021-02-09T08:45:46,208804600+00:00 - iot-server/run \n",
      "2021-02-09T08:45:46,209816800+00:00 - rsyslog/run \n",
      "2021-02-09T08:45:46,227878400+00:00 - gunicorn/run \n",
      "2021-02-09T08:45:46,270070100+00:00 - nginx/run \n",
      "/usr/sbin/nginx: /azureml-envs/azureml_7ade26eb614f97df8030bc480da59236/lib/libcrypto.so.1.0.0: no version information available (required by /usr/sbin/nginx)\n",
      "/usr/sbin/nginx: /azureml-envs/azureml_7ade26eb614f97df8030bc480da59236/lib/libcrypto.so.1.0.0: no version information available (required by /usr/sbin/nginx)\n",
      "/usr/sbin/nginx: /azureml-envs/azureml_7ade26eb614f97df8030bc480da59236/lib/libssl.so.1.0.0: no version information available (required by /usr/sbin/nginx)\n",
      "/usr/sbin/nginx: /azureml-envs/azureml_7ade26eb614f97df8030bc480da59236/lib/libssl.so.1.0.0: no version information available (required by /usr/sbin/nginx)\n",
      "/usr/sbin/nginx: /azureml-envs/azureml_7ade26eb614f97df8030bc480da59236/lib/libssl.so.1.0.0: no version information available (required by /usr/sbin/nginx)\n",
      "rsyslogd: /azureml-envs/azureml_7ade26eb614f97df8030bc480da59236/lib/libuuid.so.1: no version information available (required by rsyslogd)\n",
      "EdgeHubConnectionString and IOTEDGE_IOTHUBHOSTNAME are not set. Exiting...\n",
      "2021-02-09T08:45:48,117365300+00:00 - iot-server/finish 1 0\n",
      "2021-02-09T08:45:48,162771100+00:00 - Exit code 1 is normal. Not restarting iot-server.\n",
      "Starting gunicorn 19.9.0\n",
      "Listening at: http://127.0.0.1:31311 (67)\n",
      "Using worker: sync\n",
      "worker timeout is set to 300\n",
      "Booting worker with pid: 97\n",
      "SPARK_HOME not set. Skipping PySpark Initialization.\n",
      "Generating new fontManager, this may take some time...\n",
      "Initializing logger\n",
      "2021-02-09 08:45:54,048 | root | INFO | Starting up app insights client\n",
      "2021-02-09 08:45:54,049 | root | INFO | Starting up request id generator\n",
      "2021-02-09 08:45:54,049 | root | INFO | Starting up app insight hooks\n",
      "2021-02-09 08:45:54,050 | root | INFO | Invoking user's init function\n",
      "2021-02-09 08:46:06,901 | root | INFO | Users's init has completed successfully\n",
      "2021-02-09 08:46:06,953 | root | INFO | Skipping middleware: dbg_model_info as it's not enabled.\n",
      "2021-02-09 08:46:06,953 | root | INFO | Skipping middleware: dbg_resource_usage as it's not enabled.\n",
      "2021-02-09 08:46:06,959 | root | INFO | Scoring timeout is found from os.environ: 60000 ms\n",
      "2021-02-09 08:46:07,019 | root | INFO | 200\n",
      "127.0.0.1 - - [09/Feb/2021:08:46:07 +0000] \"GET /swagger.json HTTP/1.0\" 200 2844 \"-\" \"Go-http-client/1.1\"\n",
      "2021-02-09 08:46:09,280 | root | INFO | 200\n",
      "127.0.0.1 - - [09/Feb/2021:08:46:09 +0000] \"GET /swagger.json HTTP/1.0\" 200 2844 \"-\" \"Go-http-client/1.1\"\n",
      "2021-02-09 08:46:29,224 | root | INFO | 200\n",
      "127.0.0.1 - - [09/Feb/2021:08:46:29 +0000] \"GET /swagger.json HTTP/1.0\" 200 2844 \"-\" \"Go-http-client/1.1\"\n",
      "2021-02-09 08:46:35,490 | root | INFO | 200\n",
      "127.0.0.1 - - [09/Feb/2021:08:46:35 +0000] \"GET /swagger.json HTTP/1.0\" 200 2844 \"-\" \"Go-http-client/1.1\"\n",
      "\n"
     ]
    }
   ],
   "source": [
    "print(webservice.get_logs())"
   ]
  },
  {
   "cell_type": "markdown",
   "metadata": {
    "collapsed": true,
    "gather": {
     "logged": 1598431657736
    },
    "jupyter": {
     "outputs_hidden": false,
     "source_hidden": false
    },
    "nteract": {
     "transient": {
      "deleting": false
     }
    }
   },
   "source": [
    "TODO: In the cell below, send a request to the web service you deployed to test it."
   ]
  },
  {
   "cell_type": "code",
   "execution_count": 22,
   "metadata": {},
   "outputs": [
    {
     "name": "stdout",
     "output_type": "stream",
     "text": [
      "{\"data\": [{\"age\": 75.0, \"anaemia\": 0, \"creatinine_phosphokinase\": 582, \"diabetes\": 0, \"ejection_fraction\": 20, \"high_blood_pressure\": 1, \"platelets\": 265000.0, \"serum_creatinine\": 1.9, \"serum_sodium\": 130, \"sex\": 1, \"smoking\": 0, \"time\": 4}, {\"age\": 55.0, \"anaemia\": 0, \"creatinine_phosphokinase\": 7861, \"diabetes\": 0, \"ejection_fraction\": 38, \"high_blood_pressure\": 0, \"platelets\": 263358.03, \"serum_creatinine\": 1.1, \"serum_sodium\": 136, \"sex\": 1, \"smoking\": 0, \"time\": 6}, {\"age\": 65.0, \"anaemia\": 0, \"creatinine_phosphokinase\": 146, \"diabetes\": 0, \"ejection_fraction\": 20, \"high_blood_pressure\": 0, \"platelets\": 162000.0, \"serum_creatinine\": 1.3, \"serum_sodium\": 129, \"sex\": 1, \"smoking\": 1, \"time\": 7}, {\"age\": 50.0, \"anaemia\": 1, \"creatinine_phosphokinase\": 111, \"diabetes\": 0, \"ejection_fraction\": 20, \"high_blood_pressure\": 0, \"platelets\": 210000.0, \"serum_creatinine\": 1.9, \"serum_sodium\": 137, \"sex\": 1, \"smoking\": 0, \"time\": 7}]}\n"
     ]
    }
   ],
   "source": [
    "# Reference: https://github.com/Azure/MachineLearningNotebooks/blob/master/how-to-use-azureml/deployment/deploy-to-cloud/model-register-and-deploy.ipynb \n",
    "# and endpoint.py file used in Project 2\n",
    "scoring_uri = \"http://2916d686-189a-43c4-9622-777c8f480910.southcentralus.azurecontainer.io/score\"\n",
    "########## \n",
    "df = df.drop(columns=[\"DEATH_EVENT\"])\n",
    "\n",
    "input_data = json.dumps({\n",
    "    'data': df[0:4].to_dict(orient='records')\n",
    "})\n",
    "\n",
    "\n",
    "print(input_data)\n",
    "    "
   ]
  },
  {
   "cell_type": "code",
   "execution_count": 23,
   "metadata": {},
   "outputs": [],
   "source": [
    "with open(\"data.json\", \"w\") as _f:\n",
    "    _f.write(input_data)\n",
    "    \n",
    "#######################################################    \n",
    "\n",
    "# Set the content type\n",
    "headers = {'Content-Type': 'application/json'}\n",
    "# If authentication is enabled, set the authorization header\n",
    "# headers['Authorization'] = f'Bearer {key}'\n",
    "\n",
    "# Make the request and display the response\n",
    "resp = requests.post(scoring_uri, input_data, headers=headers)\n",
    "  "
   ]
  },
  {
   "cell_type": "code",
   "execution_count": 25,
   "metadata": {},
   "outputs": [
    {
     "name": "stdout",
     "output_type": "stream",
     "text": [
      "Deployment state: Healthy\n",
      "Scoring URI: http://2916d686-189a-43c4-9622-777c8f480910.southcentralus.azurecontainer.io/score\n",
      "Swagger URI: http://2916d686-189a-43c4-9622-777c8f480910.southcentralus.azurecontainer.io/swagger.json\n"
     ]
    }
   ],
   "source": [
    "print(\"Deployment state: \" + webservice.state)\n",
    "print(\"Scoring URI: \" + webservice.scoring_uri)\n",
    "print(\"Swagger URI: \" + webservice.swagger_uri)"
   ]
  },
  {
   "cell_type": "code",
   "execution_count": 26,
   "metadata": {},
   "outputs": [
    {
     "name": "stdout",
     "output_type": "stream",
     "text": [
      "{\"result\": [1, 1, 1, 1]}\n"
     ]
    }
   ],
   "source": [
    "print(resp.json()) "
   ]
  },
  {
   "cell_type": "markdown",
   "metadata": {
    "collapsed": true,
    "gather": {
     "logged": 1598432765711
    },
    "jupyter": {
     "outputs_hidden": false,
     "source_hidden": false
    },
    "nteract": {
     "transient": {
      "deleting": false
     }
    }
   },
   "source": [
    "TODO: In the cell below, print the logs of the web service and delete the service"
   ]
  },
  {
   "cell_type": "code",
   "execution_count": 27,
   "metadata": {
    "jupyter": {
     "outputs_hidden": false,
     "source_hidden": false
    },
    "nteract": {
     "transient": {
      "deleting": false
     }
    }
   },
   "outputs": [
    {
     "data": {
      "text/plain": [
       "'2021-02-09T08:45:46,208804600+00:00 - iot-server/run \\n2021-02-09T08:45:46,209816800+00:00 - rsyslog/run \\n2021-02-09T08:45:46,227878400+00:00 - gunicorn/run \\n2021-02-09T08:45:46,270070100+00:00 - nginx/run \\n/usr/sbin/nginx: /azureml-envs/azureml_7ade26eb614f97df8030bc480da59236/lib/libcrypto.so.1.0.0: no version information available (required by /usr/sbin/nginx)\\n/usr/sbin/nginx: /azureml-envs/azureml_7ade26eb614f97df8030bc480da59236/lib/libcrypto.so.1.0.0: no version information available (required by /usr/sbin/nginx)\\n/usr/sbin/nginx: /azureml-envs/azureml_7ade26eb614f97df8030bc480da59236/lib/libssl.so.1.0.0: no version information available (required by /usr/sbin/nginx)\\n/usr/sbin/nginx: /azureml-envs/azureml_7ade26eb614f97df8030bc480da59236/lib/libssl.so.1.0.0: no version information available (required by /usr/sbin/nginx)\\n/usr/sbin/nginx: /azureml-envs/azureml_7ade26eb614f97df8030bc480da59236/lib/libssl.so.1.0.0: no version information available (required by /usr/sbin/nginx)\\nrsyslogd: /azureml-envs/azureml_7ade26eb614f97df8030bc480da59236/lib/libuuid.so.1: no version information available (required by rsyslogd)\\nEdgeHubConnectionString and IOTEDGE_IOTHUBHOSTNAME are not set. Exiting...\\n2021-02-09T08:45:48,117365300+00:00 - iot-server/finish 1 0\\n2021-02-09T08:45:48,162771100+00:00 - Exit code 1 is normal. Not restarting iot-server.\\nStarting gunicorn 19.9.0\\nListening at: http://127.0.0.1:31311 (67)\\nUsing worker: sync\\nworker timeout is set to 300\\nBooting worker with pid: 97\\nSPARK_HOME not set. Skipping PySpark Initialization.\\nGenerating new fontManager, this may take some time...\\nInitializing logger\\n2021-02-09 08:45:54,048 | root | INFO | Starting up app insights client\\n2021-02-09 08:45:54,049 | root | INFO | Starting up request id generator\\n2021-02-09 08:45:54,049 | root | INFO | Starting up app insight hooks\\n2021-02-09 08:45:54,050 | root | INFO | Invoking user\\'s init function\\n2021-02-09 08:46:06,901 | root | INFO | Users\\'s init has completed successfully\\n2021-02-09 08:46:06,953 | root | INFO | Skipping middleware: dbg_model_info as it\\'s not enabled.\\n2021-02-09 08:46:06,953 | root | INFO | Skipping middleware: dbg_resource_usage as it\\'s not enabled.\\n2021-02-09 08:46:06,959 | root | INFO | Scoring timeout is found from os.environ: 60000 ms\\n2021-02-09 08:46:07,019 | root | INFO | 200\\n127.0.0.1 - - [09/Feb/2021:08:46:07 +0000] \"GET /swagger.json HTTP/1.0\" 200 2844 \"-\" \"Go-http-client/1.1\"\\n2021-02-09 08:46:09,280 | root | INFO | 200\\n127.0.0.1 - - [09/Feb/2021:08:46:09 +0000] \"GET /swagger.json HTTP/1.0\" 200 2844 \"-\" \"Go-http-client/1.1\"\\n2021-02-09 08:46:29,224 | root | INFO | 200\\n127.0.0.1 - - [09/Feb/2021:08:46:29 +0000] \"GET /swagger.json HTTP/1.0\" 200 2844 \"-\" \"Go-http-client/1.1\"\\n2021-02-09 08:46:35,490 | root | INFO | 200\\n127.0.0.1 - - [09/Feb/2021:08:46:35 +0000] \"GET /swagger.json HTTP/1.0\" 200 2844 \"-\" \"Go-http-client/1.1\"\\n2021-02-09 08:47:28,925 | root | INFO | Validation Request Content-Type\\n2021-02-09 08:47:28,927 | root | INFO | Scoring Timer is set to 60.0 seconds\\n2021-02-09 08:47:29,277 | root | INFO | 200\\n127.0.0.1 - - [09/Feb/2021:08:47:29 +0000] \"POST /score HTTP/1.0\" 200 28 \"-\" \"python-requests/2.25.1\"\\n'"
      ]
     },
     "execution_count": 27,
     "metadata": {},
     "output_type": "execute_result"
    }
   ],
   "source": [
    "# Retrieve logs for this Webservice\n",
    "webservice.get_logs()\n"
   ]
  },
  {
   "cell_type": "code",
   "execution_count": 36,
   "metadata": {},
   "outputs": [],
   "source": [
    "# Delete service\n",
    "webservice.delete()"
   ]
  },
  {
   "cell_type": "code",
   "execution_count": null,
   "metadata": {},
   "outputs": [],
   "source": []
  }
 ],
 "metadata": {
  "kernel_info": {
   "name": "python3"
  },
  "kernelspec": {
   "display_name": "Python 3",
   "language": "python",
   "name": "python3"
  },
  "language_info": {
   "codemirror_mode": {
    "name": "ipython",
    "version": 3
   },
   "file_extension": ".py",
   "mimetype": "text/x-python",
   "name": "python",
   "nbconvert_exporter": "python",
   "pygments_lexer": "ipython3",
   "version": "3.6.9"
  },
  "nteract": {
   "version": "nteract-front-end@1.0.0"
  }
 },
 "nbformat": 4,
 "nbformat_minor": 2
}
